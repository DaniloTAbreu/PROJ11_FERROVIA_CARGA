{
 "cells": [
  {
   "cell_type": "markdown",
   "metadata": {},
   "source": [
    "# <font color='blue'>Problema de Análise da Eficiência do Transporte Ferroviário e Identificação de Oportunidades de Melhoria</font>"
   ]
  },
  {
   "cell_type": "markdown",
   "metadata": {},
   "source": [
    "# 1 - Definindo o problema de negócio"
   ]
  },
  {
   "cell_type": "markdown",
   "metadata": {},
   "source": [
    "### Você foi contratado por uma empresa de transporte ferroviário para desenvolver um modelo de previsão de atrasos de trens. O objetivo é prever se um trem chegará atrasado em uma determinada estação com base em uma variedade de fatores, como condições climáticas, manutenção da linha, tráfego de outros trens, entre outros.\n"
   ]
  },
  {
   "cell_type": "markdown",
   "metadata": {},
   "source": [
    "# 2 - Decisões"
   ]
  },
  {
   "cell_type": "markdown",
   "metadata": {},
   "source": [
    "### O problema de negócio já informa que é requerido um modelo de Machine Learning de classificação. No dataset, temos a coluna Status” que é a variável que queremos prever. Desta forma, iremos utilizar aprendizagem supervisionada."
   ]
  },
  {
   "cell_type": "markdown",
   "metadata": {},
   "source": [
    "# 3 - Versão python e import dos pacotes utilizados"
   ]
  },
  {
   "cell_type": "code",
   "execution_count": 1,
   "metadata": {},
   "outputs": [
    {
     "name": "stdout",
     "output_type": "stream",
     "text": [
      "Versão da Linguagem Python Usada Neste Jupyter Notebook: 3.12.4\n"
     ]
    }
   ],
   "source": [
    "# Versão da Linguagem Python\n",
    "from platform import python_version\n",
    "print('Versão da Linguagem Python Usada Neste Jupyter Notebook:', python_version())"
   ]
  },
  {
   "cell_type": "code",
   "execution_count": 2,
   "metadata": {},
   "outputs": [],
   "source": [
    "# Para atualizar um pacote, execute o comando abaixo no terminal ou prompt de comando:\n",
    "# pip install -U nome_pacote\n",
    "\n",
    "# Para instalar a versão exata de um pacote, execute o comando abaixo no terminal ou prompt de comando:\n",
    "#!pip install nome_pacote==versão_desejada\n",
    "\n",
    "# Depois de instalar ou atualizar o pacote, reinicie o jupyter notebook.\n",
    "\n",
    "# Instala o pacote watermark. \n",
    "# Esse pacote é usado para gravar as versões de outros pacotes usados neste jupyter notebook.\n",
    "#!pip install -q -U watermark"
   ]
  },
  {
   "cell_type": "code",
   "execution_count": 15,
   "metadata": {},
   "outputs": [],
   "source": [
    "# Imports\n",
    "import numpy as np\n",
    "import pandas as pd\n",
    "import matplotlib.pyplot as plt\n",
    "import seaborn as sns\n",
    "import sklearn\n",
    "import chardet\n",
    "import glob\n",
    "import os\n",
    "from sklearn.model_selection import cross_val_score\n",
    "from sklearn.model_selection import GridSearchCV\n",
    "from sklearn.model_selection import train_test_split\n",
    "from sklearn.feature_selection import RFE\n",
    "from sklearn.preprocessing import StandardScaler\n",
    "from imblearn.under_sampling import RandomUnderSampler\n",
    "from sklearn.linear_model import LogisticRegression\n",
    "from sklearn.ensemble import RandomForestClassifier\n",
    "from sklearn.svm import SVC\n",
    "from sklearn.neural_network import MLPClassifier\n",
    "from xgboost import XGBClassifier\n",
    "from lightgbm import LGBMClassifier\n",
    "from sklearn.metrics import classification_report\n",
    "from sklearn.metrics import roc_curve, auc, roc_auc_score, confusion_matrix\n",
    "from sklearn.metrics import accuracy_score\n",
    "from datetime import datetime\n",
    "from dateutil.parser import parse\n",
    "%matplotlib inline \n",
    "import warnings\n",
    "warnings.filterwarnings(\"ignore\", category=FutureWarning)"
   ]
  },
  {
   "cell_type": "code",
   "execution_count": 16,
   "metadata": {},
   "outputs": [
    {
     "name": "stdout",
     "output_type": "stream",
     "text": [
      "Author: Danilo Temerloglou de Abreu\n",
      "\n",
      "numpy     : 1.26.4\n",
      "sklearn   : 1.4.2\n",
      "pandas    : 2.2.2\n",
      "matplotlib: 3.8.4\n",
      "chardet   : 4.0.0\n",
      "seaborn   : 0.13.2\n",
      "\n"
     ]
    }
   ],
   "source": [
    "# Versões dos pacotes usados neste jupyter notebook\n",
    "%reload_ext watermark\n",
    "%watermark -a \"Danilo Temerloglou de Abreu\" --iversions"
   ]
  },
  {
   "cell_type": "markdown",
   "metadata": {},
   "source": [
    "# 4 - Dicionário de dados"
   ]
  },
  {
   "cell_type": "code",
   "execution_count": 17,
   "metadata": {},
   "outputs": [],
   "source": [
    "#mes_ano - Data MM_AA Ano mês de referência.\n",
    "#ferrovia - Concessionária responsável pelo fluxo.\n",
    "#mercadoria_antt - Mercadoria transportada.\n",
    "#estacao_origem - Sigla da estação de Origem.\n",
    "#uf_origem - Unidade Federativa de Origem.\n",
    "#estacao_destino - Sigla da estação de Destino.\n",
    "#uf_destino - Unidade Federativa de Destino.\n",
    "#tu - Toneladas.\n",
    "#tku - Tonelada-Km Útil "
   ]
  },
  {
   "cell_type": "markdown",
   "metadata": {},
   "source": [
    "# 5 - Carregando e Salvando o Conjunto de dados"
   ]
  },
  {
   "cell_type": "code",
   "execution_count": 22,
   "metadata": {},
   "outputs": [
    {
     "name": "stdout",
     "output_type": "stream",
     "text": [
      "Lendo C:\\Users\\Danilo\\PROJETOS\\PROJETO11_FERROVIA_CARGA\\producao_origem_destino_2013.csv com codificação ISO-8859-1\n",
      "Lendo C:\\Users\\Danilo\\PROJETOS\\PROJETO11_FERROVIA_CARGA\\producao_origem_destino_2014.csv com codificação ISO-8859-1\n",
      "Lendo C:\\Users\\Danilo\\PROJETOS\\PROJETO11_FERROVIA_CARGA\\producao_origem_destino_2015.csv com codificação ISO-8859-1\n",
      "Lendo C:\\Users\\Danilo\\PROJETOS\\PROJETO11_FERROVIA_CARGA\\producao_origem_destino_2016.csv com codificação ISO-8859-1\n",
      "Lendo C:\\Users\\Danilo\\PROJETOS\\PROJETO11_FERROVIA_CARGA\\producao_origem_destino_2017.csv com codificação ISO-8859-1\n",
      "Lendo C:\\Users\\Danilo\\PROJETOS\\PROJETO11_FERROVIA_CARGA\\producao_origem_destino_2018.csv com codificação ISO-8859-1\n",
      "Lendo C:\\Users\\Danilo\\PROJETOS\\PROJETO11_FERROVIA_CARGA\\producao_origem_destino_2019.csv com codificação ISO-8859-1\n",
      "Lendo C:\\Users\\Danilo\\PROJETOS\\PROJETO11_FERROVIA_CARGA\\producao_origem_destino_2020.csv com codificação ISO-8859-1\n",
      "Lendo C:\\Users\\Danilo\\PROJETOS\\PROJETO11_FERROVIA_CARGA\\producao_origem_destino_2021.csv com codificação ISO-8859-1\n",
      "Lendo C:\\Users\\Danilo\\PROJETOS\\PROJETO11_FERROVIA_CARGA\\producao_origem_destino_2022.csv com codificação ISO-8859-1\n",
      "Lendo C:\\Users\\Danilo\\PROJETOS\\PROJETO11_FERROVIA_CARGA\\producao_origem_destino_2023.csv com codificação ISO-8859-1\n"
     ]
    }
   ],
   "source": [
    "# Diretório onde os arquivos CSV estão localizados\n",
    "diretorio = r'C:\\Users\\Danilo\\PROJETOS\\PROJETO11_FERROVIA_CARGA'\n",
    "\n",
    "# Padrão de busca para arquivos CSV\n",
    "padrao = os.path.join(diretorio, 'producao_origem_destino_*.csv')\n",
    "\n",
    "# Encontrar todos os arquivos CSV que correspondem ao padrão\n",
    "arquivos_csv = glob.glob(padrao)\n",
    "\n",
    "# Lista para armazenar os DataFrames individuais\n",
    "dataframes = []\n",
    "\n",
    "# Função para detectar codificação e ler arquivo CSV\n",
    "def ler_csv_com_codificacao(arquivo):\n",
    "    # Detectar a codificação do arquivo\n",
    "    with open(arquivo, 'rb') as f:\n",
    "        resultado = chardet.detect(f.read())\n",
    "    codificacao = resultado['encoding']\n",
    "    print(f\"Lendo {arquivo} com codificação {codificacao}\")\n",
    "    \n",
    "    # Ler o arquivo CSV com a codificação detectada\n",
    "    return pd.read_csv(arquivo, encoding=codificacao, delimiter=';')\n",
    "\n",
    "# Ler cada arquivo CSV e adicioná-lo à lista de DataFrames\n",
    "for arquivo in arquivos_csv:\n",
    "    try:\n",
    "        df = ler_csv_com_codificacao(arquivo)\n",
    "        dataframes.append(df)\n",
    "    except Exception as e:\n",
    "        print(f\"Erro ao ler {arquivo}: {e}\")\n",
    "\n",
    "# Concatenar todos os DataFrames em um único DataFrame\n",
    "df_combinado = pd.concat(dataframes, ignore_index=True)"
   ]
  },
  {
   "cell_type": "code",
   "execution_count": 23,
   "metadata": {},
   "outputs": [
    {
     "name": "stdout",
     "output_type": "stream",
     "text": [
      "DataFrame salvo em df_combinado.pkl\n"
     ]
    }
   ],
   "source": [
    "# Caminho para o arquivo pickle\n",
    "caminho_pickle = 'df_combinado.pkl'\n",
    "\n",
    "# Salvar o DataFrame em um arquivo pickle\n",
    "df_combinado.to_pickle(caminho_pickle)\n",
    "\n",
    "print(f\"DataFrame salvo em {caminho_pickle}\")"
   ]
  },
  {
   "cell_type": "markdown",
   "metadata": {},
   "source": [
    "# 6 - Carregando o Conjunto de dados completo já persistido"
   ]
  },
  {
   "cell_type": "code",
   "execution_count": 26,
   "metadata": {},
   "outputs": [
    {
     "name": "stdout",
     "output_type": "stream",
     "text": [
      "DataFrame carregado:\n"
     ]
    }
   ],
   "source": [
    "# Caminho para o arquivo pickle\n",
    "caminho_pickle = 'df_combinado.pkl'\n",
    "\n",
    "# Carregar o DataFrame a partir do arquivo pickle\n",
    "df = pd.read_pickle(caminho_pickle)\n",
    "\n",
    "print(\"DataFrame carregado\")"
   ]
  },
  {
   "cell_type": "markdown",
   "metadata": {},
   "source": [
    "# 7 - EDA Análise Exploratória de Dados"
   ]
  },
  {
   "cell_type": "code",
   "execution_count": 27,
   "metadata": {},
   "outputs": [
    {
     "data": {
      "text/plain": [
       "(83599, 9)"
      ]
     },
     "execution_count": 27,
     "metadata": {},
     "output_type": "execute_result"
    }
   ],
   "source": [
    "# Shape\n",
    "df.shape"
   ]
  },
  {
   "cell_type": "code",
   "execution_count": 28,
   "metadata": {},
   "outputs": [
    {
     "data": {
      "text/plain": [
       "Index(['Mes_Ano', 'Ferrovia', 'Mercadoria_ANTT', 'Estacao_Origem', 'UF_Origem',\n",
       "       'Estacao_Destino', 'UF_Destino', 'TU', 'TKU'],\n",
       "      dtype='object')"
      ]
     },
     "execution_count": 28,
     "metadata": {},
     "output_type": "execute_result"
    }
   ],
   "source": [
    "#nomes das colunas\n",
    "df.columns"
   ]
  },
  {
   "cell_type": "code",
   "execution_count": 29,
   "metadata": {},
   "outputs": [
    {
     "name": "stdout",
     "output_type": "stream",
     "text": [
      "<class 'pandas.core.frame.DataFrame'>\n",
      "RangeIndex: 83599 entries, 0 to 83598\n",
      "Data columns (total 9 columns):\n",
      " #   Column           Non-Null Count  Dtype \n",
      "---  ------           --------------  ----- \n",
      " 0   Mes_Ano          83599 non-null  object\n",
      " 1   Ferrovia         83599 non-null  object\n",
      " 2   Mercadoria_ANTT  83599 non-null  object\n",
      " 3   Estacao_Origem   83599 non-null  object\n",
      " 4   UF_Origem        83599 non-null  object\n",
      " 5   Estacao_Destino  83599 non-null  object\n",
      " 6   UF_Destino       83599 non-null  object\n",
      " 7   TU               83599 non-null  object\n",
      " 8   TKU              83599 non-null  object\n",
      "dtypes: object(9)\n",
      "memory usage: 5.7+ MB\n"
     ]
    }
   ],
   "source": [
    "# Info\n",
    "df.info()"
   ]
  },
  {
   "cell_type": "code",
   "execution_count": 30,
   "metadata": {},
   "outputs": [
    {
     "data": {
      "text/html": [
       "<div>\n",
       "<style scoped>\n",
       "    .dataframe tbody tr th:only-of-type {\n",
       "        vertical-align: middle;\n",
       "    }\n",
       "\n",
       "    .dataframe tbody tr th {\n",
       "        vertical-align: top;\n",
       "    }\n",
       "\n",
       "    .dataframe thead th {\n",
       "        text-align: right;\n",
       "    }\n",
       "</style>\n",
       "<table border=\"1\" class=\"dataframe\">\n",
       "  <thead>\n",
       "    <tr style=\"text-align: right;\">\n",
       "      <th></th>\n",
       "      <th>Mes_Ano</th>\n",
       "      <th>Ferrovia</th>\n",
       "      <th>Mercadoria_ANTT</th>\n",
       "      <th>Estacao_Origem</th>\n",
       "      <th>UF_Origem</th>\n",
       "      <th>Estacao_Destino</th>\n",
       "      <th>UF_Destino</th>\n",
       "      <th>TU</th>\n",
       "      <th>TKU</th>\n",
       "    </tr>\n",
       "  </thead>\n",
       "  <tbody>\n",
       "    <tr>\n",
       "      <th>75180</th>\n",
       "      <td>12/2022</td>\n",
       "      <td>FTL</td>\n",
       "      <td>Contêiner Cheio de 20 Pés</td>\n",
       "      <td>Pecem</td>\n",
       "      <td>CE</td>\n",
       "      <td>Aracapé</td>\n",
       "      <td>CE</td>\n",
       "      <td>2.919</td>\n",
       "      <td>168.190</td>\n",
       "    </tr>\n",
       "    <tr>\n",
       "      <th>49147</th>\n",
       "      <td>08/2019</td>\n",
       "      <td>MRS</td>\n",
       "      <td>Prd. Siderúrgicos - Outros</td>\n",
       "      <td>Volta Redonda</td>\n",
       "      <td>RJ</td>\n",
       "      <td>Arará</td>\n",
       "      <td>RJ</td>\n",
       "      <td>4.623</td>\n",
       "      <td>668.777</td>\n",
       "    </tr>\n",
       "    <tr>\n",
       "      <th>74546</th>\n",
       "      <td>11/2022</td>\n",
       "      <td>FTL</td>\n",
       "      <td>Demais Produtos</td>\n",
       "      <td>Pecem</td>\n",
       "      <td>CE</td>\n",
       "      <td>Teresina</td>\n",
       "      <td>PI</td>\n",
       "      <td>278</td>\n",
       "      <td>197.069</td>\n",
       "    </tr>\n",
       "    <tr>\n",
       "      <th>78523</th>\n",
       "      <td>05/2023</td>\n",
       "      <td>MRS</td>\n",
       "      <td>Contêiner Vazio de 40 Pés</td>\n",
       "      <td>Eldorado</td>\n",
       "      <td>MG</td>\n",
       "      <td>Brisamar</td>\n",
       "      <td>RJ</td>\n",
       "      <td>34</td>\n",
       "      <td>18.772</td>\n",
       "    </tr>\n",
       "    <tr>\n",
       "      <th>11476</th>\n",
       "      <td>06/2014</td>\n",
       "      <td>RMS</td>\n",
       "      <td>Contêiner Cheio de 20 Pés</td>\n",
       "      <td>Cruz Alta</td>\n",
       "      <td>RS</td>\n",
       "      <td>Rio Grande</td>\n",
       "      <td>RS</td>\n",
       "      <td>1.307</td>\n",
       "      <td>964.490</td>\n",
       "    </tr>\n",
       "  </tbody>\n",
       "</table>\n",
       "</div>"
      ],
      "text/plain": [
       "       Mes_Ano Ferrovia             Mercadoria_ANTT Estacao_Origem UF_Origem  \\\n",
       "75180  12/2022      FTL   Contêiner Cheio de 20 Pés          Pecem        CE   \n",
       "49147  08/2019      MRS  Prd. Siderúrgicos - Outros  Volta Redonda        RJ   \n",
       "74546  11/2022      FTL             Demais Produtos          Pecem        CE   \n",
       "78523  05/2023      MRS   Contêiner Vazio de 40 Pés       Eldorado        MG   \n",
       "11476  06/2014      RMS   Contêiner Cheio de 20 Pés      Cruz Alta        RS   \n",
       "\n",
       "      Estacao_Destino UF_Destino     TU      TKU  \n",
       "75180         Aracapé         CE  2.919  168.190  \n",
       "49147           Arará         RJ  4.623  668.777  \n",
       "74546        Teresina         PI    278  197.069  \n",
       "78523        Brisamar         RJ     34   18.772  \n",
       "11476      Rio Grande         RS  1.307  964.490  "
      ]
     },
     "execution_count": 30,
     "metadata": {},
     "output_type": "execute_result"
    }
   ],
   "source": [
    "# Amostra\n",
    "df.sample(5)"
   ]
  },
  {
   "cell_type": "code",
   "execution_count": 35,
   "metadata": {},
   "outputs": [],
   "source": [
    "#agora vamos corrigir os tipos de veriáveis\n",
    "df['Mes_Ano'] = pd.to_datetime(df['Mes_Ano'], format='%m/%Y')\n",
    "# Remover pontos usados como separadores de milhar\n",
    "df['TU'] = df['TU'].str.replace('.', '', regex=False)\n",
    "df['TU'] = df['TU'].astype(float)\n",
    "# Remover pontos usados como separadores de milhar\n",
    "df['TKU'] = df['TKU'].str.replace('.', '', regex=False)\n",
    "df['TKU'] = df['TKU'].astype(float)"
   ]
  },
  {
   "cell_type": "code",
   "execution_count": null,
   "metadata": {},
   "outputs": [],
   "source": [
    "# Vamos ver os valores únicos para descobrir se temos outros problemas"
   ]
  },
  {
   "cell_type": "code",
   "execution_count": 37,
   "metadata": {},
   "outputs": [
    {
     "data": {
      "text/plain": [
       "array(['EFC', 'EFPO', 'EFVM', 'FCA', 'FNSTN', 'FTC', 'FTL', 'MRS', 'RMN',\n",
       "       'RMO', 'RMP', 'RMS', 'RMC'], dtype=object)"
      ]
     },
     "execution_count": 37,
     "metadata": {},
     "output_type": "execute_result"
    }
   ],
   "source": [
    "df['Ferrovia'].unique()"
   ]
  },
  {
   "cell_type": "code",
   "execution_count": 38,
   "metadata": {},
   "outputs": [
    {
     "data": {
      "text/plain": [
       "array(['Ferro Gusa', 'Gasolina', 'Manganês', 'Minério de Ferro',\n",
       "       'Outros - Comb e derivado -  Perigoso', 'Grãos - Milho',\n",
       "       'Grãos - Trigo', 'Soja', 'Amônia', 'Antracito', 'Carvão Mineral',\n",
       "       'Celulose', 'Cloreto de Potássio', 'Coque', 'Coque Metalúrgico',\n",
       "       'Escória', 'Pedras em Blocos e Placas',\n",
       "       'Prd. Siderúrgicos - Bobina - BF',\n",
       "       'Prd. Siderúrgicos - Fio Máquina', 'Prd. Siderúrgicos - Outros',\n",
       "       'Prd. Siderúrgicos - Placa', 'Prd. Siderúrgicos - Tarugo',\n",
       "       'Toras de Madeira', 'Açúcar', 'Álcool', 'Areia', 'Bauxita', 'Cal',\n",
       "       'Calcário Britado', 'Calcário Corretivo', 'Calcário Siderúrgico',\n",
       "       'Cimento a Granel', 'Cimento acondicionado', 'Clínquer', 'Cobre',\n",
       "       'Contêiner Cheio de 20 Pés', 'Contêiner Cheio de 40 Pés',\n",
       "       'Cromita', 'Dolomita', 'Enxofre', 'Farelo de Soja', 'Fosfato',\n",
       "       'LAB - Sulfonato de alquilbenzeno linear', 'Magnesita',\n",
       "       'Óleo Diesel', 'Outras - Carga Geral Não Conteinerizada',\n",
       "       'Outros - Combust, deriv. Petro., alcool', 'Alumínio',\n",
       "       'Farinha de Trigo', 'Contêiner Vazio de 20 Pés',\n",
       "       'Contêiner Vazio de 40 Pés', 'Outros Graneis Minerais',\n",
       "       'Prd. Siderúrgicos - Bobina - BQ', 'Prd. Siderúrgicos - Tubos',\n",
       "       'Prd. Siderúrgicos - Vergalhões', 'Sal', 'Sucata', 'Veículos',\n",
       "       'Adubo Orgânico a Granel',\n",
       "       'Adubo Fert em Geral a Granel  - Perigoso',\n",
       "       'Adubo Orgânico acondicionado', 'Grãos - arroz',\n",
       "       'Outros - extração Vegetal e Celulose',\n",
       "       'Outros - Indústria Cimenteira e Construção', 'Papel',\n",
       "       'Produtos Químicos', 'Ureia', 'Óleo Vegetal',\n",
       "       'Contêiner Cheio de 20 Pés - Perigoso',\n",
       "       'Minério de Ferro Especial - MRS distancia menor 100 km', 'Gesso',\n",
       "       'Demais Produtos', 'Máquinas, Motores, Peças e acessórios',\n",
       "       'Outros - adubos e Fertilizantes',\n",
       "       'Minério de Ferro SP - MRS destino SP',\n",
       "       'Outros - adubos e Fertiliz - Perigoso', 'Grãos - Cevada',\n",
       "       'Pallets de Madeira', 'Dormentes de Madeira', 'Madeira',\n",
       "       'Produtos Químicos - Perigoso',\n",
       "       'Contêiner Cheio de 40 Pés - Perigoso', 'Argila', 'Pó de Pedra',\n",
       "       'Dormente de Concreto', 'Farelo de Milho',\n",
       "       'Contêiner vazio 53 pés', 'Contêiner cheio 53 pés',\n",
       "       'Outros - Produção agrícola'], dtype=object)"
      ]
     },
     "execution_count": 38,
     "metadata": {},
     "output_type": "execute_result"
    }
   ],
   "source": [
    "df['Mercadoria_ANTT'].unique()"
   ]
  },
  {
   "cell_type": "code",
   "execution_count": 39,
   "metadata": {},
   "outputs": [
    {
     "data": {
      "text/plain": [
       "array(['Açailândia', 'Marabá', 'Rosário', 'Santa Inês',\n",
       "       'Itaqui Base Combustível', 'Carajás', 'Cascavel', 'Tubarão',\n",
       "       'Frederico Selow', 'Pedro Nolasco', 'Intendente Câmara',\n",
       "       'João Correia', 'Funil', 'Mário Carvalho', 'Piraqueaçu', 'Alegria',\n",
       "       'Bicas', 'Brucutu', 'Capitão Eduardo', 'Conceição', 'Fábrica',\n",
       "       'Fábrica Muro', 'Gongo Soco', 'João Paulo', 'Ouro Branco',\n",
       "       'Timbopeba', 'Colatina', 'Governador Valadares', 'João Monlevade',\n",
       "       'Desembargador Drumond', 'Eng. Costa Lacerda', 'Ituverava',\n",
       "       'Mato Seco', 'Ribeirão Preto', 'Uberlândia', 'Valefertil',\n",
       "       'Zelândia', 'Eng. Helio Martins', 'Ipameri', 'Roncador Novo',\n",
       "       'Barão de Camargo', 'Bauxita', 'Nova Granja', 'Arcos',\n",
       "       'Matozinhos', 'Morro Grande', 'Wilson Lobato', 'Fosfago',\n",
       "       'Barrinha', 'General Curado', 'Boa Vista Nova', 'Campo Formoso',\n",
       "       'Itiuba', 'Conceiçãozinha', 'Piaçaguera', 'Araguari',\n",
       "       'Brejo Alegre', 'Prudente de Morais', 'Catalão', 'Candeias',\n",
       "       'Embiruçu', 'Replan', 'Carreira Comprida', 'Copec', 'Catiboaba',\n",
       "       'Licínio de Almeida', 'Silva Oliveira', 'Parque Industrial',\n",
       "       'Araguaia', 'Esplanada', 'Porto Nacional', 'Porto Franco',\n",
       "       'Mina Novo Horizonte', 'Rio Fiorita', 'Sangão', 'Urussanga',\n",
       "       'Alumar', 'Sobral', 'Pecem', 'Mucuripe', 'Carga Ferro Gusa e Cruz',\n",
       "       'Itaqui', 'Airosa Galvão', 'Boa Vista Velha', 'Santa Adélia',\n",
       "       'Caçapava', 'Curuputuba', 'Roseira', 'Barão de Angra',\n",
       "       'Baia Sepetiba', 'São Silvestre', 'Barbacena', 'Pedra do Sino',\n",
       "       'Vespasiano', 'Volta Redonda', 'Arará', 'Dr. Joaquim Murtinho',\n",
       "       'Santos', 'Sarzedo Novo', 'Eng. Neiva', 'Ouro Fino', 'Edmar Alves',\n",
       "       'Pederneiras', 'Carlos Newlands', 'Casa de Pedra',\n",
       "       'Córrego do Feijão', 'Dias Tavares', 'Olhos D Água',\n",
       "       'Otavio Dapieve', 'Pires', 'Sarzedo', 'Manoel Feio', 'Santo André',\n",
       "       'São Bento', 'Água Branca', 'Ipiranga', 'Itaguai', 'Saudade',\n",
       "       'Utinga', 'Barreiro', 'Cel. João Carlos Guedes', 'Couto e Silva',\n",
       "       'Chapadao do Sul', 'T. Olacyr F. Morais', 'Aparecida do Taboado',\n",
       "       'Alto Araguaia', 'Itiquira', 'Araçatuba', 'Campo Grande', 'Jupia',\n",
       "       'Antônio Maria Coelho', 'Bauru', 'Mairinque', 'Araraquara',\n",
       "       'Fernandopolis', 'Itirapina', 'Pradopolis', 'Rio Preto Paulista',\n",
       "       'Votuporanga', 'Paulínia', 'Triagem Paulista',\n",
       "       'Eng. Vicente Montanha', 'Londrina', 'Maringa', 'Ourinhos',\n",
       "       'Rolandia', 'Sarandi', 'D Pedro II', 'Desvio Ribas', 'Rio Grande',\n",
       "       'São Francisco do Sul', 'Pátio Industrial', 'General Luz',\n",
       "       'Tranqueira', 'Itaperussu', 'Apiai', 'Buri', 'Rio Branco do Sul',\n",
       "       'Eng. Guimarães', 'Cambe', 'Cruz Alta', 'Tatui', 'Uruguaiana',\n",
       "       'Araucária Carga', 'Cará-Cará', 'Guarapuava', 'Lages', 'Olival',\n",
       "       'Diretor Pestana', 'Passo Fundo', 'Araucária Terminal', 'Alegrete',\n",
       "       'Cacequi', 'Girua', 'Ijuí', 'Santa Rosa', 'Santo Ângelo',\n",
       "       'Carazinho', 'J.De Castilhos', 'Tupancireta', 'Cel.Linhares',\n",
       "       'Harmonia', 'Montenegro', 'Carmo da Mata', 'Pirapora',\n",
       "       'Palmeirante', 'Primavera', 'Viga', 'Eng. Cesar de Souza',\n",
       "       'Hortolândia', 'Urucum', 'Jacarezinho', 'Aracruz', 'Brisamar',\n",
       "       'Alberto Flores', 'Eldorado', 'Posto km 194', 'Sete Lagoas',\n",
       "       'Tigre', 'Paraupebas', 'Deodoro', 'Eng. São Paulo',\n",
       "       'Lafaiete Bandeira', 'Barra Mansa', 'Crateus',\n",
       "       'Siderúrgica do Atlântico', 'Santa Maria', 'Cubatão', 'Guaraí',\n",
       "       'Terminal Cimento Barroso', 'São Joaquim da Barra', 'Rondonópolis',\n",
       "       'Porto de Aratu', 'Biagípolis', 'Eng. Paz Ferreira', 'Imbituba',\n",
       "       'Itutinga', 'Suzano Novo', 'Pulverizacao', 'Eng. Afif.', 'Agrária',\n",
       "       'Barbará', 'Brasília', 'Ribas do Rio Pardo', 'Uvaranas', 'Aroaba',\n",
       "       'Imperatriz', 'Pátio Esso', 'Floriano', 'Taubaté',\n",
       "       'Mogi das Cruzes', 'Paulo Menicucci', 'Ponta da Madeira',\n",
       "       'São Caetano do Sul', 'km 5', 'Pedreira Rio das Velhas', 'Suzano',\n",
       "       'Pinheirinho', 'Marialva', 'Iguaçu', 'Guará', 'Serra Leste',\n",
       "       'Barnabé', 'São Luis - Tirirical', 'Teresina', 'Rio Negro',\n",
       "       'Aracapé', 'Cruzeiro', 'Terminal Integrador Uberaba', 'Poty',\n",
       "       'Barão de Juparana', 'Tutóia', 'Fazendão', 'Ortigueira',\n",
       "       'Estação TUF', 'Divinopolis', 'Itatiaia', 'Dr. Lund', 'Serra Sul',\n",
       "       'Terminal de Patrocínio', 'Calsete', 'Bagé', 'Rocha Sobrinho',\n",
       "       'Gurupi', 'Jundiaí', 'Terminal Paraibuna de Metais',\n",
       "       'Barra do Pirai', 'Final Ramal das Fábricas', 'Alumínio',\n",
       "       'Ponta da Madeira Pêra do Píer', 'Corumbá', 'Pereque',\n",
       "       'Oficina Demostenes Rockert', 'Cragea', 'MultiTerminais',\n",
       "       'Pedrasil', 'Ipu', 'Castelo', 'AMV km 26 Itaqui', 'Porto Sudeste',\n",
       "       'Coroatá', 'Fábrica Votorantim Pecém', 'Batista Almeida', 'Croatá',\n",
       "       'Altos', 'Ibiapaba', 'Nova Russas', 'Reriutaba', 'Caxias Nova',\n",
       "       'Sobral Novo', 'Codó', 'Pirapemas Novo', 'Cristino Cruz', 'Babaçu',\n",
       "       'Ribeirão Vermelho', 'Itapecuru Mirim', 'São Simão', 'Carema',\n",
       "       'Rio Verde', 'Itapipoca Novo', 'Miraíma', 'Capuava',\n",
       "       'Morro Alegre', 'LD Celulose', 'Iturama', 'Guaiba', 'Caucaia',\n",
       "       'Itarare', 'Pátio 206', 'Oiticica', 'Cariré', 'Ipueiras', 'Caxias',\n",
       "       'Anápolis', 'Cana Brava'], dtype=object)"
      ]
     },
     "execution_count": 39,
     "metadata": {},
     "output_type": "execute_result"
    }
   ],
   "source": [
    "df['Estacao_Origem'].unique()"
   ]
  },
  {
   "cell_type": "code",
   "execution_count": 40,
   "metadata": {},
   "outputs": [
    {
     "data": {
      "text/plain": [
       "array(['MA', 'PA', 'PR', 'ES', 'MG', 'SP', 'GO', 'BA', 'TO', 'SC', 'CE',\n",
       "       'RJ', 'MS', 'MT', 'RS', 'DF', 'PI'], dtype=object)"
      ]
     },
     "execution_count": 40,
     "metadata": {},
     "output_type": "execute_result"
    }
   ],
   "source": [
    "df['UF_Origem'].unique()"
   ]
  },
  {
   "cell_type": "code",
   "execution_count": 41,
   "metadata": {},
   "outputs": [
    {
     "data": {
      "text/plain": [
       "array(['Ponta da Madeira Pêra do Píer', 'Açailândia', 'Marabá',\n",
       "       'Virador de Vagões Minério', 'Rosário', 'D Pedro II',\n",
       "       'Desvio Ribas', 'Agrária', 'Eng. João Passos', 'Guarapuava',\n",
       "       'São Francisco do Sul', 'Catalão', 'Intendente Câmara',\n",
       "       'Ouro Branco', 'Aracruz', 'Brejo Alegre', 'Eng. Adelmar',\n",
       "       'Valefertil', 'Brasília', 'Pedro Nolasco', 'Dr. Lund',\n",
       "       'Eng. Bhering', 'Tubarão', 'Morro Grande', 'Carreira Comprida',\n",
       "       'Couto e Silva', 'Eldorado', 'Embiruçu', 'Parque Industrial',\n",
       "       'Barra Mansa', 'Boa Vista Nova', 'Ipiranga', 'Manoel Feio',\n",
       "       'Governador Valadares', 'Nova Granja', 'João Monlevade',\n",
       "       'Frederico Selow', 'Santos', 'Paulínia', 'Replan',\n",
       "       'Barão de Angra', 'Alumínio', 'Capitão Eduardo', 'Porto de Aratu',\n",
       "       'Vitória/Porto Velho', 'Ribeirão Preto', 'Cubatão', 'Copec',\n",
       "       'General Curado', 'Irapui', 'Fosfago', 'Bunge Araxa', 'Juazeiro',\n",
       "       'Montes Claros', 'Estação Pool', 'Conceiçãozinha', 'Vespasiano',\n",
       "       'Pedreira Rio das Velhas', 'Araguari', 'Divinopolis',\n",
       "       'Wilson Lobato', 'Capivari', 'Pecem', 'Fábrica Votorantim Pecém',\n",
       "       'Mucuripe', 'Teresina', 'Itaqui', 'Sobral', 'Aracapé', 'Murity',\n",
       "       'Água Branca', 'Mooca', 'Santo André', 'São Bento',\n",
       "       'Volta Redonda', 'Deodoro', 'C.Ermelino Matarazzo',\n",
       "       'Eng. São Paulo', 'São José dos Campos', 'Arará', 'Capuava',\n",
       "       'Dias Tavares', 'Boa Vista Velha', 'Eng. Neiva', 'Ouro Fino',\n",
       "       'Brisamar', 'Edmar Alves', 'Dr. Joaquim Murtinho', 'Sarzedo Novo',\n",
       "       'Várzea Paulista', 'Pedra do Sino', 'Itaguai', 'Roseira',\n",
       "       'Saudade', 'São Caetano do Sul', 'Baia Sepetiba', 'Guaiba',\n",
       "       'Piaçaguera', 'Siderúrgica do Atlântico',\n",
       "       'Cel. João Carlos Guedes', 'Pindamonhangaba', 'Curuputuba',\n",
       "       'Benfica', 'Caçapava', 'Mogi das Cruzes', 'Utinga', 'Campo Grande',\n",
       "       'Bauru', 'Mairinque', 'Brigadeiro Tobias', 'Porto Esperança',\n",
       "       'Ribas do Rio Pardo', 'Araçatuba', 'Corumbá', 'Diretor Pestana',\n",
       "       'Indubrasil', 'Maringa', 'Alto Araguaia', 'T. Olacyr F. Morais',\n",
       "       'Araraquara', 'Posto km 903', 'Rio Preto Paulista',\n",
       "       'Triagem Paulista', 'Canitar', 'Cambe', 'Cascavel', 'Londrina',\n",
       "       'Ourinhos', 'Cruz Alta', 'Passo Fundo', 'Ijuí', 'Uruguaiana',\n",
       "       'Araucária Terminal', 'General Luz', 'Pátio Industrial', 'Apiai',\n",
       "       'Uvaranas', 'Rio Grande', 'Araucária Carga', 'Tatui', 'Cará-Cará',\n",
       "       'Domingos de  Moraes', 'Lages', 'Olival', 'Sarandi',\n",
       "       'Presidente Prudente', 'Santa Maria', 'Ipaucu', 'Estrela',\n",
       "       'Iguaçu', 'Harmonia', 'Montenegro', 'Eng. Afif.',\n",
       "       'Prudente de Morais', 'Bela Vista de Minas', 'Barbará',\n",
       "       'Mário Carvalho', 'Uberaba', 'São Luis - Tirirical', 'Taubaté',\n",
       "       'Carazinho', 'Olhos D Água', 'Pereque', 'Eng. Vicente Montanha',\n",
       "       'Ponta da Madeira Cobre', 'Arcos', 'Porto Nacional', 'Floriano',\n",
       "       'Posto km 194', 'Eng. Guimarães', 'Ibia',\n",
       "       'Terminal Paraibuna de Metais', 'Eng. Cesar de Souza',\n",
       "       'Desembargador Drumond', 'João Paulo', 'Piquet Carneiro',\n",
       "       'Quixadá', 'Quixeramobim', 'Senador Pompeu', 'Otavio Dapieve',\n",
       "       'Itaqui Base Combustível', 'Acopiara', 'Aurora', 'Crateus',\n",
       "       'Croatá', 'Iguatu', 'Ipu', 'Ipueiras', 'Itapipoca',\n",
       "       'Juazeiro do Norte', 'Lavras da Mangabeira', 'Missão Velha',\n",
       "       'Nova Russas', 'Reriutaba', 'Ladário', 'Baturite', 'Rondonópolis',\n",
       "       'Lafaiete Bandeira', 'Barreiro', 'Chapadao do Sul', 'Uberlândia',\n",
       "       'Imbituba', 'Eng. Paz Ferreira', 'São Silvestre', 'Cacequi',\n",
       "       'Cel.Linhares', 'Andrelândia', 'Suzano Novo',\n",
       "       'Antônio Maria Coelho', 'Rolandia', 'Pinheirinho', 'Imperatriz',\n",
       "       'Final Ramal das Fábricas', 'Pátio Esso', 'Santa Rosa',\n",
       "       'Tupancireta', 'Canoas', 'Suzano', 'Barnabé', 'Pradopolis',\n",
       "       'Ponta da Madeira', 'Itarare', 'Rio Negro', 'Piraqueaçu',\n",
       "       'Barão de Juparana', 'Carlos Newlands', 'Cruzeiro',\n",
       "       'Rocha Sobrinho', 'Poty', 'Tutóia', 'km 5', 'Itatiaia',\n",
       "       'Hortolândia', 'Brumado', 'Estação TUF', 'Anápolis',\n",
       "       'Terminal de Fosfatados', 'J.De Castilhos', 'Pátio ABL',\n",
       "       'Porto Sudeste', 'Sete Lagoas', 'Fábrica Muro', 'Aroaba',\n",
       "       'Jundiaí', 'Pires', 'Córrego do Feijão', 'Barra do Pirai',\n",
       "       'Ortigueira', 'Roncador Novo', 'Usiminas', 'Porto Franco',\n",
       "       'Itutinga', 'Palmeirante', 'Pederneiras',\n",
       "       'Oficina Demostenes Rockert', 'Coroatá', 'Morro Alegre', 'Altos',\n",
       "       'Altamira', 'Cana Brava', 'Castelo', 'Itapipoca Novo', 'Miraíma',\n",
       "       'Caxias Nova', 'Codó', 'Itapecuru Mirim', 'MultiTerminais',\n",
       "       'Cragea', 'Pedrasil', 'Solvay', 'Sucesso', 'Sombra', 'Ajugaiaba',\n",
       "       'AMV km 26 Itaqui', 'Babaçu', 'Ibiapaba', 'Cariré',\n",
       "       'Cristino Cruz', 'Calcario', 'Carga Ferro Gusa e Cruz',\n",
       "       'Pirapemas Novo', 'Bicas', 'Candeias', 'Carema', 'Itirapina',\n",
       "       'Pulverizacao', 'Lapa', 'Minério Bahia', 'Banhado', 'Rio Verde',\n",
       "       'Pirapemas', 'Oiticica', 'Campinorte', 'Paraupebas', 'Sarzedo',\n",
       "       'Batista Almeida'], dtype=object)"
      ]
     },
     "execution_count": 41,
     "metadata": {},
     "output_type": "execute_result"
    }
   ],
   "source": [
    "df['Estacao_Destino'].unique()"
   ]
  },
  {
   "cell_type": "code",
   "execution_count": 42,
   "metadata": {},
   "outputs": [
    {
     "data": {
      "text/plain": [
       "array(['MA', 'PA', 'PR', 'SC', 'GO', 'MG', 'ES', 'DF', 'RJ', 'SP', 'BA',\n",
       "       'CE', 'PI', 'MS', 'RS', 'MT', 'TO'], dtype=object)"
      ]
     },
     "execution_count": 42,
     "metadata": {},
     "output_type": "execute_result"
    }
   ],
   "source": [
    "df['UF_Destino'].unique()"
   ]
  },
  {
   "cell_type": "code",
   "execution_count": 43,
   "metadata": {},
   "outputs": [
    {
     "data": {
      "text/plain": [
       "Mes_Ano            0\n",
       "Ferrovia           0\n",
       "Mercadoria_ANTT    0\n",
       "Estacao_Origem     0\n",
       "UF_Origem          0\n",
       "Estacao_Destino    0\n",
       "UF_Destino         0\n",
       "TU                 0\n",
       "TKU                0\n",
       "dtype: int64"
      ]
     },
     "execution_count": 43,
     "metadata": {},
     "output_type": "execute_result"
    }
   ],
   "source": [
    "#verificando se há valores nulos\n",
    "df.isnull().sum()"
   ]
  },
  {
   "cell_type": "code",
   "execution_count": 44,
   "metadata": {},
   "outputs": [
    {
     "name": "stdout",
     "output_type": "stream",
     "text": [
      "\n",
      "Número de linhas duplicadas: 34\n"
     ]
    }
   ],
   "source": [
    "# Verificar se há linhas duplicadas\n",
    "duplicatas = df.duplicated()\n",
    "num_duplicatas = duplicatas.sum()\n",
    "print(f\"\\nNúmero de linhas duplicadas: {num_duplicatas}\")"
   ]
  },
  {
   "cell_type": "code",
   "execution_count": 45,
   "metadata": {},
   "outputs": [],
   "source": [
    "# Remover linhas duplicadas\n",
    "df = df.drop_duplicates()"
   ]
  },
  {
   "cell_type": "code",
   "execution_count": 46,
   "metadata": {},
   "outputs": [
    {
     "name": "stdout",
     "output_type": "stream",
     "text": [
      "Número de valores NaT na coluna Service_Date: 0\n"
     ]
    }
   ],
   "source": [
    "# Contando e informando o número de valores NaT na coluna Service_Date\n",
    "nat_count = df['Mes_Ano'].isna().sum()\n",
    "print(f'Número de valores NaT na coluna Service_Date: {nat_count}')"
   ]
  },
  {
   "cell_type": "code",
   "execution_count": 47,
   "metadata": {},
   "outputs": [
    {
     "data": {
      "text/plain": [
       "Mes_Ano            datetime64[ns]\n",
       "Ferrovia                   object\n",
       "Mercadoria_ANTT            object\n",
       "Estacao_Origem             object\n",
       "UF_Origem                  object\n",
       "Estacao_Destino            object\n",
       "UF_Destino                 object\n",
       "TU                        float64\n",
       "TKU                       float64\n",
       "dtype: object"
      ]
     },
     "execution_count": 47,
     "metadata": {},
     "output_type": "execute_result"
    }
   ],
   "source": [
    "df.dtypes"
   ]
  },
  {
   "cell_type": "markdown",
   "metadata": {},
   "source": [
    "### Exploração das variáveis numéricas"
   ]
  },
  {
   "cell_type": "code",
   "execution_count": 48,
   "metadata": {},
   "outputs": [
    {
     "name": "stdout",
     "output_type": "stream",
     "text": [
      "                 TU           TKU\n",
      "count  8.356500e+04  8.356500e+04\n",
      "mean   6.639996e+04  4.697361e+07\n",
      "std    4.663527e+05  4.055892e+08\n",
      "min    1.000000e+00  0.000000e+00\n",
      "25%    1.135000e+03  4.153160e+05\n",
      "50%    5.267000e+03  2.280514e+06\n",
      "75%    2.159900e+04  1.131460e+07\n",
      "max    1.385872e+07  1.234812e+10\n"
     ]
    }
   ],
   "source": [
    "# Filtrar apenas colunas do tipo float\n",
    "df_num = df.select_dtypes(include=['float64'])\n",
    "\n",
    "# Usar describe() apenas para colunas float\n",
    "print(df_num.describe())"
   ]
  },
  {
   "cell_type": "code",
   "execution_count": 66,
   "metadata": {},
   "outputs": [
    {
     "data": {
      "image/png": "[encoded data removed]",
      "text/plain": [
       "<Figure size 1000x600 with 1 Axes>"
      ]
     },
     "metadata": {},
     "output_type": "display_data"
    }
   ],
   "source": [
    "# Criar o histograma para a coluna 'A'\n",
    "df_num['TU'].hist(figsize=(10, 6), bins=6, color='green')\n",
    "\n",
    "# Adicionar rótulos e título (opcional)\n",
    "ax.set_xlabel('Valor')\n",
    "ax.set_ylabel('Frequência')\n",
    "ax.set_title('Histograma do TU')\n",
    "\n",
    "# Mostrar o histograma\n",
    "plt.show()"
   ]
  },
  {
   "cell_type": "code",
   "execution_count": null,
   "metadata": {},
   "outputs": [],
   "source": [
    "# Insighs:\n",
    "# PMédia de atrasos de 12,7 minutos\n",
    "# Somente considerado atraso maior ou igual a 6 minutos do previsto\n",
    "# Maior atraso de 427 minutos (devem ser avaliados os outliers) "
   ]
  },
  {
   "cell_type": "code",
   "execution_count": 65,
   "metadata": {},
   "outputs": [
    {
     "data": {
      "image/png": "[encoded data removed]",
      "text/plain": [
       "<Figure size 1000x600 with 1 Axes>"
      ]
     },
     "metadata": {},
     "output_type": "display_data"
    }
   ],
   "source": [
    "# Criar o histograma para a coluna 'A'\n",
    "ax = df_num['TKU'].hist(figsize=(10, 6), bins=6, color='orange')\n",
    "\n",
    "# Ajustar os limites do eixo x\n",
    "#ax.set_xlim(0, 12)  # Definir os limites do eixo x conforme desejado\n",
    "\n",
    "# Adicionar rótulos e título (opcional)\n",
    "ax.set_xlabel('Valor')\n",
    "ax.set_ylabel('Frequência')\n",
    "ax.set_title('Histograma do TKU')\n",
    "\n",
    "# Mostrar o histograma\n",
    "plt.show()"
   ]
  },
  {
   "cell_type": "code",
   "execution_count": 95,
   "metadata": {},
   "outputs": [
    {
     "data": {
      "text/html": [
       "<div>\n",
       "<style scoped>\n",
       "    .dataframe tbody tr th:only-of-type {\n",
       "        vertical-align: middle;\n",
       "    }\n",
       "\n",
       "    .dataframe tbody tr th {\n",
       "        vertical-align: top;\n",
       "    }\n",
       "\n",
       "    .dataframe thead th {\n",
       "        text-align: right;\n",
       "    }\n",
       "</style>\n",
       "<table border=\"1\" class=\"dataframe\">\n",
       "  <thead>\n",
       "    <tr style=\"text-align: right;\">\n",
       "      <th></th>\n",
       "      <th>TU</th>\n",
       "      <th>TKU</th>\n",
       "    </tr>\n",
       "  </thead>\n",
       "  <tbody>\n",
       "    <tr>\n",
       "      <th>TU</th>\n",
       "      <td>1.00000</td>\n",
       "      <td>0.98619</td>\n",
       "    </tr>\n",
       "    <tr>\n",
       "      <th>TKU</th>\n",
       "      <td>0.98619</td>\n",
       "      <td>1.00000</td>\n",
       "    </tr>\n",
       "  </tbody>\n",
       "</table>\n",
       "</div>"
      ],
      "text/plain": [
       "          TU      TKU\n",
       "TU   1.00000  0.98619\n",
       "TKU  0.98619  1.00000"
      ]
     },
     "execution_count": 95,
     "metadata": {},
     "output_type": "execute_result"
    }
   ],
   "source": [
    "# Correlação (tabela)\n",
    "df_num.corr()"
   ]
  },
  {
   "cell_type": "code",
   "execution_count": null,
   "metadata": {},
   "outputs": [],
   "source": [
    "# As variáveis TU e TKU são altamente correlacionadas. Para Machine Learning, somente deve ser considerada uma destas variáveis.\n",
    "# Como os valores são altos, deverão ser feitos ajustes na escala para trabalhar com ML."
   ]
  },
  {
   "cell_type": "markdown",
   "metadata": {},
   "source": [
    "### Exploração das variáveis categóricas"
   ]
  },
  {
   "cell_type": "code",
   "execution_count": 67,
   "metadata": {},
   "outputs": [],
   "source": [
    "# Filtrar apenas colunas do tipo categórica\n",
    "df_cat = df.select_dtypes(include=['object'])"
   ]
  },
  {
   "cell_type": "code",
   "execution_count": 68,
   "metadata": {},
   "outputs": [
    {
     "data": {
      "text/plain": [
       "Index(['Ferrovia', 'Mercadoria_ANTT', 'Estacao_Origem', 'UF_Origem',\n",
       "       'Estacao_Destino', 'UF_Destino'],\n",
       "      dtype='object')"
      ]
     },
     "execution_count": 68,
     "metadata": {},
     "output_type": "execute_result"
    }
   ],
   "source": [
    "df_cat.columns"
   ]
  },
  {
   "cell_type": "code",
   "execution_count": 69,
   "metadata": {},
   "outputs": [
    {
     "data": {
      "text/plain": [
       "Ferrovia\n",
       "MRS      29708\n",
       "RMS      17252\n",
       "EFVM     10345\n",
       "FCA       9484\n",
       "FTL       4643\n",
       "RMP       3621\n",
       "RMN       2754\n",
       "EFC       2058\n",
       "FNSTN     1241\n",
       "FTC        928\n",
       "RMO        716\n",
       "EFPO       474\n",
       "RMC        341\n",
       "Name: count, dtype: int64"
      ]
     },
     "execution_count": 69,
     "metadata": {},
     "output_type": "execute_result"
    }
   ],
   "source": [
    "#Quantidade de registros de cada ferrovia de carga\n",
    "df['Ferrovia'].value_counts() "
   ]
  },
  {
   "cell_type": "code",
   "execution_count": 70,
   "metadata": {},
   "outputs": [
    {
     "name": "stderr",
     "output_type": "stream",
     "text": [
      "C:\\Users\\Danilo\\AppData\\Local\\Temp\\ipykernel_24584\\619290320.py:2: UserWarning: set_ticklabels() should only be used with a fixed number of ticks, i.e. after set_ticks() or using a FixedLocator.\n",
      "  ax.set_xticklabels(ax.get_xticklabels(), rotation=45, ha='right')\n"
     ]
    },
    {
     "data": {
      "image/png": "[encoded data removed]",
      "text/plain": [
       "<Figure size 640x480 with 1 Axes>"
      ]
     },
     "metadata": {},
     "output_type": "display_data"
    }
   ],
   "source": [
    "ax = sns.countplot(data=df, x='Ferrovia', order=df['Ferrovia'].value_counts().head(20).index, color='red')\n",
    "ax.set_xticklabels(ax.get_xticklabels(), rotation=45, ha='right')\n",
    "plt.show()"
   ]
  },
  {
   "cell_type": "code",
   "execution_count": 71,
   "metadata": {},
   "outputs": [
    {
     "name": "stdout",
     "output_type": "stream",
     "text": [
      "Quantidade de registros de ferrovia: 13\n"
     ]
    }
   ],
   "source": [
    "quantidade_de_ferrovia = df['Ferrovia'].nunique()\n",
    "print(\"Quantidade de ferrovias:\", quantidade_de_ferrovia)"
   ]
  },
  {
   "cell_type": "code",
   "execution_count": 35,
   "metadata": {},
   "outputs": [],
   "source": [
    "# Insighs:\n",
    "# Temos 13 ferrovias sendo as que mais transportam são: MRS, RMS e EFVM"
   ]
  },
  {
   "cell_type": "code",
   "execution_count": 72,
   "metadata": {},
   "outputs": [
    {
     "data": {
      "text/plain": [
       "Mercadoria_ANTT\n",
       "Minério de Ferro                8281\n",
       "Prd. Siderúrgicos - Outros      5388\n",
       "Contêiner Cheio de 40 Pés       4716\n",
       "Óleo Diesel                     4489\n",
       "Contêiner Cheio de 20 Pés       3991\n",
       "                                ... \n",
       "Madeira                            3\n",
       "Produtos Químicos - Perigoso       2\n",
       "Farelo de Milho                    2\n",
       "Outros - Produção agrícola         2\n",
       "Argila                             1\n",
       "Name: count, Length: 89, dtype: int64"
      ]
     },
     "execution_count": 72,
     "metadata": {},
     "output_type": "execute_result"
    }
   ],
   "source": [
    "#Local de operação do trem\n",
    "df['Mercadoria_ANTT'].value_counts() "
   ]
  },
  {
   "cell_type": "code",
   "execution_count": 80,
   "metadata": {},
   "outputs": [
    {
     "name": "stderr",
     "output_type": "stream",
     "text": [
      "C:\\Users\\Danilo\\AppData\\Local\\Temp\\ipykernel_24584\\2232071529.py:2: UserWarning: set_ticklabels() should only be used with a fixed number of ticks, i.e. after set_ticks() or using a FixedLocator.\n",
      "  ax.set_xticklabels(ax.get_xticklabels(), rotation=45, ha='right')\n"
     ]
    },
    {
     "data": {
      "image/png": "[encoded data removed]",
      "text/plain": [
       "<Figure size 640x480 with 1 Axes>"
      ]
     },
     "metadata": {},
     "output_type": "display_data"
    }
   ],
   "source": [
    "ax = sns.countplot(data=df, x='Mercadoria_ANTT', order=df['Mercadoria_ANTT'].value_counts().head(20).index, palette = 'Set2')\n",
    "ax.set_xticklabels(ax.get_xticklabels(), rotation=45, ha='right')\n",
    "plt.show()"
   ]
  },
  {
   "cell_type": "code",
   "execution_count": 77,
   "metadata": {},
   "outputs": [
    {
     "name": "stdout",
     "output_type": "stream",
     "text": [
      "Quantidade de tipos de mercadoria: 89\n"
     ]
    }
   ],
   "source": [
    "quantidade_de_tipos_mercadoria = df['Mercadoria_ANTT'].nunique()\n",
    "print(\"Quantidade de tipos de mercadoria:\", quantidade_de_tipos_mercadoria)"
   ]
  },
  {
   "cell_type": "code",
   "execution_count": null,
   "metadata": {},
   "outputs": [],
   "source": [
    "# Insighs:\n",
    "# São 89 produtos diferentes sendo os mais transportados: Minério de ferro, produtos siderúrgicos e contêineres\n"
   ]
  },
  {
   "cell_type": "code",
   "execution_count": null,
   "metadata": {},
   "outputs": [],
   "source": [
    "#Local de partida do trem\n",
    "df['Estacao_Origem'].value_counts() "
   ]
  },
  {
   "cell_type": "code",
   "execution_count": 78,
   "metadata": {},
   "outputs": [
    {
     "name": "stderr",
     "output_type": "stream",
     "text": [
      "C:\\Users\\Danilo\\AppData\\Local\\Temp\\ipykernel_24584\\1788221504.py:2: UserWarning: set_ticklabels() should only be used with a fixed number of ticks, i.e. after set_ticks() or using a FixedLocator.\n",
      "  ax.set_xticklabels(ax.get_xticklabels(), rotation=45, ha='right')\n"
     ]
    },
    {
     "data": {
      "image/png": "[encoded data removed]",
      "text/plain": [
       "<Figure size 640x480 with 1 Axes>"
      ]
     },
     "metadata": {},
     "output_type": "display_data"
    }
   ],
   "source": [
    "ax = sns.countplot(data=df, x='Estacao_Origem', order=df['Estacao_Origem'].value_counts().head(20).index, palette='viridis')\n",
    "ax.set_xticklabels(ax.get_xticklabels(), rotation=45, ha='right')\n",
    "plt.show()"
   ]
  },
  {
   "cell_type": "code",
   "execution_count": 79,
   "metadata": {},
   "outputs": [
    {
     "name": "stdout",
     "output_type": "stream",
     "text": [
      "Quantidade de locais de partida de trens: 315\n"
     ]
    }
   ],
   "source": [
    "quantidade_de_local_partida = df['Estacao_Origem'].nunique()\n",
    "print(\"Quantidade de locais de partida de trens:\", quantidade_de_local_partida)"
   ]
  },
  {
   "cell_type": "code",
   "execution_count": 81,
   "metadata": {},
   "outputs": [],
   "source": [
    "# Insighs:\n",
    "# Tem muitos locais de partida de trens o que dificulta achar um padrão para modelagem de dados"
   ]
  },
  {
   "cell_type": "code",
   "execution_count": null,
   "metadata": {},
   "outputs": [],
   "source": [
    "UF_Origem"
   ]
  },
  {
   "cell_type": "code",
   "execution_count": 85,
   "metadata": {},
   "outputs": [
    {
     "data": {
      "text/plain": [
       "UF_Origem\n",
       "MG    25971\n",
       "SP    15595\n",
       "PR    11178\n",
       "RJ     7270\n",
       "RS     5298\n",
       "MA     3683\n",
       "ES     3663\n",
       "CE     2270\n",
       "MT     2112\n",
       "SC     1231\n",
       "MS     1152\n",
       "GO     1042\n",
       "PA     1037\n",
       "BA      990\n",
       "TO      586\n",
       "PI      366\n",
       "DF      121\n",
       "Name: count, dtype: int64"
      ]
     },
     "execution_count": 85,
     "metadata": {},
     "output_type": "execute_result"
    }
   ],
   "source": [
    "#Estado de partida do trem\n",
    "df['UF_Origem'].value_counts() "
   ]
  },
  {
   "cell_type": "code",
   "execution_count": 86,
   "metadata": {},
   "outputs": [
    {
     "name": "stderr",
     "output_type": "stream",
     "text": [
      "C:\\Users\\Danilo\\AppData\\Local\\Temp\\ipykernel_24584\\501465901.py:2: UserWarning: set_ticklabels() should only be used with a fixed number of ticks, i.e. after set_ticks() or using a FixedLocator.\n",
      "  ax.set_xticklabels(ax.get_xticklabels(), rotation=45, ha='right')\n"
     ]
    },
    {
     "data": {
      "image/png": "[encoded data removed]",
      "text/plain": [
       "<Figure size 640x480 with 1 Axes>"
      ]
     },
     "metadata": {},
     "output_type": "display_data"
    }
   ],
   "source": [
    "ax = sns.countplot(data=df, x='UF_Origem', order=df['UF_Origem'].value_counts().index, palette='viridis')\n",
    "ax.set_xticklabels(ax.get_xticklabels(), rotation=45, ha='right')\n",
    "plt.show()"
   ]
  },
  {
   "cell_type": "code",
   "execution_count": 87,
   "metadata": {},
   "outputs": [
    {
     "name": "stdout",
     "output_type": "stream",
     "text": [
      "Quantidade de estados de partida de trens: 17\n"
     ]
    }
   ],
   "source": [
    "quantidade_de_estados_local_partida = df['UF_Origem'].nunique()\n",
    "print(\"Quantidade de estados de partida de trens:\", quantidade_de_estados_local_partida)"
   ]
  },
  {
   "cell_type": "code",
   "execution_count": null,
   "metadata": {},
   "outputs": [],
   "source": [
    "# Insighs:\n",
    "# Dos 26 estados e distrito federal, somente há 17 estados com partida de trens de carga com os estados MG, SP e PR com mais viagens"
   ]
  },
  {
   "cell_type": "code",
   "execution_count": 88,
   "metadata": {},
   "outputs": [
    {
     "data": {
      "text/plain": [
       "Estacao_Destino\n",
       "Tubarão              4537\n",
       "Santos               3287\n",
       "Conceiçãozinha       2964\n",
       "D Pedro II           2894\n",
       "Arará                2675\n",
       "                     ... \n",
       "Córrego do Feijão       1\n",
       "Barra do Pirai          1\n",
       "Aurora                  1\n",
       "Otavio Dapieve          1\n",
       "Batista Almeida         1\n",
       "Name: count, Length: 296, dtype: int64"
      ]
     },
     "execution_count": 88,
     "metadata": {},
     "output_type": "execute_result"
    }
   ],
   "source": [
    "#Estado de chegada do trem\n",
    "df['Estacao_Destino'].value_counts() "
   ]
  },
  {
   "cell_type": "code",
   "execution_count": 89,
   "metadata": {},
   "outputs": [
    {
     "name": "stderr",
     "output_type": "stream",
     "text": [
      "C:\\Users\\Danilo\\AppData\\Local\\Temp\\ipykernel_24584\\4283543038.py:2: UserWarning: set_ticklabels() should only be used with a fixed number of ticks, i.e. after set_ticks() or using a FixedLocator.\n",
      "  ax.set_xticklabels(ax.get_xticklabels(), rotation=45, ha='right')\n"
     ]
    },
    {
     "data": {
      "image/png": "[encoded data removed]",
      "text/plain": [
       "<Figure size 640x480 with 1 Axes>"
      ]
     },
     "metadata": {},
     "output_type": "display_data"
    }
   ],
   "source": [
    "ax = sns.countplot(data=df, x='Estacao_Destino', order=df['Estacao_Destino'].value_counts().head(20).index, color = 'orange')\n",
    "ax.set_xticklabels(ax.get_xticklabels(), rotation=45, ha='right')\n",
    "plt.show()"
   ]
  },
  {
   "cell_type": "code",
   "execution_count": 90,
   "metadata": {},
   "outputs": [
    {
     "name": "stdout",
     "output_type": "stream",
     "text": [
      "Quantidade de locais de chegada de trens: 296\n"
     ]
    }
   ],
   "source": [
    "quantidade_de_local_chegada = df['Estacao_Destino'].nunique()\n",
    "print(\"Quantidade de locais de chegada de trens:\", quantidade_de_local_chegada)"
   ]
  },
  {
   "cell_type": "code",
   "execution_count": 84,
   "metadata": {},
   "outputs": [],
   "source": [
    "# Insighs:\n",
    "# São muitos locais de destino de trens o que dificulta achar um padrão para modelagem de dados"
   ]
  },
  {
   "cell_type": "code",
   "execution_count": 91,
   "metadata": {},
   "outputs": [
    {
     "data": {
      "text/plain": [
       "UF_Destino\n",
       "SP    23251\n",
       "MG    12882\n",
       "RJ    11895\n",
       "PR     9829\n",
       "ES     6448\n",
       "RS     5301\n",
       "MA     3732\n",
       "SC     2024\n",
       "CE     1874\n",
       "PI     1583\n",
       "MT     1299\n",
       "MS      868\n",
       "BA      675\n",
       "GO      644\n",
       "DF      508\n",
       "PA      447\n",
       "TO      305\n",
       "Name: count, dtype: int64"
      ]
     },
     "execution_count": 91,
     "metadata": {},
     "output_type": "execute_result"
    }
   ],
   "source": [
    "#Estado de chegada do trem\n",
    "df['UF_Destino'].value_counts() "
   ]
  },
  {
   "cell_type": "code",
   "execution_count": 92,
   "metadata": {},
   "outputs": [
    {
     "name": "stderr",
     "output_type": "stream",
     "text": [
      "C:\\Users\\Danilo\\AppData\\Local\\Temp\\ipykernel_24584\\2842447113.py:2: UserWarning: set_ticklabels() should only be used with a fixed number of ticks, i.e. after set_ticks() or using a FixedLocator.\n",
      "  ax.set_xticklabels(ax.get_xticklabels(), rotation=45, ha='right')\n"
     ]
    },
    {
     "data": {
      "image/png": "[encoded data removed]",
      "text/plain": [
       "<Figure size 640x480 with 1 Axes>"
      ]
     },
     "metadata": {},
     "output_type": "display_data"
    }
   ],
   "source": [
    "ax = sns.countplot(data=df, x='UF_Destino', order=df['UF_Destino'].value_counts().index, palette='viridis')\n",
    "ax.set_xticklabels(ax.get_xticklabels(), rotation=45, ha='right')\n",
    "plt.show()"
   ]
  },
  {
   "cell_type": "code",
   "execution_count": 93,
   "metadata": {},
   "outputs": [
    {
     "name": "stdout",
     "output_type": "stream",
     "text": [
      "Quantidade de estados de chegada de trens: 17\n"
     ]
    }
   ],
   "source": [
    "quantidade_de_estados_local_chegada = df['UF_Destino'].nunique()\n",
    "print(\"Quantidade de estados de chegada de trens:\", quantidade_de_estados_local_chegada)"
   ]
  },
  {
   "cell_type": "code",
   "execution_count": null,
   "metadata": {},
   "outputs": [],
   "source": [
    "# Insighs:\n",
    "# Dos 26 estados e distrito federal, somente há 17 estados com chegada de trens de carga com os estados MG, SP e RJ com mais viagens"
   ]
  },
  {
   "cell_type": "markdown",
   "metadata": {},
   "source": [
    "### Exploração das variáveis associadas com data"
   ]
  },
  {
   "cell_type": "code",
   "execution_count": 96,
   "metadata": {},
   "outputs": [
    {
     "data": {
      "text/plain": [
       "Timestamp('2013-01-01 00:00:00')"
      ]
     },
     "execution_count": 96,
     "metadata": {},
     "output_type": "execute_result"
    }
   ],
   "source": [
    "df['Mes_Ano'].min()"
   ]
  },
  {
   "cell_type": "code",
   "execution_count": 97,
   "metadata": {},
   "outputs": [
    {
     "data": {
      "text/plain": [
       "Timestamp('2023-12-01 00:00:00')"
      ]
     },
     "execution_count": 97,
     "metadata": {},
     "output_type": "execute_result"
    }
   ],
   "source": [
    "df['Mes_Ano'].max()"
   ]
  },
  {
   "cell_type": "code",
   "execution_count": null,
   "metadata": {},
   "outputs": [],
   "source": [
    "# Temos informações mensais de 2013 a 2023"
   ]
  },
  {
   "cell_type": "code",
   "execution_count": 98,
   "metadata": {},
   "outputs": [],
   "source": [
    "#vamos separar a variável Mes_Ano em duas para aumentar nossos conhecimentos sobre os dados:\n",
    "# Extrair o mês e o ano\n",
    "df['Mes'] = df['Mes_Ano'].dt.month\n",
    "df['Ano'] = df['Mes_Ano'].dt.year"
   ]
  },
  {
   "cell_type": "code",
   "execution_count": 99,
   "metadata": {},
   "outputs": [
    {
     "data": {
      "text/html": [
       "<div>\n",
       "<style scoped>\n",
       "    .dataframe tbody tr th:only-of-type {\n",
       "        vertical-align: middle;\n",
       "    }\n",
       "\n",
       "    .dataframe tbody tr th {\n",
       "        vertical-align: top;\n",
       "    }\n",
       "\n",
       "    .dataframe thead th {\n",
       "        text-align: right;\n",
       "    }\n",
       "</style>\n",
       "<table border=\"1\" class=\"dataframe\">\n",
       "  <thead>\n",
       "    <tr style=\"text-align: right;\">\n",
       "      <th></th>\n",
       "      <th>Mes_Ano</th>\n",
       "      <th>Ferrovia</th>\n",
       "      <th>Mercadoria_ANTT</th>\n",
       "      <th>Estacao_Origem</th>\n",
       "      <th>UF_Origem</th>\n",
       "      <th>Estacao_Destino</th>\n",
       "      <th>UF_Destino</th>\n",
       "      <th>TU</th>\n",
       "      <th>TKU</th>\n",
       "      <th>Mes</th>\n",
       "      <th>Ano</th>\n",
       "    </tr>\n",
       "  </thead>\n",
       "  <tbody>\n",
       "    <tr>\n",
       "      <th>82432</th>\n",
       "      <td>2023-11-01</td>\n",
       "      <td>FNSTN</td>\n",
       "      <td>Soja</td>\n",
       "      <td>Porto Franco</td>\n",
       "      <td>MA</td>\n",
       "      <td>Ponta da Madeira Pêra do Píer</td>\n",
       "      <td>MA</td>\n",
       "      <td>83849.0</td>\n",
       "      <td>61108852.0</td>\n",
       "      <td>11</td>\n",
       "      <td>2023</td>\n",
       "    </tr>\n",
       "    <tr>\n",
       "      <th>23793</th>\n",
       "      <td>2016-03-01</td>\n",
       "      <td>MRS</td>\n",
       "      <td>Prd. Siderúrgicos - Outros</td>\n",
       "      <td>Siderúrgica do Atlântico</td>\n",
       "      <td>RJ</td>\n",
       "      <td>Piaçaguera</td>\n",
       "      <td>SP</td>\n",
       "      <td>5736.0</td>\n",
       "      <td>2874877.0</td>\n",
       "      <td>3</td>\n",
       "      <td>2016</td>\n",
       "    </tr>\n",
       "    <tr>\n",
       "      <th>70685</th>\n",
       "      <td>2022-05-01</td>\n",
       "      <td>MRS</td>\n",
       "      <td>Minério de Ferro</td>\n",
       "      <td>Otavio Dapieve</td>\n",
       "      <td>MG</td>\n",
       "      <td>Volta Redonda</td>\n",
       "      <td>RJ</td>\n",
       "      <td>89195.0</td>\n",
       "      <td>32608086.0</td>\n",
       "      <td>5</td>\n",
       "      <td>2022</td>\n",
       "    </tr>\n",
       "    <tr>\n",
       "      <th>7570</th>\n",
       "      <td>2013-12-01</td>\n",
       "      <td>MRS</td>\n",
       "      <td>Contêiner Cheio de 20 Pés</td>\n",
       "      <td>Boa Vista Velha</td>\n",
       "      <td>SP</td>\n",
       "      <td>Conceiçãozinha</td>\n",
       "      <td>SP</td>\n",
       "      <td>5688.0</td>\n",
       "      <td>1076573.0</td>\n",
       "      <td>12</td>\n",
       "      <td>2013</td>\n",
       "    </tr>\n",
       "    <tr>\n",
       "      <th>35785</th>\n",
       "      <td>2017-11-01</td>\n",
       "      <td>RMS</td>\n",
       "      <td>Soja</td>\n",
       "      <td>Desvio Ribas</td>\n",
       "      <td>PR</td>\n",
       "      <td>D Pedro II</td>\n",
       "      <td>PR</td>\n",
       "      <td>37064.0</td>\n",
       "      <td>8530057.0</td>\n",
       "      <td>11</td>\n",
       "      <td>2017</td>\n",
       "    </tr>\n",
       "  </tbody>\n",
       "</table>\n",
       "</div>"
      ],
      "text/plain": [
       "         Mes_Ano Ferrovia             Mercadoria_ANTT  \\\n",
       "82432 2023-11-01    FNSTN                        Soja   \n",
       "23793 2016-03-01      MRS  Prd. Siderúrgicos - Outros   \n",
       "70685 2022-05-01      MRS            Minério de Ferro   \n",
       "7570  2013-12-01      MRS   Contêiner Cheio de 20 Pés   \n",
       "35785 2017-11-01      RMS                        Soja   \n",
       "\n",
       "                 Estacao_Origem UF_Origem                Estacao_Destino  \\\n",
       "82432              Porto Franco        MA  Ponta da Madeira Pêra do Píer   \n",
       "23793  Siderúrgica do Atlântico        RJ                     Piaçaguera   \n",
       "70685            Otavio Dapieve        MG                  Volta Redonda   \n",
       "7570            Boa Vista Velha        SP                 Conceiçãozinha   \n",
       "35785              Desvio Ribas        PR                     D Pedro II   \n",
       "\n",
       "      UF_Destino       TU         TKU  Mes   Ano  \n",
       "82432         MA  83849.0  61108852.0   11  2023  \n",
       "23793         SP   5736.0   2874877.0    3  2016  \n",
       "70685         RJ  89195.0  32608086.0    5  2022  \n",
       "7570          SP   5688.0   1076573.0   12  2013  \n",
       "35785         PR  37064.0   8530057.0   11  2017  "
      ]
     },
     "execution_count": 99,
     "metadata": {},
     "output_type": "execute_result"
    }
   ],
   "source": [
    "df.sample(5)"
   ]
  },
  {
   "cell_type": "code",
   "execution_count": 121,
   "metadata": {},
   "outputs": [
    {
     "name": "stdout",
     "output_type": "stream",
     "text": [
      "      Ano  Mes   Mercadoria_ANTT          TU\n",
      "0    2013    1  Minério de Ferro  25837836.0\n",
      "1    2013    2  Minério de Ferro  23338529.0\n",
      "2    2013    3  Minério de Ferro  25978061.0\n",
      "3    2013    4  Minério de Ferro  25667031.0\n",
      "4    2013    5  Minério de Ferro  27623456.0\n",
      "..    ...  ...               ...         ...\n",
      "127  2023    8  Minério de Ferro  34133858.0\n",
      "128  2023    9  Minério de Ferro  35461020.0\n",
      "129  2023   10  Minério de Ferro  34828721.0\n",
      "130  2023   11  Minério de Ferro  33803537.0\n",
      "131  2023   12  Minério de Ferro  37522399.0\n",
      "\n",
      "[132 rows x 4 columns]\n"
     ]
    }
   ],
   "source": [
    "# Qual mercadoria é mais transportada cada mês? - Código\n",
    "# Agrupar por mês e ano e encontrar a mercadoria mais transportada\n",
    "resultados = df.groupby(['Ano', 'Mes', 'Mercadoria_ANTT']).agg({'TU': 'sum'}).reset_index()\n",
    "resultados = resultados.sort_values(by=['Ano', 'Mes', 'TU'], ascending=[True, True, False])\n",
    "resultados_mais_transportada = resultados.groupby(['Ano', 'Mes']).first().reset_index()\n",
    "\n",
    "# Mostrar o DataFrame com a mercadoria mais transportada por mês\n",
    "print(resultados_mais_transportada)"
   ]
  },
  {
   "cell_type": "code",
   "execution_count": 124,
   "metadata": {},
   "outputs": [
    {
     "data": {
      "image/png": "[encoded data removed]",
      "text/plain": [
       "<Figure size 1200x800 with 1 Axes>"
      ]
     },
     "metadata": {},
     "output_type": "display_data"
    }
   ],
   "source": [
    "# Qual mercadoria é mais transportada cada mês? - Gráfico\n",
    "# Criar o gráfico\n",
    "plt.figure(figsize=(12, 8))\n",
    "sns.barplot(data=resultados_mais_transportada, x='Mes', y='TU', hue='Ano', palette='Set2')\n",
    "\n",
    "# Ajustar o gráfico\n",
    "plt.title('Mercadoria Mais Transportada por Mês')\n",
    "plt.xlabel('Mês')\n",
    "plt.ylabel('Quantidade Transportada')\n",
    "plt.xticks(ticks=range(0, 12), labels=['Jan', 'Feb', 'Mar', 'Apr', 'May', 'Jun', 'Jul', 'Aug', 'Sep', 'Oct', 'Nov', 'Dec'])\n",
    "# Ajustar a legenda para ser horizontal\n",
    "plt.legend(title='Ano', bbox_to_anchor=(0.5, -0.1), loc='upper center', ncol=3)\n",
    "plt.show()"
   ]
  },
  {
   "cell_type": "code",
   "execution_count": 107,
   "metadata": {},
   "outputs": [
    {
     "name": "stdout",
     "output_type": "stream",
     "text": [
      "    Ferrovia   Ano           TU\n",
      "5        EFC  2018  205406565.0\n",
      "87       MRS  2023  143665952.0\n",
      "24      EFVM  2015  132975557.0\n",
      "38       FCA  2018   34936938.0\n",
      "101      RMN  2023   29489522.0\n",
      "124      RMS  2013   22939727.0\n",
      "54     FNSTN  2023   13573096.0\n",
      "90       RMC  2023    8712403.0\n",
      "120      RMP  2020    8097876.0\n",
      "103      RMO  2014    5600450.0\n",
      "56       FTC  2014    3854429.0\n",
      "74       FTL  2021    2968180.0\n",
      "17      EFPO  2019     686526.0\n"
     ]
    }
   ],
   "source": [
    "# Que ano cada ferrovia transportou mais? - código\n",
    "# Agrupar por ferrovia e ano e somar a quantidade\n",
    "agregado = df.groupby(['Ferrovia', 'Ano']).agg({'TU': 'sum'}).reset_index()\n",
    "\n",
    "# Ordenar o DataFrame em ordem decrescente com base na coluna 'TU'\n",
    "max_transport_sorted = max_transport.sort_values(by='TU', ascending=False)\n",
    "\n",
    "# Mostrar o DataFrame com o ano de maior transporte para cada ferrovia em ordem decrescente\n",
    "print(max_transport_sorted)"
   ]
  },
  {
   "cell_type": "code",
   "execution_count": 108,
   "metadata": {},
   "outputs": [
    {
     "data": {
      "image/png": "[encoded data removed]",
      "text/plain": [
       "<Figure size 1200x800 with 1 Axes>"
      ]
     },
     "metadata": {},
     "output_type": "display_data"
    }
   ],
   "source": [
    "# Que ano cada ferrovia transportou mais? - Gráfico\n",
    "# Criar o gráfico\n",
    "plt.figure(figsize=(12, 8))\n",
    "sns.barplot(data=max_transport_sorted, x='TU', y='Ferrovia', hue='Ano', palette='Set2')\n",
    "\n",
    "# Ajustar o gráfico\n",
    "plt.title('Ano com Maior Transporte para Cada Ferrovia')\n",
    "plt.xlabel('Quantidade Transportada')\n",
    "plt.ylabel('Ferrovia')\n",
    "plt.legend(title='Ano')\n",
    "plt.show()"
   ]
  },
  {
   "cell_type": "code",
   "execution_count": 114,
   "metadata": {},
   "outputs": [
    {
     "name": "stdout",
     "output_type": "stream",
     "text": [
      "      Ano  Mes   Mercadoria_ANTT          TU\n",
      "0    2013    1  Minério de Ferro  25837836.0\n",
      "1    2013    2  Minério de Ferro  23338529.0\n",
      "2    2013    3  Minério de Ferro  25978061.0\n",
      "3    2013    4  Minério de Ferro  25667031.0\n",
      "4    2013    5  Minério de Ferro  27623456.0\n",
      "..    ...  ...               ...         ...\n",
      "127  2023    8  Minério de Ferro  34133858.0\n",
      "128  2023    9  Minério de Ferro  35461020.0\n",
      "129  2023   10  Minério de Ferro  34828721.0\n",
      "130  2023   11  Minério de Ferro  33803537.0\n",
      "131  2023   12  Minério de Ferro  37522399.0\n",
      "\n",
      "[132 rows x 4 columns]\n"
     ]
    }
   ],
   "source": [
    "# Que mês/ano cada ferrovia transportou mais? - código\n",
    "# Agrupar por mês e ano e encontrar a mercadoria mais transportada\n",
    "resultados = df.groupby(['Ano', 'Mes', 'Mercadoria_ANTT']).agg({'TU': 'sum'}).reset_index()\n",
    "resultados = resultados.sort_values(by=['Ano', 'Mes', 'TU'], ascending=[True, True, False])\n",
    "resultados_mais_transportada = resultados.groupby(['Ano', 'Mes']).first().reset_index()\n",
    "\n",
    "# Mostrar o DataFrame com a mercadoria mais transportada por mês\n",
    "print(resultados_mais_transportada)"
   ]
  },
  {
   "cell_type": "code",
   "execution_count": 115,
   "metadata": {},
   "outputs": [
    {
     "data": {
      "image/png": "[encoded data removed]",
      "text/plain": [
       "<Figure size 1200x800 with 1 Axes>"
      ]
     },
     "metadata": {},
     "output_type": "display_data"
    }
   ],
   "source": [
    "# Que mês/ano cada ferrovia transportou mais? - Gráfico\n",
    "# Criar o gráfico\n",
    "plt.figure(figsize=(12, 8))\n",
    "sns.barplot(data=max_transport_sorted, x='TU', y='Ferrovia', hue='Mes_Ano', palette='Set2')\n",
    "\n",
    "# Ajustar o gráfico\n",
    "plt.title('Mês/Ano com Maior Transporte para Cada Ferrovia')\n",
    "plt.xlabel('Quantidade Transportada')\n",
    "plt.ylabel('Ferrovia')\n",
    "plt.legend(title='Mês/Ano')\n",
    "plt.show()"
   ]
  },
  {
   "cell_type": "code",
   "execution_count": null,
   "metadata": {},
   "outputs": [],
   "source": []
  },
  {
   "cell_type": "code",
   "execution_count": null,
   "metadata": {},
   "outputs": [],
   "source": [
    "#Pergunta: Quais são os volumes de carga transportada por mês e por ano? Como esses volumes variam entre as diferentes ferrovias, mercadorias e regiões?\n",
    "#Tarefas:\n",
    "#Criar gráficos de séries temporais para visualizar as tendências mensais e anuais de tonelagem (coluna tu).\n",
    "#Realizar uma análise de distribuição das mercadorias transportadas e suas variações por ferrovia (ferrovia) e região (estação de origem e destino, uf_origem e uf_destino)."
   ]
  },
  {
   "cell_type": "code",
   "execution_count": null,
   "metadata": {},
   "outputs": [],
   "source": []
  },
  {
   "cell_type": "code",
   "execution_count": null,
   "metadata": {},
   "outputs": [],
   "source": [
    "#Eficiência do Transporte:\n",
    "\n",
    "#Pergunta: Qual é a eficiência média do transporte ferroviário em termos de tonelada-quilômetro útil (coluna tku) para diferentes ferrovias e mercadorias?\n",
    "#Tarefas:\n",
    "#Calcular a eficiência média (tku por tonelada) por ferrovia e por tipo de mercadoria.\n",
    "#Identificar quais ferrovias e mercadorias têm a melhor e a pior eficiência."
   ]
  },
  {
   "cell_type": "code",
   "execution_count": null,
   "metadata": {},
   "outputs": [],
   "source": []
  },
  {
   "cell_type": "code",
   "execution_count": null,
   "metadata": {},
   "outputs": [],
   "source": []
  },
  {
   "cell_type": "code",
   "execution_count": null,
   "metadata": {},
   "outputs": [],
   "source": [
    "#Análise de Rota e Distância:\n",
    "\n",
    "#Pergunta: Quais são as rotas mais e menos frequentes entre estações? Existe uma correlação entre a distância das rotas e o volume de carga transportada?\n",
    "#Tarefas:\n",
    "#Criar uma matriz de fluxo entre as estações de origem e destino para identificar as rotas mais e menos frequentes.\n",
    "#Utilizar informações geográficas (se disponíveis) para calcular distâncias e analisar a correlação entre distância e volume de carga (tu)."
   ]
  },
  {
   "cell_type": "code",
   "execution_count": null,
   "metadata": {},
   "outputs": [],
   "source": []
  },
  {
   "cell_type": "code",
   "execution_count": null,
   "metadata": {},
   "outputs": [],
   "source": [
    "#Tendências Temporais e Sazonalidade:\n",
    "\n",
    "#Pergunta: Existem padrões sazonais ou tendências temporais significativas no volume de carga transportada?\n",
    "#Tarefas:\n",
    "#Analisar tendências temporais e padrões sazonais utilizando técnicas de decomposição de séries temporais.\n",
    "#Visualizar os dados com gráficos sazonais para identificar padrões anuais ou mensais."
   ]
  },
  {
   "cell_type": "code",
   "execution_count": null,
   "metadata": {},
   "outputs": [],
   "source": []
  },
  {
   "cell_type": "code",
   "execution_count": null,
   "metadata": {},
   "outputs": [],
   "source": []
  },
  {
   "cell_type": "code",
   "execution_count": null,
   "metadata": {},
   "outputs": [],
   "source": []
  },
  {
   "cell_type": "code",
   "execution_count": null,
   "metadata": {},
   "outputs": [],
   "source": [
    "#Visualização e Relatórios:\n",
    "\n",
    "#Pergunta: Como apresentar os resultados de maneira clara e informativa para stakeholders?\n",
    "#Tarefas:\n",
    "#Criar dashboards interativos que incluam gráficos de tendências, mapas de rotas, e análises de eficiência.\n",
    "#Desenvolver relatórios que destaquem insights principais, como oportunidades de otimização e melhorias na eficiência.\n",
    "#Métodos e Ferramentas:\n",
    "#Análise Exploratória de Dados (EDA): Usar bibliotecas como Pandas, NumPy, e Matplotlib/Seaborn para exploração e visualização dos dados.\n",
    "#Modelagem Estatística: Aplicar técnicas estatísticas para entender padrões e correlações.\n",
    "#Machine Learning (opcional): Usar algoritmos de aprendizado de máquina para prever volumes de carga futuros ou identificar padrões complexos.\n",
    "#Visualização de Dados: Utilizar ferramentas como Tableau, Power BI, ou bibliotecas Python (Plotly, Bokeh) para criar visualizações interativas.\n",
    "#Exemplo de Resultados a Serem Apresentados:\n",
    "#Gráficos de Tendências: Volume de carga transportada ao longo do tempo, por ferrovia e mercadoria.\n",
    "#Matriz de Fluxo: Frequência das rotas entre estações de origem e destino.\n",
    "#Eficiência: Gráficos comparativos da eficiência entre diferentes ferrovias e mercadorias.\n",
    "#Mapas: Mapas de calor mostrando a intensidade do transporte entre diferentes regiões."
   ]
  },
  {
   "cell_type": "code",
   "execution_count": null,
   "metadata": {},
   "outputs": [],
   "source": []
  },
  {
   "cell_type": "code",
   "execution_count": null,
   "metadata": {},
   "outputs": [],
   "source": []
  },
  {
   "cell_type": "markdown",
   "metadata": {},
   "source": [
    "### Verificando a relação entre atributos"
   ]
  },
  {
   "cell_type": "code",
   "execution_count": 71,
   "metadata": {},
   "outputs": [
    {
     "name": "stdout",
     "output_type": "stream",
     "text": [
      "Status    Cancelled    Late  Partial Cancel\n",
      "Period                                     \n",
      "AM Peak        2400   33923            1466\n",
      "Off-peak       6517  141841            5787\n",
      "PM Peak        4148   37532             832\n"
     ]
    }
   ],
   "source": [
    "# Criando a tabela de contingência em números absolutos\n",
    "tabela_contingencia = pd.crosstab(df['Period'], df['Status']) \n",
    "\n",
    "print(tabela_contingencia)"
   ]
  },
  {
   "cell_type": "code",
   "execution_count": 72,
   "metadata": {},
   "outputs": [
    {
     "name": "stdout",
     "output_type": "stream",
     "text": [
      "Status    Cancelled   Late  Partial Cancel\n",
      "Period                                    \n",
      "AM Peak        6.35  89.77            3.88\n",
      "Off-peak       4.23  92.02            3.75\n",
      "PM Peak        9.76  88.29            1.96\n"
     ]
    }
   ],
   "source": [
    "# Criando a tabela de contingência em porcentagem\n",
    "tabela_contingencia_perc = pd.crosstab(df['Period'], df['Status'], normalize='index') * 100\n",
    "# Arredondando para 2 dígitos após a vírgula\n",
    "tabela_contingencia_perc = tabela_contingencia_perc.round(2)\n",
    "print(tabela_contingencia_perc)"
   ]
  },
  {
   "cell_type": "code",
   "execution_count": null,
   "metadata": {},
   "outputs": [],
   "source": [
    "# Atrasos independem se está no pico ou fora de pico "
   ]
  },
  {
   "cell_type": "code",
   "execution_count": null,
   "metadata": {},
   "outputs": [],
   "source": []
  },
  {
   "cell_type": "code",
   "execution_count": null,
   "metadata": {},
   "outputs": [],
   "source": []
  },
  {
   "cell_type": "markdown",
   "metadata": {},
   "source": [
    "## 7 - Pré-Processamento de Dados Para Construção de Modelos de Machine Learning"
   ]
  },
  {
   "cell_type": "code",
   "execution_count": 73,
   "metadata": {},
   "outputs": [
    {
     "data": {
      "text/plain": [
       "(234446, 10)"
      ]
     },
     "execution_count": 73,
     "metadata": {},
     "output_type": "execute_result"
    }
   ],
   "source": [
    "df.shape"
   ]
  },
  {
   "cell_type": "code",
   "execution_count": 74,
   "metadata": {},
   "outputs": [
    {
     "name": "stdout",
     "output_type": "stream",
     "text": [
      "A quantidade de valores ausentes em cada coluna é:\n",
      " Service_Date          0\n",
      "Train                 0\n",
      "Branch                0\n",
      "Depart_Station        0\n",
      "Depart_Time           0\n",
      "Arrive_Station        0\n",
      "Arrive_Time           0\n",
      "Period                0\n",
      "Status                0\n",
      "Minutes_Late      18871\n",
      "dtype: int64\n"
     ]
    }
   ],
   "source": [
    "# Verificando valores ausentes\n",
    "numero_ausentes = df.isnull().sum()\n",
    "print('A quantidade de valores ausentes em cada coluna é:\\n', numero_ausentes)"
   ]
  },
  {
   "cell_type": "code",
   "execution_count": 75,
   "metadata": {},
   "outputs": [],
   "source": [
    "# Excluindo valores ausentes apenas nas colunas 'Period' e 'Status'\n",
    "df_1 = df.dropna(subset=['Minutes_Late'])"
   ]
  },
  {
   "cell_type": "code",
   "execution_count": 76,
   "metadata": {},
   "outputs": [
    {
     "data": {
      "text/plain": [
       "Service_Date      0\n",
       "Train             0\n",
       "Branch            0\n",
       "Depart_Station    0\n",
       "Depart_Time       0\n",
       "Arrive_Station    0\n",
       "Arrive_Time       0\n",
       "Period            0\n",
       "Status            0\n",
       "Minutes_Late      0\n",
       "dtype: int64"
      ]
     },
     "execution_count": 76,
     "metadata": {},
     "output_type": "execute_result"
    }
   ],
   "source": [
    "df_1.isnull().sum()"
   ]
  },
  {
   "cell_type": "code",
   "execution_count": null,
   "metadata": {},
   "outputs": [],
   "source": [
    "# Verifica registros duplicados (remove uma das duplicatas)\n",
    "numero_duplicados = df.duplicated().sum()\n",
    "print('A quantidade de valores duplicados é: ', numero_duplicados)"
   ]
  },
  {
   "cell_type": "code",
   "execution_count": null,
   "metadata": {},
   "outputs": [],
   "source": [
    "#Tratamento de outliers"
   ]
  },
  {
   "cell_type": "code",
   "execution_count": null,
   "metadata": {},
   "outputs": [],
   "source": [
    "# Boxplot\n",
    "sns.boxplot(df.Pregnancies)"
   ]
  },
  {
   "cell_type": "code",
   "execution_count": null,
   "metadata": {},
   "outputs": [],
   "source": [
    "# Boxplot\n",
    "sns.boxplot(df.Glucose)"
   ]
  },
  {
   "cell_type": "code",
   "execution_count": null,
   "metadata": {},
   "outputs": [],
   "source": [
    "# Boxplot\n",
    "sns.boxplot(df.BloodPressure )"
   ]
  },
  {
   "cell_type": "code",
   "execution_count": null,
   "metadata": {},
   "outputs": [],
   "source": [
    "# Boxplot\n",
    "sns.boxplot(df.SkinThickness)"
   ]
  },
  {
   "cell_type": "code",
   "execution_count": null,
   "metadata": {},
   "outputs": [],
   "source": [
    "# Boxplot\n",
    "sns.boxplot(df.Insulin )"
   ]
  },
  {
   "cell_type": "code",
   "execution_count": null,
   "metadata": {},
   "outputs": [],
   "source": [
    "# Boxplot\n",
    "sns.boxplot(df.BMI  )"
   ]
  },
  {
   "cell_type": "code",
   "execution_count": null,
   "metadata": {},
   "outputs": [],
   "source": [
    "# Boxplot\n",
    "sns.boxplot(df.DiabetesPedigreeFunction)"
   ]
  },
  {
   "cell_type": "code",
   "execution_count": null,
   "metadata": {},
   "outputs": [],
   "source": [
    "# Boxplot\n",
    "sns.boxplot(df.Age)"
   ]
  },
  {
   "cell_type": "code",
   "execution_count": null,
   "metadata": {},
   "outputs": [],
   "source": [
    "#outliers - variável Pregnancies\n",
    "# Calcular os quartis\n",
    "Q1 = df['Pregnancies'].quantile(0.25)\n",
    "Q3 = df['Pregnancies'].quantile(0.75)\n",
    "\n",
    "# Calcular o intervalo interquartil (IQR)\n",
    "IQR = Q3 - Q1\n",
    "\n",
    "# Definir limites para identificar outliers\n",
    "limite_inferior = Q1 - 1.5 * IQR\n",
    "limite_superior = Q3 + 1.5 * IQR\n",
    "\n",
    "# Identificar outliers\n",
    "outliers_inferiores = df[df['Pregnancies'] < limite_inferior]\n",
    "outliers_superiores = df[df['Pregnancies'] > limite_superior]\n",
    "\n",
    "# Contar a quantidade de outliers inferiores e superiores\n",
    "quantidade_outliers_inferiores = len(outliers_inferiores)\n",
    "quantidade_outliers_superiores = len(outliers_superiores)\n",
    "\n",
    "print(\"Quantidade de outliers inferiores:\", quantidade_outliers_inferiores)\n",
    "print(\"Quantidade de outliers superiores:\", quantidade_outliers_superiores)\n"
   ]
  },
  {
   "cell_type": "code",
   "execution_count": null,
   "metadata": {},
   "outputs": [],
   "source": [
    "# Decisão: Manter os outliers"
   ]
  },
  {
   "cell_type": "code",
   "execution_count": null,
   "metadata": {},
   "outputs": [],
   "source": [
    "#outliers - variável Glucose\n",
    "# Calcular os quartis\n",
    "Q1 = df['Glucose'].quantile(0.25)\n",
    "Q3 = df['Glucose'].quantile(0.75)\n",
    "\n",
    "# Calcular o intervalo interquartil (IQR)\n",
    "IQR = Q3 - Q1\n",
    "\n",
    "# Definir limites para identificar outliers\n",
    "limite_inferior = Q1 - 1.5 * IQR\n",
    "limite_superior = Q3 + 1.5 * IQR\n",
    "\n",
    "# Identificar outliers\n",
    "outliers_inferiores = df[df['Glucose'] < limite_inferior]\n",
    "outliers_superiores = df[df['Glucose'] > limite_superior]\n",
    "\n",
    "# Contar a quantidade de outliers inferiores e superiores\n",
    "quantidade_outliers_inferiores = len(outliers_inferiores)\n",
    "quantidade_outliers_superiores = len(outliers_superiores)\n",
    "\n",
    "print(\"Quantidade de outliers inferiores:\", quantidade_outliers_inferiores)\n",
    "print(\"Quantidade de outliers superiores:\", quantidade_outliers_superiores)\n"
   ]
  },
  {
   "cell_type": "code",
   "execution_count": null,
   "metadata": {},
   "outputs": [],
   "source": [
    "# Decisão: Manter os outliers"
   ]
  },
  {
   "cell_type": "code",
   "execution_count": null,
   "metadata": {},
   "outputs": [],
   "source": [
    "#outliers - variável BloodPressure\n",
    "# Calcular os quartis\n",
    "Q1 = df['BloodPressure'].quantile(0.25)\n",
    "Q3 = df['BloodPressure'].quantile(0.75)\n",
    "\n",
    "# Calcular o intervalo interquartil (IQR)\n",
    "IQR = Q3 - Q1\n",
    "\n",
    "# Definir limites para identificar outliers\n",
    "limite_inferior = Q1 - 1.5 * IQR\n",
    "limite_superior = Q3 + 1.5 * IQR\n",
    "\n",
    "# Identificar outliers\n",
    "outliers_inferiores = df[df['BloodPressure'] < limite_inferior]\n",
    "outliers_superiores = df[df['BloodPressure'] > limite_superior]\n",
    "\n",
    "# Contar a quantidade de outliers inferiores e superiores\n",
    "quantidade_outliers_inferiores = len(outliers_inferiores)\n",
    "quantidade_outliers_superiores = len(outliers_superiores)\n",
    "\n",
    "print(\"Quantidade de outliers inferiores:\", quantidade_outliers_inferiores)\n",
    "print(\"Quantidade de outliers superiores:\", quantidade_outliers_superiores)\n"
   ]
  },
  {
   "cell_type": "code",
   "execution_count": null,
   "metadata": {},
   "outputs": [],
   "source": [
    "# Decisão: Manter os outliers"
   ]
  },
  {
   "cell_type": "code",
   "execution_count": null,
   "metadata": {},
   "outputs": [],
   "source": [
    "#outliers - variável SkinThickness\n",
    "# Calcular os quartis\n",
    "Q1 = df['SkinThickness'].quantile(0.25)\n",
    "Q3 = df['SkinThickness'].quantile(0.75)\n",
    "\n",
    "# Calcular o intervalo interquartil (IQR)\n",
    "IQR = Q3 - Q1\n",
    "\n",
    "# Definir limites para identificar outliers\n",
    "limite_inferior = Q1 - 1.5 * IQR\n",
    "limite_superior = Q3 + 1.5 * IQR\n",
    "\n",
    "# Identificar outliers\n",
    "outliers_inferiores = df[df['SkinThickness'] < limite_inferior]\n",
    "outliers_superiores = df[df['SkinThickness'] > limite_superior]\n",
    "\n",
    "# Contar a quantidade de outliers inferiores e superiores\n",
    "quantidade_outliers_inferiores = len(outliers_inferiores)\n",
    "quantidade_outliers_superiores = len(outliers_superiores)\n",
    "\n",
    "print(\"Quantidade de outliers inferiores:\", quantidade_outliers_inferiores)\n",
    "print(\"Quantidade de outliers superiores:\", quantidade_outliers_superiores)\n"
   ]
  },
  {
   "cell_type": "code",
   "execution_count": null,
   "metadata": {},
   "outputs": [],
   "source": [
    "# Decisão: Manter o outlier\n",
    "       "
   ]
  },
  {
   "cell_type": "code",
   "execution_count": null,
   "metadata": {},
   "outputs": [],
   "source": [
    "#outliers - variável Insulin\n",
    "# Calcular os quartis\n",
    "Q1 = df['Insulin'].quantile(0.25)\n",
    "Q3 = df['Insulin'].quantile(0.75)\n",
    "\n",
    "# Calcular o intervalo interquartil (IQR)\n",
    "IQR = Q3 - Q1\n",
    "\n",
    "# Definir limites para identificar outliers\n",
    "limite_inferior = Q1 - 1.5 * IQR\n",
    "limite_superior = Q3 + 1.5 * IQR\n",
    "\n",
    "# Identificar outliers\n",
    "outliers_inferiores = df[df['Insulin'] < limite_inferior]\n",
    "outliers_superiores = df[df['Insulin'] > limite_superior]\n",
    "\n",
    "# Contar a quantidade de outliers inferiores e superiores\n",
    "quantidade_outliers_inferiores = len(outliers_inferiores)\n",
    "quantidade_outliers_superiores = len(outliers_superiores)\n",
    "\n",
    "print(\"Quantidade de outliers inferiores:\", quantidade_outliers_inferiores)\n",
    "print(\"Quantidade de outliers superiores:\", quantidade_outliers_superiores)\n"
   ]
  },
  {
   "cell_type": "code",
   "execution_count": null,
   "metadata": {},
   "outputs": [],
   "source": [
    " # Decisão: Manter os outliers"
   ]
  },
  {
   "cell_type": "code",
   "execution_count": null,
   "metadata": {},
   "outputs": [],
   "source": [
    "#outliers - variável BMI\n",
    "# Calcular os quartis\n",
    "Q1 = df['BMI'].quantile(0.25)\n",
    "Q3 = df['BMI'].quantile(0.75)\n",
    "\n",
    "# Calcular o intervalo interquartil (IQR)\n",
    "IQR = Q3 - Q1\n",
    "\n",
    "# Definir limites para identificar outliers\n",
    "limite_inferior = Q1 - 1.5 * IQR\n",
    "limite_superior = Q3 + 1.5 * IQR\n",
    "\n",
    "# Identificar outliers\n",
    "outliers_inferiores = df[df['BMI'] < limite_inferior]\n",
    "outliers_superiores = df[df['BMI'] > limite_superior]\n",
    "\n",
    "# Contar a quantidade de outliers inferiores e superiores\n",
    "quantidade_outliers_inferiores = len(outliers_inferiores)\n",
    "quantidade_outliers_superiores = len(outliers_superiores)\n",
    "\n",
    "print(\"Quantidade de outliers inferiores:\", quantidade_outliers_inferiores)\n",
    "print(\"Quantidade de outliers superiores:\", quantidade_outliers_superiores)\n"
   ]
  },
  {
   "cell_type": "code",
   "execution_count": null,
   "metadata": {},
   "outputs": [],
   "source": [
    "# Decisão: Manter os outliers"
   ]
  },
  {
   "cell_type": "code",
   "execution_count": null,
   "metadata": {},
   "outputs": [],
   "source": [
    "#outliers - variável DiabetesPedigreeFunction\n",
    "# Calcular os quartis\n",
    "Q1 = df['DiabetesPedigreeFunction'].quantile(0.25)\n",
    "Q3 = df['DiabetesPedigreeFunction'].quantile(0.75)\n",
    "\n",
    "# Calcular o intervalo interquartil (IQR)\n",
    "IQR = Q3 - Q1\n",
    "\n",
    "# Definir limites para identificar outliers\n",
    "limite_inferior = Q1 - 1.5 * IQR\n",
    "limite_superior = Q3 + 1.5 * IQR\n",
    "\n",
    "# Identificar outliers\n",
    "outliers_inferiores = df[df['DiabetesPedigreeFunction'] < limite_inferior]\n",
    "outliers_superiores = df[df['DiabetesPedigreeFunction'] > limite_superior]\n",
    "\n",
    "# Contar a quantidade de outliers inferiores e superiores\n",
    "quantidade_outliers_inferiores = len(outliers_inferiores)\n",
    "quantidade_outliers_superiores = len(outliers_superiores)\n",
    "\n",
    "print(\"Quantidade de outliers inferiores:\", quantidade_outliers_inferiores)\n",
    "print(\"Quantidade de outliers superiores:\", quantidade_outliers_superiores)\n"
   ]
  },
  {
   "cell_type": "code",
   "execution_count": null,
   "metadata": {},
   "outputs": [],
   "source": [
    "# Decisão: Manter os outliers"
   ]
  },
  {
   "cell_type": "code",
   "execution_count": null,
   "metadata": {},
   "outputs": [],
   "source": [
    "#outliers - variável Age\n",
    "# Calcular os quartis\n",
    "Q1 = df['Age'].quantile(0.25)\n",
    "Q3 = df['Age'].quantile(0.75)\n",
    "\n",
    "# Calcular o intervalo interquartil (IQR)\n",
    "IQR = Q3 - Q1\n",
    "\n",
    "# Definir limites para identificar outliers\n",
    "limite_inferior = Q1 - 1.5 * IQR\n",
    "limite_superior = Q3 + 1.5 * IQR\n",
    "\n",
    "# Identificar outliers\n",
    "outliers_inferiores = df[df['Age'] < limite_inferior]\n",
    "outliers_superiores = df[df['Age'] > limite_superior]\n",
    "\n",
    "# Contar a quantidade de outliers inferiores e superiores\n",
    "quantidade_outliers_inferiores = len(outliers_inferiores)\n",
    "quantidade_outliers_superiores = len(outliers_superiores)\n",
    "\n",
    "print(\"Quantidade de outliers inferiores:\", quantidade_outliers_inferiores)\n",
    "print(\"Quantidade de outliers superiores:\", quantidade_outliers_superiores)\n"
   ]
  },
  {
   "cell_type": "code",
   "execution_count": null,
   "metadata": {},
   "outputs": [],
   "source": [
    "# Decisão: Manter os outliers"
   ]
  },
  {
   "cell_type": "markdown",
   "metadata": {},
   "source": [
    "### Balanceando os dados de saída"
   ]
  },
  {
   "cell_type": "code",
   "execution_count": null,
   "metadata": {},
   "outputs": [],
   "source": [
    "# Vamos fazer o Under sampling para este balanceamento\n",
    "\n",
    "# Separar features e target\n",
    "X = df.drop('Outcome', axis=1)\n",
    "y = df['Outcome']\n",
    "\n",
    "# Criar o objeto RandomUnderSampler para balancear as classes\n",
    "rus = RandomUnderSampler(random_state=42)\n",
    "\n",
    "# Aplicar o undersampling aos dados\n",
    "X_resampled, y_resampled = rus.fit_resample(X, y)\n",
    "\n",
    "# Converter os dados balanceados de volta para DataFrame\n",
    "df_balanceado = pd.DataFrame(X_resampled, columns=X.columns)\n",
    "df_balanceado['Outcome'] = y_resampled\n",
    "\n",
    "# Visualizar o DataFrame balanceado\n",
    "#print(df_balanceado)\n",
    "\n",
    "# novo shape após balanceamento\n",
    "df_balanceado.shape\n"
   ]
  },
  {
   "cell_type": "code",
   "execution_count": null,
   "metadata": {},
   "outputs": [],
   "source": [
    "# Quantidade de respostas com e sem diabetes balanceada\n",
    "df_balanceado['Outcome'].value_counts()"
   ]
  },
  {
   "cell_type": "markdown",
   "metadata": {},
   "source": [
    "# 8 - Construção, Treinamento e Avaliação do Modelo 1 com Regressão Logística (Benchmark)\n"
   ]
  },
  {
   "cell_type": "code",
   "execution_count": null,
   "metadata": {},
   "outputs": [],
   "source": [
    "# Preparando os dados de treino e teste\n",
    "# X = df.drop(columns='Outcome')\n",
    "# y = df['Outcome']\n",
    "\n",
    "X = df_balanceado.drop(columns='Outcome')\n",
    "y = df_balanceado['Outcome']\n",
    "X_treino, X_teste, y_treino, y_teste = train_test_split(X, y, test_size=0.2, random_state=10)"
   ]
  },
  {
   "cell_type": "markdown",
   "metadata": {},
   "source": [
    "### Padronização"
   ]
  },
  {
   "cell_type": "code",
   "execution_count": null,
   "metadata": {},
   "outputs": [],
   "source": [
    "scaler = StandardScaler()"
   ]
  },
  {
   "cell_type": "code",
   "execution_count": null,
   "metadata": {},
   "outputs": [],
   "source": [
    "scaler.fit(X_treino)"
   ]
  },
  {
   "cell_type": "code",
   "execution_count": null,
   "metadata": {},
   "outputs": [],
   "source": [
    "X_treino = scaler.transform(X_treino)"
   ]
  },
  {
   "cell_type": "code",
   "execution_count": null,
   "metadata": {},
   "outputs": [],
   "source": [
    "X_teste = scaler.transform(X_teste)"
   ]
  },
  {
   "cell_type": "code",
   "execution_count": null,
   "metadata": {},
   "outputs": [],
   "source": [
    "X_treino[:5]"
   ]
  },
  {
   "cell_type": "code",
   "execution_count": null,
   "metadata": {},
   "outputs": [],
   "source": [
    "X_teste[:5]"
   ]
  },
  {
   "cell_type": "markdown",
   "metadata": {},
   "source": [
    "## 8.1 - Modelo de Regressão Logística"
   ]
  },
  {
   "cell_type": "code",
   "execution_count": null,
   "metadata": {},
   "outputs": [],
   "source": [
    "# Cria o modelo\n",
    "modelo_v1 = LogisticRegression()"
   ]
  },
  {
   "cell_type": "code",
   "execution_count": null,
   "metadata": {},
   "outputs": [],
   "source": [
    "# Treinamento\n",
    "modelo_v1.fit(X_treino, y_treino)"
   ]
  },
  {
   "cell_type": "code",
   "execution_count": null,
   "metadata": {},
   "outputs": [],
   "source": [
    "# Avaliação do Modelo\n",
    "\n",
    "Previsao = modelo_v1.predict(X_teste)\n",
    "print('Matriz Confusão: \\n', confusion_matrix(y_teste, Previsao), '\\n')"
   ]
  },
  {
   "cell_type": "code",
   "execution_count": null,
   "metadata": {},
   "outputs": [],
   "source": [
    "# Métricas de Classificação - Relatório de Classificação\n",
    "print('Relatório de Classificação - Regressão Logistica: \\n', classification_report(y_teste, Previsao))"
   ]
  },
  {
   "cell_type": "code",
   "execution_count": null,
   "metadata": {},
   "outputs": [],
   "source": [
    "# Previsão Balanceada\n",
    "print('Score (Treino): ', round(modelo_v1.score(X_treino, y_treino), 2))\n",
    "print('Score (Teste): ', round(modelo_v1.score(X_teste, y_teste), 2))"
   ]
  },
  {
   "cell_type": "code",
   "execution_count": null,
   "metadata": {},
   "outputs": [],
   "source": [
    "# Fazer previsões no conjunto de teste\n",
    "y_pred = modelo_v1.predict(X_teste)"
   ]
  },
  {
   "cell_type": "code",
   "execution_count": null,
   "metadata": {},
   "outputs": [],
   "source": [
    "# Avaliar a precisão do modelo\n",
    "accuracy_v1 = accuracy_score(y_teste, y_pred)\n",
    "print(\"Accuracy:\", accuracy_v1)"
   ]
  },
  {
   "cell_type": "markdown",
   "metadata": {},
   "source": [
    "## 8.2 - Modelo de Random Forest"
   ]
  },
  {
   "cell_type": "code",
   "execution_count": null,
   "metadata": {},
   "outputs": [],
   "source": [
    "# Cria o modelo\n",
    "modelo_v2 = RandomForestClassifier(max_depth=3)"
   ]
  },
  {
   "cell_type": "code",
   "execution_count": null,
   "metadata": {},
   "outputs": [],
   "source": [
    "# Treinamento\n",
    "modelo_v2.fit(X_treino, y_treino)"
   ]
  },
  {
   "cell_type": "code",
   "execution_count": null,
   "metadata": {},
   "outputs": [],
   "source": [
    "# Avaliação do modelo\n",
    "Previsao_forest = modelo_v2.predict(X_teste)\n",
    "print('Relatório de Classificação - Random Forest: \\n', classification_report(y_teste, Previsao_forest))"
   ]
  },
  {
   "cell_type": "code",
   "execution_count": null,
   "metadata": {},
   "outputs": [],
   "source": [
    "# Fazer previsões no conjunto de teste\n",
    "y_pred = modelo_v2.predict(X_teste)"
   ]
  },
  {
   "cell_type": "code",
   "execution_count": null,
   "metadata": {},
   "outputs": [],
   "source": [
    "# Avaliar a precisão do modelo\n",
    "accuracy_v2 = accuracy_score(y_teste, y_pred)\n",
    "print(\"Accuracy:\", accuracy_v2)"
   ]
  },
  {
   "cell_type": "markdown",
   "metadata": {},
   "source": [
    "## 8.3 - Modelo de SVM"
   ]
  },
  {
   "cell_type": "code",
   "execution_count": null,
   "metadata": {},
   "outputs": [],
   "source": [
    "# Cria o modelo\n",
    "modelo_v3 = SVC(kernel='linear')"
   ]
  },
  {
   "cell_type": "code",
   "execution_count": null,
   "metadata": {},
   "outputs": [],
   "source": [
    "# Treinamento\n",
    "modelo_v3.fit(X_treino, y_treino)"
   ]
  },
  {
   "cell_type": "code",
   "execution_count": null,
   "metadata": {},
   "outputs": [],
   "source": [
    "# Avaliação do modelo\n",
    "Previsao_svm = modelo_v3.predict(X_teste)\n",
    "print('Relatório de Classificação - SVM: \\n', classification_report(y_teste, Previsao_svm))"
   ]
  },
  {
   "cell_type": "code",
   "execution_count": null,
   "metadata": {},
   "outputs": [],
   "source": [
    "# Fazer previsões no conjunto de teste\n",
    "y_pred = modelo_v3.predict(X_teste)"
   ]
  },
  {
   "cell_type": "code",
   "execution_count": null,
   "metadata": {},
   "outputs": [],
   "source": [
    "# Avaliar a precisão do modelo\n",
    "accuracy_v3 = accuracy_score(y_teste, y_pred)\n",
    "print(\"Accuracy:\", accuracy_v3)"
   ]
  },
  {
   "cell_type": "markdown",
   "metadata": {},
   "source": [
    "## 8.4 - Modelo de Rede Neural"
   ]
  },
  {
   "cell_type": "code",
   "execution_count": null,
   "metadata": {},
   "outputs": [],
   "source": [
    "# Criar o modelo\n",
    "modelo_v4 = MLPClassifier(hidden_layer_sizes=(100, 50), max_iter=500, activation='relu', solver='adam', random_state=42)"
   ]
  },
  {
   "cell_type": "code",
   "execution_count": null,
   "metadata": {},
   "outputs": [],
   "source": [
    "# Treinamento\n",
    "modelo_v4.fit(X_treino, y_treino)"
   ]
  },
  {
   "cell_type": "code",
   "execution_count": null,
   "metadata": {},
   "outputs": [],
   "source": [
    "# Avaliação do modelo\n",
    "Previsao_rn = modelo_v4.predict(X_teste)\n",
    "print('Relatório de Classificação - Rede Neural: \\n', classification_report(y_teste, Previsao_rn))"
   ]
  },
  {
   "cell_type": "code",
   "execution_count": null,
   "metadata": {},
   "outputs": [],
   "source": [
    "# Treinamento\n",
    "modelo_v4.fit(X_treino, y_treino)"
   ]
  },
  {
   "cell_type": "code",
   "execution_count": null,
   "metadata": {},
   "outputs": [],
   "source": [
    "# Fazer previsões no conjunto de teste\n",
    "y_pred = modelo_v4.predict(X_teste)"
   ]
  },
  {
   "cell_type": "code",
   "execution_count": null,
   "metadata": {},
   "outputs": [],
   "source": [
    "# Avaliar a precisão do modelo\n",
    "accuracy_v4 = accuracy_score(y_teste, y_pred)\n",
    "print(\"Accuracy:\", accuracy_v4)"
   ]
  },
  {
   "cell_type": "markdown",
   "metadata": {},
   "source": [
    "## 8.5 - Modelo de XGBOOST"
   ]
  },
  {
   "cell_type": "code",
   "execution_count": null,
   "metadata": {},
   "outputs": [],
   "source": [
    "# Criar o modelo\n",
    "modelo_v5 = XGBClassifier(learning_rate=0.01, n_estimators=1000, max_depth=3, random_state=42)"
   ]
  },
  {
   "cell_type": "code",
   "execution_count": null,
   "metadata": {},
   "outputs": [],
   "source": [
    "# Treinamento\n",
    "modelo_v5.fit(X_treino, y_treino)"
   ]
  },
  {
   "cell_type": "code",
   "execution_count": null,
   "metadata": {},
   "outputs": [],
   "source": [
    "# Fazer previsões no conjunto de teste\n",
    "y_pred = modelo_v5.predict(X_teste)"
   ]
  },
  {
   "cell_type": "code",
   "execution_count": null,
   "metadata": {},
   "outputs": [],
   "source": [
    "# Avaliação do modelo\n",
    "Previsao_xgboost = modelo_v5.predict(X_teste)\n",
    "print('Relatório de Classificação - XGBOOST: \\n', classification_report(y_teste, Previsao_xgboost))"
   ]
  },
  {
   "cell_type": "code",
   "execution_count": null,
   "metadata": {},
   "outputs": [],
   "source": [
    "# Avaliar a precisão do modelo\n",
    "accuracy_v5 = accuracy_score(y_teste, y_pred)\n",
    "print(\"Accuracy:\", accuracy_v5)"
   ]
  },
  {
   "cell_type": "markdown",
   "metadata": {},
   "source": [
    "## 8.6 - Modelo de LIGHTGBM"
   ]
  },
  {
   "cell_type": "code",
   "execution_count": null,
   "metadata": {},
   "outputs": [],
   "source": [
    "# Criar o modelo\n",
    "modelo_v6 = LGBMClassifier(learning_rate=0.01, n_estimators=1000, max_depth=3, random_state=42)"
   ]
  },
  {
   "cell_type": "code",
   "execution_count": null,
   "metadata": {},
   "outputs": [
    {
     "data": {
      "text/html": [
       "<style>#sk-container-id-8 {color: black;background-color: white;}#sk-container-id-8 pre{padding: 0;}#sk-container-id-8 div.sk-toggleable {background-color: white;}#sk-container-id-8 label.sk-toggleable__label {cursor: pointer;display: block;width: 100%;margin-bottom: 0;padding: 0.3em;box-sizing: border-box;text-align: center;}#sk-container-id-8 label.sk-toggleable__label-arrow:before {content: \"▸\";float: left;margin-right: 0.25em;color: #696969;}#sk-container-id-8 label.sk-toggleable__label-arrow:hover:before {color: black;}#sk-container-id-8 div.sk-estimator:hover label.sk-toggleable__label-arrow:before {color: black;}#sk-container-id-8 div.sk-toggleable__content {max-height: 0;max-width: 0;overflow: hidden;text-align: left;background-color: #f0f8ff;}#sk-container-id-8 div.sk-toggleable__content pre {margin: 0.2em;color: black;border-radius: 0.25em;background-color: #f0f8ff;}#sk-container-id-8 input.sk-toggleable__control:checked~div.sk-toggleable__content {max-height: 200px;max-width: 100%;overflow: auto;}#sk-container-id-8 input.sk-toggleable__control:checked~label.sk-toggleable__label-arrow:before {content: \"▾\";}#sk-container-id-8 div.sk-estimator input.sk-toggleable__control:checked~label.sk-toggleable__label {background-color: #d4ebff;}#sk-container-id-8 div.sk-label input.sk-toggleable__control:checked~label.sk-toggleable__label {background-color: #d4ebff;}#sk-container-id-8 input.sk-hidden--visually {border: 0;clip: rect(1px 1px 1px 1px);clip: rect(1px, 1px, 1px, 1px);height: 1px;margin: -1px;overflow: hidden;padding: 0;position: absolute;width: 1px;}#sk-container-id-8 div.sk-estimator {font-family: monospace;background-color: #f0f8ff;border: 1px dotted black;border-radius: 0.25em;box-sizing: border-box;margin-bottom: 0.5em;}#sk-container-id-8 div.sk-estimator:hover {background-color: #d4ebff;}#sk-container-id-8 div.sk-parallel-item::after {content: \"\";width: 100%;border-bottom: 1px solid gray;flex-grow: 1;}#sk-container-id-8 div.sk-label:hover label.sk-toggleable__label {background-color: #d4ebff;}#sk-container-id-8 div.sk-serial::before {content: \"\";position: absolute;border-left: 1px solid gray;box-sizing: border-box;top: 0;bottom: 0;left: 50%;z-index: 0;}#sk-container-id-8 div.sk-serial {display: flex;flex-direction: column;align-items: center;background-color: white;padding-right: 0.2em;padding-left: 0.2em;position: relative;}#sk-container-id-8 div.sk-item {position: relative;z-index: 1;}#sk-container-id-8 div.sk-parallel {display: flex;align-items: stretch;justify-content: center;background-color: white;position: relative;}#sk-container-id-8 div.sk-item::before, #sk-container-id-8 div.sk-parallel-item::before {content: \"\";position: absolute;border-left: 1px solid gray;box-sizing: border-box;top: 0;bottom: 0;left: 50%;z-index: -1;}#sk-container-id-8 div.sk-parallel-item {display: flex;flex-direction: column;z-index: 1;position: relative;background-color: white;}#sk-container-id-8 div.sk-parallel-item:first-child::after {align-self: flex-end;width: 50%;}#sk-container-id-8 div.sk-parallel-item:last-child::after {align-self: flex-start;width: 50%;}#sk-container-id-8 div.sk-parallel-item:only-child::after {width: 0;}#sk-container-id-8 div.sk-dashed-wrapped {border: 1px dashed gray;margin: 0 0.4em 0.5em 0.4em;box-sizing: border-box;padding-bottom: 0.4em;background-color: white;}#sk-container-id-8 div.sk-label label {font-family: monospace;font-weight: bold;display: inline-block;line-height: 1.2em;}#sk-container-id-8 div.sk-label-container {text-align: center;}#sk-container-id-8 div.sk-container {/* jupyter's `normalize.less` sets `[hidden] { display: none; }` but bootstrap.min.css set `[hidden] { display: none !important; }` so we also need the `!important` here to be able to override the default hidden behavior on the sphinx rendered scikit-learn.org. See: https://github.com/scikit-learn/scikit-learn/issues/21755 */display: inline-block !important;position: relative;}#sk-container-id-8 div.sk-text-repr-fallback {display: none;}</style><div id=\"sk-container-id-8\" class=\"sk-top-container\"><div class=\"sk-text-repr-fallback\"><pre>LGBMClassifier(learning_rate=0.01, max_depth=3, n_estimators=1000,\n",
       "               random_state=42)</pre><b>In a Jupyter environment, please rerun this cell to show the HTML representation or trust the notebook. <br />On GitHub, the HTML representation is unable to render, please try loading this page with nbviewer.org.</b></div><div class=\"sk-container\" hidden><div class=\"sk-item\"><div class=\"sk-estimator sk-toggleable\"><input class=\"sk-toggleable__control sk-hidden--visually\" id=\"sk-estimator-id-8\" type=\"checkbox\" checked><label for=\"sk-estimator-id-8\" class=\"sk-toggleable__label sk-toggleable__label-arrow\">LGBMClassifier</label><div class=\"sk-toggleable__content\"><pre>LGBMClassifier(learning_rate=0.01, max_depth=3, n_estimators=1000,\n",
       "               random_state=42)</pre></div></div></div></div></div>"
      ],
      "text/plain": [
       "LGBMClassifier(learning_rate=0.01, max_depth=3, n_estimators=1000,\n",
       "               random_state=42)"
      ]
     },
     "execution_count": 86,
     "metadata": {},
     "output_type": "execute_result"
    }
   ],
   "source": [
    "# Treinamento\n",
    "modelo_v6.fit(X_treino, y_treino)"
   ]
  },
  {
   "cell_type": "code",
   "execution_count": null,
   "metadata": {},
   "outputs": [],
   "source": [
    "# Fazer previsões no conjunto de teste\n",
    "y_pred = modelo_v6.predict(X_teste)"
   ]
  },
  {
   "cell_type": "code",
   "execution_count": null,
   "metadata": {},
   "outputs": [],
   "source": [
    "# Avaliação do modelo\n",
    "Previsao_lightGBM = modelo_v6.predict(X_teste)\n",
    "print('Relatório de Classificação - XGBOOST: \\n', classification_report(y_teste, Previsao_lightGBM))"
   ]
  },
  {
   "cell_type": "code",
   "execution_count": null,
   "metadata": {},
   "outputs": [],
   "source": [
    "# Avaliar a precisão do modelo\n",
    "accuracy_v6 = accuracy_score(y_teste, y_pred)\n",
    "print(\"Accuracy:\", accuracy_v6)"
   ]
  },
  {
   "cell_type": "code",
   "execution_count": null,
   "metadata": {},
   "outputs": [],
   "source": [
    "print('A acurácia do modelo_v1 (Regressão Logística) é:\\n', accuracy_v1)\n",
    "print('A acurácia do modelo_v2 (Random Forest) é:\\n', accuracy_v2)\n",
    "print('A acurácia do modelo_v3 (SVM) é:\\n', accuracy_v3)\n",
    "print('A acurácia do modelo_v4 (Rede Neural) é:\\n', accuracy_v4)\n",
    "print('A acurácia do modelo_v5 (XGBOOST) é:\\n', accuracy_v5)\n",
    "print('A acurácia do modelo_v5 (LIGHTBGM) é:\\n', accuracy_v6)"
   ]
  },
  {
   "cell_type": "markdown",
   "metadata": {},
   "source": [
    "## Seleção do Modelo"
   ]
  },
  {
   "cell_type": "markdown",
   "metadata": {},
   "source": [
    "#### Os melhores modelos são v1 e v3. Neste caso, devemos procurar o modelo mais simples. Então seguiremos com o modelo_v1 Regressão Logística"
   ]
  },
  {
   "cell_type": "markdown",
   "metadata": {},
   "source": [
    "## 8.6 - Otimização do modelo"
   ]
  },
  {
   "cell_type": "markdown",
   "metadata": {},
   "source": [
    "### 8.6.1 - Otimização somente com mudança de hiperparâmetro"
   ]
  },
  {
   "cell_type": "code",
   "execution_count": null,
   "metadata": {},
   "outputs": [],
   "source": [
    "#obtem variáveis preditoras \n",
    "X = df_balanceado.drop(columns='Outcome')\n",
    "y = df_balanceado['Outcome']\n",
    "\n",
    "# Dividir os dados em conjuntos de treinamento e teste\n",
    "X_treino, X_teste, y_treino, y_teste = train_test_split(X, y, test_size=0.2, random_state=42)\n",
    "\n",
    "# Inicializar o classificador (Random Forest)\n",
    "clf = RandomForestClassifier()\n",
    "\n",
    "# Inicializar o seletor de características (RFE) com o classificador e o número de características desejadas\n",
    "rfe = RFE(estimator=clf, n_features_to_select=3, step=1)\n",
    "\n",
    "# Ajustar o seletor de características aos dados de treinamento\n",
    "rfe.fit(X_treino, y_treino)\n",
    "\n",
    "# Obter as características selecionadas\n",
    "selected_features = rfe.support_\n",
    "\n",
    "# Imprimir as características selecionadas\n",
    "print(\"Características selecionadas:\")\n",
    "for i in range(len(selected_features)):\n",
    "    if selected_features[i]:\n",
    "        print(f\"Feature {i}: {X.columns[i]}\")"
   ]
  },
  {
   "cell_type": "code",
   "execution_count": null,
   "metadata": {},
   "outputs": [],
   "source": [
    "#vamos novamente treinar só com estas variáveis\n",
    "df.columns"
   ]
  },
  {
   "cell_type": "code",
   "execution_count": null,
   "metadata": {},
   "outputs": [],
   "source": [
    "#X = df_balanceado.drop(columns=['Pregnancies','BloodPressure', 'SkinThickness', 'Insulin', 'Outcome'])\n",
    "X = df_balanceado[['Glucose', 'BMI', 'DiabetesPedigreeFunction']]\n",
    "y = df_balanceado['Outcome']\n",
    "X_treino, X_teste, y_treino, y_teste = train_test_split(X, y, test_size=0.2, random_state=10)"
   ]
  },
  {
   "cell_type": "code",
   "execution_count": null,
   "metadata": {},
   "outputs": [],
   "source": [
    "# Padronização\n",
    "scaler = StandardScaler()\n",
    "scaler.fit(X_treino)\n",
    "X_treino = scaler.transform(X_treino)\n",
    "X_teste = scaler.transform(X_teste)"
   ]
  },
  {
   "cell_type": "code",
   "execution_count": null,
   "metadata": {},
   "outputs": [],
   "source": [
    "# Cria o modelo\n",
    "modelo_v7 = LogisticRegression()\n",
    "# Treinamento\n",
    "modelo_v7.fit(X_treino, y_treino)"
   ]
  },
  {
   "cell_type": "code",
   "execution_count": null,
   "metadata": {},
   "outputs": [],
   "source": [
    "# Avaliação do Modelo\n",
    "Previsao = modelo_v7.predict(X_teste)\n",
    "print('Matriz Confusão: \\n', confusion_matrix(y_teste, Previsao), '\\n')"
   ]
  },
  {
   "cell_type": "code",
   "execution_count": null,
   "metadata": {},
   "outputs": [],
   "source": [
    "# Métricas de Classificação - Relatório de Classificação\n",
    "print('Relatório de Classificação - Regressão Logistica: \\n', classification_report(y_teste, Previsao))"
   ]
  },
  {
   "cell_type": "code",
   "execution_count": null,
   "metadata": {},
   "outputs": [],
   "source": [
    "# Fazer previsões no conjunto de teste\n",
    "y_pred = modelo_v7.predict(X_teste)\n",
    "# Avaliar a precisão do modelo\n",
    "accuracy_v7 = accuracy_score(y_teste, y_pred)\n",
    "print(\"Accuracy:\", accuracy_v7)"
   ]
  },
  {
   "cell_type": "code",
   "execution_count": null,
   "metadata": {},
   "outputs": [],
   "source": [
    "# tive uma acurácia um pouco menor com um modelo com menos variáveis preditoras, ou seja, mais simples"
   ]
  },
  {
   "cell_type": "code",
   "execution_count": null,
   "metadata": {},
   "outputs": [],
   "source": [
    "# Define lista de hiperparâmetros\n",
    "tuned_params_v8 = {'C': [0.0001, 0.001, 0.01, 0.1, 1, 10, 100, 1000, 10000], \n",
    "                   'penalty': ['l1', 'l2']}"
   ]
  },
  {
   "cell_type": "code",
   "execution_count": null,
   "metadata": {},
   "outputs": [],
   "source": [
    "# Criaremos o modelo com GridSearch \n",
    "# Vários modelos serão criados com diferentes combinações de hiperparâmetros\n",
    "modelo_v8 = GridSearchCV(LogisticRegression(), \n",
    "                         tuned_params_v8, \n",
    "                         scoring = 'accuracy', \n",
    "                         n_jobs = -1)"
   ]
  },
  {
   "cell_type": "code",
   "execution_count": null,
   "metadata": {},
   "outputs": [],
   "source": [
    "# Treinamento do modelo\n",
    "modelo_v8.fit(X_treino, y_treino)"
   ]
  },
  {
   "cell_type": "code",
   "execution_count": null,
   "metadata": {},
   "outputs": [],
   "source": [
    "# Selecionamos o melhor modelo\n",
    "modelo_v8.best_estimator_"
   ]
  },
  {
   "cell_type": "code",
   "execution_count": null,
   "metadata": {},
   "outputs": [],
   "source": [
    "# Previsões com dados de teste\n",
    "y_pred_v8 = modelo_v8.predict(X_teste)"
   ]
  },
  {
   "cell_type": "code",
   "execution_count": null,
   "metadata": {},
   "outputs": [],
   "source": [
    "# Mostra as 10 primeiras previsões\n",
    "y_pred_v8[:10]"
   ]
  },
  {
   "cell_type": "code",
   "execution_count": null,
   "metadata": {},
   "outputs": [],
   "source": [
    "# Obtemos as previsões no formato de probabilidade para cada classe\n",
    "y_pred_proba_v8 = modelo_v8.predict_proba(X_teste)"
   ]
  },
  {
   "cell_type": "code",
   "execution_count": null,
   "metadata": {},
   "outputs": [],
   "source": [
    "# Mostra as 10 primeiras previsões\n",
    "y_pred_proba_v8[:10]"
   ]
  },
  {
   "cell_type": "code",
   "execution_count": null,
   "metadata": {},
   "outputs": [],
   "source": [
    "# Obtemos as previsões no formato de probabilidade filtrando para a classe positiva\n",
    "# Precisamos disso para calcula a Curva ROC\n",
    "y_pred_proba_v8 = modelo_v8.predict_proba(X_teste)[:,1]"
   ]
  },
  {
   "cell_type": "code",
   "execution_count": null,
   "metadata": {},
   "outputs": [],
   "source": [
    "# Mostra as 10 primeiras previsões\n",
    "y_pred_proba_v8[:10]"
   ]
  },
  {
   "cell_type": "code",
   "execution_count": null,
   "metadata": {},
   "outputs": [],
   "source": [
    "# Matriz de confusão\n",
    "confusion_matrix(y_teste, y_pred_v8)"
   ]
  },
  {
   "cell_type": "code",
   "execution_count": null,
   "metadata": {},
   "outputs": [],
   "source": [
    "# Extraindo cada valor da CM\n",
    "tn, fp, fn, tp = confusion_matrix(y_teste, y_pred_v8).ravel()"
   ]
  },
  {
   "cell_type": "code",
   "execution_count": null,
   "metadata": {},
   "outputs": [],
   "source": [
    "# Calcula a métrica global AUC (Area Under The Curve) com dados reais e previsões em teste\n",
    "roc_auc_v8 = roc_auc_score(y_teste, y_pred_v8)\n",
    "print(roc_auc_v8)"
   ]
  },
  {
   "cell_type": "code",
   "execution_count": null,
   "metadata": {},
   "outputs": [],
   "source": [
    "# Calcula a curva ROC com dados e previsões em teste\n",
    "fpr_v8, tpr_v8, thresholds = roc_curve(y_teste, y_pred_proba_v8)"
   ]
  },
  {
   "cell_type": "code",
   "execution_count": null,
   "metadata": {},
   "outputs": [],
   "source": [
    "# AUC em teste\n",
    "auc_v8 = auc(fpr_v8, tpr_v8)\n",
    "print(auc_v8)"
   ]
  },
  {
   "cell_type": "code",
   "execution_count": null,
   "metadata": {},
   "outputs": [],
   "source": [
    "# Acurácia em teste\n",
    "acuracia_v8 = accuracy_score(y_teste, y_pred_v8)\n",
    "print(acuracia_v8)"
   ]
  },
  {
   "cell_type": "markdown",
   "metadata": {},
   "source": [
    "### 8.6.2 - Otimização excluindo outliers e buscando melhor hiperparâmetro"
   ]
  },
  {
   "cell_type": "code",
   "execution_count": null,
   "metadata": {},
   "outputs": [],
   "source": [
    "# Remover outliers - variável Glucose\n",
    "Q1 = df['Glucose'].quantile(0.25)\n",
    "Q3 = df['Glucose'].quantile(0.75)\n",
    "IQR = Q3 - Q1\n",
    "limite_inferior = Q1 - 1.5 * IQR\n",
    "limite_superior = Q3 + 1.5 * IQR\n",
    "df = df[(df['Glucose'] >= limite_inferior) & (df['Glucose'] <= limite_superior)]"
   ]
  },
  {
   "cell_type": "code",
   "execution_count": null,
   "metadata": {},
   "outputs": [],
   "source": [
    "# Remover outliers - variável BMI\n",
    "Q1 = df['BMI'].quantile(0.25)\n",
    "Q3 = df['BMI'].quantile(0.75)\n",
    "IQR = Q3 - Q1\n",
    "limite_inferior = Q1 - 1.5 * IQR\n",
    "limite_superior = Q3 + 1.5 * IQR\n",
    "df = df[(df['BMI'] >= limite_inferior) & (df['BMI'] <= limite_superior)]"
   ]
  },
  {
   "cell_type": "code",
   "execution_count": null,
   "metadata": {},
   "outputs": [],
   "source": [
    "# Remover outliers - variável DiabetesPedigreeFunction\n",
    "Q1 = df['DiabetesPedigreeFunction'].quantile(0.25)\n",
    "Q3 = df['DiabetesPedigreeFunction'].quantile(0.75)\n",
    "IQR = Q3 - Q1\n",
    "limite_inferior = Q1 - 1.5 * IQR\n",
    "limite_superior = Q3 + 1.5 * IQR\n",
    "df_sem_outliers = df[(df['DiabetesPedigreeFunction'] >= limite_inferior) & (df['DiabetesPedigreeFunction'] <= limite_superior)]"
   ]
  },
  {
   "cell_type": "code",
   "execution_count": null,
   "metadata": {},
   "outputs": [],
   "source": [
    "df_sem_outliers.shape"
   ]
  },
  {
   "cell_type": "code",
   "execution_count": null,
   "metadata": {},
   "outputs": [],
   "source": [
    "df_sem_outliers['Outcome'].value_counts()"
   ]
  },
  {
   "cell_type": "code",
   "execution_count": null,
   "metadata": {},
   "outputs": [],
   "source": [
    "# Vamos fazer o Under sampling para este balanceamento\n",
    "\n",
    "# Separar features e target\n",
    "X = df_sem_outliers.drop('Outcome', axis=1)\n",
    "y = df_sem_outliers['Outcome']\n",
    "\n",
    "# Criar o objeto RandomUnderSampler para balancear as classes\n",
    "rus = RandomUnderSampler(random_state=42)\n",
    "\n",
    "# Aplicar o undersampling aos dados\n",
    "X_resampled, y_resampled = rus.fit_resample(X, y)\n",
    "\n",
    "# Converter os dados balanceados de volta para DataFrame\n",
    "df_balanceado = pd.DataFrame(X_resampled, columns=X.columns)\n",
    "df_balanceado['Outcome'] = y_resampled\n",
    "\n",
    "# Visualizar o DataFrame balanceado\n",
    "#print(df_balanceado)\n",
    "\n",
    "# novo shape após balanceamento\n",
    "df_balanceado.shape"
   ]
  },
  {
   "cell_type": "code",
   "execution_count": null,
   "metadata": {},
   "outputs": [],
   "source": [
    "#X = df_balanceado.drop(columns=['Pregnancies','BloodPressure', 'SkinThickness', 'Insulin', 'Outcome'])\n",
    "X = df_balanceado[['Glucose', 'BMI', 'DiabetesPedigreeFunction']]\n",
    "y = df_balanceado['Outcome']\n",
    "X_treino, X_teste, y_treino, y_teste = train_test_split(X, y, test_size=0.2, random_state=10)"
   ]
  },
  {
   "cell_type": "code",
   "execution_count": null,
   "metadata": {},
   "outputs": [],
   "source": [
    "# Padronização\n",
    "scaler = StandardScaler()\n",
    "scaler.fit(X_treino)\n",
    "X_treino = scaler.transform(X_treino)\n",
    "X_teste = scaler.transform(X_teste)"
   ]
  },
  {
   "cell_type": "code",
   "execution_count": null,
   "metadata": {},
   "outputs": [],
   "source": [
    "# Define lista de hiperparâmetros\n",
    "tuned_params_v9 = {'C': [0.0001, 0.001, 0.01, 0.1, 1, 10, 100, 1000, 10000], \n",
    "                   'penalty': ['l1', 'l2']}"
   ]
  },
  {
   "cell_type": "code",
   "execution_count": null,
   "metadata": {},
   "outputs": [],
   "source": [
    "# Criaremos o modelo com GridSearch \n",
    "# Vários modelos serão criados com diferentes combinações de hiperparâmetros\n",
    "modelo_v9 = GridSearchCV(LogisticRegression(), \n",
    "                         tuned_params_v9, \n",
    "                         scoring = 'accuracy', \n",
    "                         n_jobs = -1)"
   ]
  },
  {
   "cell_type": "code",
   "execution_count": null,
   "metadata": {},
   "outputs": [],
   "source": [
    "# Treinamento do modelo\n",
    "modelo_v9.fit(X_treino, y_treino)"
   ]
  },
  {
   "cell_type": "code",
   "execution_count": null,
   "metadata": {},
   "outputs": [],
   "source": [
    "# Selecionamos o melhor modelo\n",
    "modelo_v9.best_estimator_\n",
    "# Previsões com dados de teste\n",
    "y_pred_v9 = modelo_v9.predict(X_teste)\n",
    "# Obtemos as previsões no formato de probabilidade filtrando para a classe positiva\n",
    "# Precisamos disso para calcula a Curva ROC\n",
    "y_pred_proba_v9 = modelo_v9.predict_proba(X_teste)[:,1]\n",
    "# Matriz de confusão\n",
    "confusion_matrix(y_teste, y_pred_v9)\n",
    "# Extraindo cada valor da CM\n",
    "tn, fp, fn, tp = confusion_matrix(y_teste, y_pred_v9).ravel()"
   ]
  },
  {
   "cell_type": "code",
   "execution_count": null,
   "metadata": {},
   "outputs": [],
   "source": [
    "# Calcula a métrica global AUC (Area Under The Curve) com dados reais e previsões em teste\n",
    "roc_auc_v9 = roc_auc_score(y_teste, y_pred_v9)\n",
    "print(roc_auc_v9)"
   ]
  },
  {
   "cell_type": "code",
   "execution_count": null,
   "metadata": {},
   "outputs": [],
   "source": [
    "# Calcula a curva ROC com dados e previsões em teste\n",
    "fpr_v9, tpr_v9, thresholds = roc_curve(y_teste, y_pred_proba_v9)"
   ]
  },
  {
   "cell_type": "code",
   "execution_count": null,
   "metadata": {},
   "outputs": [],
   "source": [
    "# AUC em teste\n",
    "auc_v9 = auc(fpr_v9, tpr_v9)\n",
    "print(auc_v9)"
   ]
  },
  {
   "cell_type": "code",
   "execution_count": null,
   "metadata": {},
   "outputs": [],
   "source": [
    "# Acurácia em teste\n",
    "acuracia_v9 = accuracy_score(y_teste, y_pred_v9)\n",
    "print(acuracia_v9)"
   ]
  },
  {
   "cell_type": "markdown",
   "metadata": {},
   "source": [
    "## Conclusão"
   ]
  },
  {
   "cell_type": "markdown",
   "metadata": {},
   "source": [
    "## O modelo_V8 foi o melhor utilizando somente as variáveis 'Glucose', 'BMI', 'DiabetesPedigreeFunction' como preditoras com uma acurácia de 74% que é aceitável diante da pouca quantidade de dados."
   ]
  },
  {
   "cell_type": "markdown",
   "metadata": {},
   "source": [
    "# Fim"
   ]
  }
 ],
 "metadata": {
  "kernelspec": {
   "display_name": "Python 3 (ipykernel)",
   "language": "python",
   "name": "python3"
  },
  "language_info": {
   "codemirror_mode": {
    "name": "ipython",
    "version": 3
   },
   "file_extension": ".py",
   "mimetype": "text/x-python",
   "name": "python",
   "nbconvert_exporter": "python",
   "pygments_lexer": "ipython3",
   "version": "3.12.4"
  }
 },
 "nbformat": 4,
 "nbformat_minor": 4
}
