{
 "cells": [
  {
   "cell_type": "markdown",
   "metadata": {},
   "source": [
    "# <font color='blue'>Problema de Análise da Eficiência do Transporte Ferroviário e Identificação de Oportunidades de Melhoria</font>"
   ]
  },
  {
   "cell_type": "markdown",
   "metadata": {},
   "source": [
    "# 1 - Definindo o problema de negócio"
   ]
  },
  {
   "cell_type": "markdown",
   "metadata": {},
   "source": [
    "### Analisar a eficiência do transporte ferroviário, identificar padrões de transporte, e sugerir oportunidades de melhoria nas operações ferroviárias.\n"
   ]
  },
  {
   "cell_type": "markdown",
   "metadata": {},
   "source": [
    "# 2 - Decisões"
   ]
  },
  {
   "cell_type": "markdown",
   "metadata": {},
   "source": [
    "### O problema de negócio já informa que é requerido um modelo de Machine Learning de xxxx. No dataset, temos a coluna yyy que é a variável que queremos prever. Desta forma, iremos utilizar aprendizagem supervisionada."
   ]
  },
  {
   "cell_type": "markdown",
   "metadata": {},
   "source": [
    "# 3 - Versão python e import dos pacotes utilizados"
   ]
  },
  {
   "cell_type": "code",
   "execution_count": null,
   "metadata": {},
   "outputs": [],
   "source": [
    "# Versão da Linguagem Python\n",
    "from platform import python_version\n",
    "print('Versão da Linguagem Python Usada Neste Jupyter Notebook:', python_version())"
   ]
  },
  {
   "cell_type": "code",
   "execution_count": null,
   "metadata": {},
   "outputs": [],
   "source": [
    "# Para atualizar um pacote, execute o comando abaixo no terminal ou prompt de comando:\n",
    "# pip install -U nome_pacote\n",
    "\n",
    "# Para instalar a versão exata de um pacote, execute o comando abaixo no terminal ou prompt de comando:\n",
    "#!pip install nome_pacote==versão_desejada\n",
    "\n",
    "# Depois de instalar ou atualizar o pacote, reinicie o jupyter notebook.\n",
    "\n",
    "# Instala o pacote watermark. \n",
    "# Esse pacote é usado para gravar as versões de outros pacotes usados neste jupyter notebook.\n",
    "#!pip install -q -U watermark"
   ]
  },
  {
   "cell_type": "code",
   "execution_count": 27,
   "metadata": {},
   "outputs": [],
   "source": [
    "# Imports\n",
    "import numpy as np\n",
    "import pandas as pd\n",
    "import matplotlib.pyplot as plt\n",
    "import seaborn as sns\n",
    "import sklearn\n",
    "import chardet\n",
    "import glob\n",
    "import os\n",
    "import subprocess\n",
    "import statsmodels.api as sm\n",
    "from jupyter_dash import JupyterDash\n",
    "from dash import html, dcc\n",
    "from IPython.display import FileLink, IFrame, Image, display\n",
    "from sklearn.model_selection import cross_val_score\n",
    "from sklearn.model_selection import GridSearchCV\n",
    "from sklearn.model_selection import train_test_split\n",
    "from sklearn.feature_selection import RFE\n",
    "from sklearn.preprocessing import StandardScaler\n",
    "from imblearn.under_sampling import RandomUnderSampler\n",
    "from sklearn.decomposition import TruncatedSVD\n",
    "from sklearn.linear_model import LogisticRegression\n",
    "from sklearn.ensemble import RandomForestClassifier\n",
    "from sklearn.svm import SVC\n",
    "from sklearn.neural_network import MLPClassifier\n",
    "from xgboost import XGBClassifier\n",
    "from lightgbm import LGBMClassifier\n",
    "from sklearn.metrics import classification_report\n",
    "from sklearn.metrics import roc_curve, auc, roc_auc_score, confusion_matrix\n",
    "from sklearn.metrics import accuracy_score\n",
    "from datetime import datetime\n",
    "from dateutil.parser import parse\n",
    "%matplotlib inline \n",
    "import warnings\n",
    "warnings.filterwarnings(\"ignore\", category=FutureWarning)"
   ]
  },
  {
   "cell_type": "code",
   "execution_count": null,
   "metadata": {},
   "outputs": [],
   "source": [
    "# Versões dos pacotes usados neste jupyter notebook\n",
    "%reload_ext watermark\n",
    "%watermark -a \"Danilo Temerloglou de Abreu\" --iversions"
   ]
  },
  {
   "cell_type": "markdown",
   "metadata": {},
   "source": [
    "# 4 - Dicionário de dados"
   ]
  },
  {
   "cell_type": "code",
   "execution_count": null,
   "metadata": {},
   "outputs": [],
   "source": [
    "#mes_ano - Data MM_AA Ano mês de referência.\n",
    "#ferrovia - Concessionária responsável pelo fluxo.\n",
    "#mercadoria_antt - Mercadoria transportada.\n",
    "#estacao_origem - Sigla da estação de Origem.\n",
    "#uf_origem - Unidade Federativa de Origem.\n",
    "#estacao_destino - Sigla da estação de Destino.\n",
    "#uf_destino - Unidade Federativa de Destino.\n",
    "#tu - Toneladas.\n",
    "#tku - Tonelada-Km Útil "
   ]
  },
  {
   "cell_type": "markdown",
   "metadata": {},
   "source": [
    "# 5 - Carregando e Salvando o Conjunto de dados"
   ]
  },
  {
   "cell_type": "code",
   "execution_count": null,
   "metadata": {},
   "outputs": [],
   "source": [
    "# Diretório onde os arquivos CSV estão localizados\n",
    "diretorio = r'C:\\Users\\Danilo\\PROJETOS\\PROJETO11_FERROVIA_CARGA\\data\\raw'\n",
    "\n",
    "# Padrão de busca para arquivos CSV\n",
    "padrao = os.path.join(diretorio, 'producao_origem_destino_*.csv')\n",
    "\n",
    "# Encontrar todos os arquivos CSV que correspondem ao padrão\n",
    "arquivos_csv = glob.glob(padrao)\n",
    "\n",
    "# Lista para armazenar os DataFrames individuais\n",
    "dataframes = []\n",
    "\n",
    "# Função para detectar codificação e ler arquivo CSV\n",
    "def ler_csv_com_codificacao(arquivo):\n",
    "    # Detectar a codificação do arquivo\n",
    "    with open(arquivo, 'rb') as f:\n",
    "        resultado = chardet.detect(f.read())\n",
    "    codificacao = resultado['encoding']\n",
    "    print(f\"Lendo {arquivo} com codificação {codificacao}\")\n",
    "    \n",
    "    # Ler o arquivo CSV com a codificação detectada\n",
    "    return pd.read_csv(arquivo, encoding=codificacao, delimiter=';')\n",
    "\n",
    "# Ler cada arquivo CSV e adicioná-lo à lista de DataFrames\n",
    "for arquivo in arquivos_csv:\n",
    "    try:\n",
    "        df = ler_csv_com_codificacao(arquivo)\n",
    "        dataframes.append(df)\n",
    "    except Exception as e:\n",
    "        print(f\"Erro ao ler {arquivo}: {e}\")\n",
    "\n",
    "# Concatenar todos os DataFrames em um único DataFrame\n",
    "df_combinado = pd.concat(dataframes, ignore_index=True)"
   ]
  },
  {
   "cell_type": "code",
   "execution_count": null,
   "metadata": {},
   "outputs": [],
   "source": [
    "# Caminho completo para o diretório 'data/processed'\n",
    "caminho_pickle = 'C:/Users/Danilo/PROJETOS/PROJETO11_FERROVIA_CARGA/data/joined/df_combinado.pkl'\n",
    "\n",
    "# Salvar o DataFrame em um arquivo pickle\n",
    "df_combinado.to_pickle(caminho_pickle)\n",
    "\n",
    "print(f\"DataFrame salvo em {caminho_pickle}\")"
   ]
  },
  {
   "cell_type": "markdown",
   "metadata": {},
   "source": [
    "# 6 - Carregando o Conjunto de dados completo já persistido"
   ]
  },
  {
   "cell_type": "code",
   "execution_count": 2,
   "metadata": {},
   "outputs": [
    {
     "name": "stdout",
     "output_type": "stream",
     "text": [
      "DataFrame carregado\n"
     ]
    }
   ],
   "source": [
    "# Caminho para o arquivo pickle\n",
    "caminho_pickle = 'C:/Users/Danilo/PROJETOS/PROJETO11_FERROVIA_CARGA/data/joined/df_combinado.pkl'\n",
    "\n",
    "# Carregar o DataFrame a partir do arquivo pickle\n",
    "df = pd.read_pickle(caminho_pickle)\n",
    "\n",
    "print(\"DataFrame carregado\")"
   ]
  },
  {
   "cell_type": "code",
   "execution_count": null,
   "metadata": {},
   "outputs": [],
   "source": [
    "# salvando localmente os dados em uma única tabela excel\n",
    "df.to_excel('C:\\\\Users\\\\Danilo\\\\PROJETOS\\\\PROJETO11_FERROVIA_CARGA\\\\data\\\\joined\\\\producao_origem_destino_2013_2023.xlsx', index=False, engine='openpyxl')"
   ]
  },
  {
   "cell_type": "markdown",
   "metadata": {},
   "source": [
    "# 7 - EDA Análise Exploratória de Dados"
   ]
  },
  {
   "cell_type": "code",
   "execution_count": null,
   "metadata": {},
   "outputs": [],
   "source": [
    "# Shape\n",
    "df.shape"
   ]
  },
  {
   "cell_type": "code",
   "execution_count": null,
   "metadata": {},
   "outputs": [],
   "source": [
    "#nomes das colunas\n",
    "df.columns"
   ]
  },
  {
   "cell_type": "code",
   "execution_count": null,
   "metadata": {},
   "outputs": [],
   "source": [
    "# Info\n",
    "df.info()"
   ]
  },
  {
   "cell_type": "code",
   "execution_count": null,
   "metadata": {},
   "outputs": [],
   "source": [
    "# Amostra\n",
    "df.sample(5)"
   ]
  },
  {
   "cell_type": "markdown",
   "metadata": {},
   "source": [
    "### 7.1 - Ajustando tipos de variáveis e verificando valores únicos"
   ]
  },
  {
   "cell_type": "code",
   "execution_count": null,
   "metadata": {},
   "outputs": [],
   "source": [
    "#agora vamos corrigir os tipos de variáveis\n",
    "df['Mes_Ano'] = pd.to_datetime(df['Mes_Ano'], format='%m/%Y')\n",
    "# Remover pontos usados como separadores de milhar\n",
    "df['TU'] = df['TU'].str.replace('.', '', regex=False)\n",
    "df['TU'] = df['TU'].astype(float)\n",
    "# Remover pontos usados como separadores de milhar\n",
    "df['TKU'] = df['TKU'].str.replace('.', '', regex=False)\n",
    "df['TKU'] = df['TKU'].astype(float)"
   ]
  },
  {
   "cell_type": "code",
   "execution_count": null,
   "metadata": {},
   "outputs": [],
   "source": [
    "# Vamos ver os valores únicos para descobrir se temos outros problemas"
   ]
  },
  {
   "cell_type": "code",
   "execution_count": null,
   "metadata": {},
   "outputs": [],
   "source": [
    "df['Ferrovia'].unique()"
   ]
  },
  {
   "cell_type": "code",
   "execution_count": null,
   "metadata": {},
   "outputs": [],
   "source": [
    "df['Ferrovia'].nunique()"
   ]
  },
  {
   "cell_type": "code",
   "execution_count": null,
   "metadata": {},
   "outputs": [],
   "source": [
    "df['Mercadoria_ANTT'].unique()"
   ]
  },
  {
   "cell_type": "code",
   "execution_count": null,
   "metadata": {},
   "outputs": [],
   "source": [
    "df['Mercadoria_ANTT'].nunique()"
   ]
  },
  {
   "cell_type": "code",
   "execution_count": null,
   "metadata": {},
   "outputs": [],
   "source": [
    "df['Estacao_Origem'].unique()"
   ]
  },
  {
   "cell_type": "code",
   "execution_count": null,
   "metadata": {},
   "outputs": [],
   "source": [
    "df['Estacao_Origem'].nunique()"
   ]
  },
  {
   "cell_type": "code",
   "execution_count": null,
   "metadata": {},
   "outputs": [],
   "source": [
    "df['UF_Origem'].unique()"
   ]
  },
  {
   "cell_type": "code",
   "execution_count": null,
   "metadata": {},
   "outputs": [],
   "source": [
    "df['UF_Origem'].nunique()"
   ]
  },
  {
   "cell_type": "code",
   "execution_count": null,
   "metadata": {},
   "outputs": [],
   "source": [
    "df['Estacao_Destino'].unique()"
   ]
  },
  {
   "cell_type": "code",
   "execution_count": null,
   "metadata": {},
   "outputs": [],
   "source": [
    "df['Estacao_Destino'].nunique()"
   ]
  },
  {
   "cell_type": "code",
   "execution_count": null,
   "metadata": {},
   "outputs": [],
   "source": [
    "df['UF_Destino'].unique()"
   ]
  },
  {
   "cell_type": "code",
   "execution_count": null,
   "metadata": {},
   "outputs": [],
   "source": [
    "df['UF_Destino'].nunique()"
   ]
  },
  {
   "cell_type": "code",
   "execution_count": null,
   "metadata": {},
   "outputs": [],
   "source": [
    "# São 13 ferrovias, 89 mercadorias diferentes transportadas, 315 estações ferroviárias de origem (de 17 estados brasileiros), \n",
    "# 296 estações ferroviárias de destino (de 17 estados brasileiros)"
   ]
  },
  {
   "cell_type": "markdown",
   "metadata": {},
   "source": [
    "### 7.2 - Verificando valores ausentes"
   ]
  },
  {
   "cell_type": "code",
   "execution_count": null,
   "metadata": {},
   "outputs": [],
   "source": [
    "#verificando se há valores nulos\n",
    "df.isnull().sum()"
   ]
  },
  {
   "cell_type": "markdown",
   "metadata": {},
   "source": [
    "### 7.3 - Verificando registros duplicados"
   ]
  },
  {
   "cell_type": "code",
   "execution_count": null,
   "metadata": {},
   "outputs": [],
   "source": [
    "# Verificar se há linhas duplicadas\n",
    "duplicatas = df.duplicated()\n",
    "num_duplicatas = duplicatas.sum()\n",
    "print(f\"\\nNúmero de linhas duplicadas: {num_duplicatas}\")"
   ]
  },
  {
   "cell_type": "code",
   "execution_count": null,
   "metadata": {},
   "outputs": [],
   "source": [
    "# Remover linhas duplicadas\n",
    "df = df.drop_duplicates()"
   ]
  },
  {
   "cell_type": "code",
   "execution_count": null,
   "metadata": {},
   "outputs": [],
   "source": [
    "# Contando e informando o número de valores NaT na coluna Service_Date\n",
    "nat_count = df['Mes_Ano'].isna().sum()\n",
    "print(f'Número de valores NaT na coluna Service_Date: {nat_count}')"
   ]
  },
  {
   "cell_type": "code",
   "execution_count": null,
   "metadata": {},
   "outputs": [],
   "source": [
    "df.dtypes"
   ]
  },
  {
   "cell_type": "code",
   "execution_count": null,
   "metadata": {},
   "outputs": [],
   "source": [
    "# Caminho completo para o diretório 'data/final'\n",
    "caminho_pickle_final = 'C:/Users/Danilo/PROJETOS/PROJETO11_FERROVIA_CARGA/data/final/df_final.pkl'\n",
    "\n",
    "# Salvar o DataFrame em um arquivo pickle\n",
    "df.to_pickle(caminho_pickle_final)\n",
    "\n",
    "print(f\"DataFrame salvo em {caminho_pickle_final}\")"
   ]
  },
  {
   "cell_type": "code",
   "execution_count": 17,
   "metadata": {},
   "outputs": [
    {
     "name": "stdout",
     "output_type": "stream",
     "text": [
      "DataFrame carregado\n"
     ]
    }
   ],
   "source": [
    "# Caminho para o arquivo pickle\n",
    "caminho_pickle = 'C:/Users/Danilo/PROJETOS/PROJETO11_FERROVIA_CARGA/data/final/df_final.pkl'\n",
    "\n",
    "# Carregar o DataFrame a partir do arquivo pickle\n",
    "df = pd.read_pickle(caminho_pickle)\n",
    "\n",
    "print(\"DataFrame carregado\")"
   ]
  },
  {
   "cell_type": "markdown",
   "metadata": {},
   "source": [
    "### 7.4 - Exploração das variáveis numéricas"
   ]
  },
  {
   "cell_type": "code",
   "execution_count": null,
   "metadata": {},
   "outputs": [],
   "source": [
    "# Filtrar apenas colunas do tipo float\n",
    "df_num = df.select_dtypes(include=['float64'])\n",
    "\n",
    "# Usar describe() apenas para colunas float\n",
    "print(df_num.describe())"
   ]
  },
  {
   "cell_type": "code",
   "execution_count": null,
   "metadata": {},
   "outputs": [],
   "source": [
    "# Criar o histograma para a coluna 'TU'\n",
    "fig, ax = plt.subplots(figsize=(10, 6))\n",
    "df_num['TU'].hist(figsize=(10, 6), bins=6, color='green')\n",
    "\n",
    "# Adicionar rótulos e título (opcional)\n",
    "ax.set_xlabel('Valor')\n",
    "ax.set_ylabel('Frequência')\n",
    "ax.set_title('Histograma do TU')\n",
    "\n",
    "# Alterar a escala do eixo y\n",
    "ax.set_yscale('log')\n",
    "\n",
    "# Mostrar o histograma\n",
    "plt.show()"
   ]
  },
  {
   "cell_type": "code",
   "execution_count": null,
   "metadata": {},
   "outputs": [],
   "source": [
    "# Insights:\n",
    "# Frequentemente é transportado volume até 0.2*10^7 Tonelada útil"
   ]
  },
  {
   "cell_type": "code",
   "execution_count": null,
   "metadata": {},
   "outputs": [],
   "source": [
    "# Criar o histograma para a coluna 'TKU'\n",
    "fig, ax = plt.subplots(figsize=(10, 6))\n",
    "df_num['TKU'].hist(figsize=(10, 6), bins=6, color='orange')\n",
    "\n",
    "# Ajustar os limites do eixo x\n",
    "#ax.set_xlim(0, 12)  # Definir os limites do eixo x conforme desejado\n",
    "\n",
    "# Alterar a escala do eixo y\n",
    "ax.set_yscale('log')\n",
    "\n",
    "# Adicionar rótulos e título (opcional)\n",
    "ax.set_xlabel('Valor')\n",
    "ax.set_ylabel('Frequência')\n",
    "ax.set_title('Histograma do TKU')\n",
    "\n",
    "# Mostrar o histograma\n",
    "plt.show()"
   ]
  },
  {
   "cell_type": "code",
   "execution_count": null,
   "metadata": {},
   "outputs": [],
   "source": [
    "# Insights:\n",
    "# Frequentemente é transportado volume até 0.2*10^10 Tonelada-Km Útil"
   ]
  },
  {
   "cell_type": "code",
   "execution_count": null,
   "metadata": {},
   "outputs": [],
   "source": [
    "# Correlação (tabela)\n",
    "df_num.corr()"
   ]
  },
  {
   "cell_type": "code",
   "execution_count": null,
   "metadata": {},
   "outputs": [],
   "source": [
    "# As variáveis TU e TKU são altamente correlacionadas. Para Machine Learning, somente deve ser considerada uma destas variáveis.\n",
    "# Como os valores são altos, deverão ser feitos ajustes na escala para trabalhar com ML."
   ]
  },
  {
   "cell_type": "markdown",
   "metadata": {},
   "source": [
    "### 7.5 - Exploração das variáveis categóricas"
   ]
  },
  {
   "cell_type": "code",
   "execution_count": null,
   "metadata": {},
   "outputs": [],
   "source": [
    "# Filtrar apenas colunas do tipo categórica\n",
    "df_cat = df.select_dtypes(include=['object'])"
   ]
  },
  {
   "cell_type": "code",
   "execution_count": null,
   "metadata": {},
   "outputs": [],
   "source": [
    "df_cat.columns"
   ]
  },
  {
   "cell_type": "code",
   "execution_count": null,
   "metadata": {},
   "outputs": [],
   "source": [
    "#Quantidade de registros de cada ferrovia de carga\n",
    "df['Ferrovia'].value_counts() "
   ]
  },
  {
   "cell_type": "code",
   "execution_count": null,
   "metadata": {},
   "outputs": [],
   "source": [
    "ax = sns.countplot(data=df, x='Ferrovia', order=df['Ferrovia'].value_counts().head(20).index, color='red')\n",
    "ax.set_xticklabels(ax.get_xticklabels(), rotation=45, ha='right')\n",
    "plt.show()"
   ]
  },
  {
   "cell_type": "code",
   "execution_count": null,
   "metadata": {},
   "outputs": [],
   "source": [
    "quantidade_de_ferrovia = df['Ferrovia'].nunique()\n",
    "print(\"Quantidade de ferrovias:\", quantidade_de_ferrovia)"
   ]
  },
  {
   "cell_type": "code",
   "execution_count": null,
   "metadata": {},
   "outputs": [],
   "source": [
    "# Insights:\n",
    "# Temos 13 ferrovias sendo as que mais transportam são: MRS, RMS e EFVM"
   ]
  },
  {
   "cell_type": "code",
   "execution_count": null,
   "metadata": {},
   "outputs": [],
   "source": [
    "#Local de operação do trem\n",
    "df['Mercadoria_ANTT'].value_counts() "
   ]
  },
  {
   "cell_type": "code",
   "execution_count": null,
   "metadata": {},
   "outputs": [],
   "source": [
    "ax = sns.countplot(data=df, x='Mercadoria_ANTT', order=df['Mercadoria_ANTT'].value_counts().head(20).index, palette = 'Set2')\n",
    "ax.set_xticklabels(ax.get_xticklabels(), rotation=45, ha='right')\n",
    "plt.show()"
   ]
  },
  {
   "cell_type": "code",
   "execution_count": null,
   "metadata": {},
   "outputs": [],
   "source": [
    "quantidade_de_tipos_mercadoria = df['Mercadoria_ANTT'].nunique()\n",
    "print(\"Quantidade de tipos de mercadoria:\", quantidade_de_tipos_mercadoria)"
   ]
  },
  {
   "cell_type": "code",
   "execution_count": null,
   "metadata": {},
   "outputs": [],
   "source": [
    "# Insights:\n",
    "# São 89 produtos diferentes sendo os mais transportados: Minério de ferro, produtos siderúrgicos e contêineres"
   ]
  },
  {
   "cell_type": "code",
   "execution_count": null,
   "metadata": {},
   "outputs": [],
   "source": [
    "#Local de partida do trem\n",
    "df['Estacao_Origem'].value_counts() "
   ]
  },
  {
   "cell_type": "code",
   "execution_count": null,
   "metadata": {},
   "outputs": [],
   "source": [
    "ax = sns.countplot(data=df, x='Estacao_Origem', order=df['Estacao_Origem'].value_counts().head(20).index, palette='viridis')\n",
    "ax.set_xticklabels(ax.get_xticklabels(), rotation=45, ha='right')\n",
    "plt.show()"
   ]
  },
  {
   "cell_type": "code",
   "execution_count": null,
   "metadata": {},
   "outputs": [],
   "source": [
    "quantidade_de_local_partida = df['Estacao_Origem'].nunique()\n",
    "print(\"Quantidade de locais de partida de trens:\", quantidade_de_local_partida)"
   ]
  },
  {
   "cell_type": "code",
   "execution_count": null,
   "metadata": {},
   "outputs": [],
   "source": [
    "# Insights:\n",
    "# Tem 315s locais de partida de trens o que dificulta achar um padrão para modelagem de dados\n",
    "# A maior parte das viagens inicia em Ouro Branco (MG), Tubarão (SC) e D. Pedro II (RJ)"
   ]
  },
  {
   "cell_type": "code",
   "execution_count": null,
   "metadata": {},
   "outputs": [],
   "source": [
    "#Estado de partida do trem\n",
    "df['UF_Origem'].value_counts() "
   ]
  },
  {
   "cell_type": "code",
   "execution_count": null,
   "metadata": {},
   "outputs": [],
   "source": [
    "ax = sns.countplot(data=df, x='UF_Origem', order=df['UF_Origem'].value_counts().index, palette='viridis')\n",
    "ax.set_xticklabels(ax.get_xticklabels(), rotation=45, ha='right')\n",
    "plt.show()"
   ]
  },
  {
   "cell_type": "code",
   "execution_count": null,
   "metadata": {},
   "outputs": [],
   "source": [
    "quantidade_de_estados_local_partida = df['UF_Origem'].nunique()\n",
    "print(\"Quantidade de estados de partida de trens:\", quantidade_de_estados_local_partida)"
   ]
  },
  {
   "cell_type": "code",
   "execution_count": null,
   "metadata": {},
   "outputs": [],
   "source": [
    "# Insights:\n",
    "# Dos 26 estados e distrito federal, somente há 17 estados com partida de trens de carga com os estados MG, SP e PR com mais viagens"
   ]
  },
  {
   "cell_type": "code",
   "execution_count": null,
   "metadata": {},
   "outputs": [],
   "source": [
    "#Estado de chegada do trem\n",
    "df['Estacao_Destino'].value_counts() "
   ]
  },
  {
   "cell_type": "code",
   "execution_count": null,
   "metadata": {},
   "outputs": [],
   "source": [
    "ax = sns.countplot(data=df, x='Estacao_Destino', order=df['Estacao_Destino'].value_counts().head(20).index, color = 'orange')\n",
    "ax.set_xticklabels(ax.get_xticklabels(), rotation=45, ha='right')\n",
    "plt.show()"
   ]
  },
  {
   "cell_type": "code",
   "execution_count": null,
   "metadata": {},
   "outputs": [],
   "source": [
    "quantidade_de_local_chegada = df['Estacao_Destino'].nunique()\n",
    "print(\"Quantidade de locais de chegada de trens:\", quantidade_de_local_chegada)"
   ]
  },
  {
   "cell_type": "code",
   "execution_count": null,
   "metadata": {},
   "outputs": [],
   "source": [
    "# Insights:\n",
    "# São muitos locais de destino de trens o que dificulta achar um padrão para modelagem de dados\n",
    "# A maior parte das viagens termina em Tubarão (SC), Santos (SP) e Conceiçãozinha (SP)"
   ]
  },
  {
   "cell_type": "code",
   "execution_count": null,
   "metadata": {},
   "outputs": [],
   "source": [
    "#Estado de chegada do trem\n",
    "df['UF_Destino'].value_counts() "
   ]
  },
  {
   "cell_type": "code",
   "execution_count": null,
   "metadata": {},
   "outputs": [],
   "source": [
    "ax = sns.countplot(data=df, x='UF_Destino', order=df['UF_Destino'].value_counts().index, palette='viridis')\n",
    "ax.set_xticklabels(ax.get_xticklabels(), rotation=45, ha='right')\n",
    "plt.show()"
   ]
  },
  {
   "cell_type": "code",
   "execution_count": null,
   "metadata": {},
   "outputs": [],
   "source": [
    "quantidade_de_estados_local_chegada = df['UF_Destino'].nunique()\n",
    "print(\"Quantidade de estados de chegada de trens:\", quantidade_de_estados_local_chegada)"
   ]
  },
  {
   "cell_type": "code",
   "execution_count": null,
   "metadata": {},
   "outputs": [],
   "source": [
    "# Insights:\n",
    "# Dos 26 estados e distrito federal, somente há 17 estados com chegada de trens de carga com os estados MG, SP e RJ com mais viagens"
   ]
  },
  {
   "cell_type": "markdown",
   "metadata": {},
   "source": [
    "### 7.6 - Exploração das variáveis associadas com data"
   ]
  },
  {
   "cell_type": "code",
   "execution_count": null,
   "metadata": {},
   "outputs": [],
   "source": [
    "# data mais antiga nestes dados\n",
    "df['Mes_Ano'].min()"
   ]
  },
  {
   "cell_type": "code",
   "execution_count": null,
   "metadata": {},
   "outputs": [],
   "source": [
    "# data mais recente nestes dados\n",
    "df['Mes_Ano'].max()"
   ]
  },
  {
   "cell_type": "code",
   "execution_count": null,
   "metadata": {},
   "outputs": [],
   "source": [
    "# Temos informações mensais de 2013 a 2023"
   ]
  },
  {
   "cell_type": "code",
   "execution_count": null,
   "metadata": {},
   "outputs": [],
   "source": [
    "#vamos separar a variável Mes_Ano em duas para aumentar nossos conhecimentos sobre os dados:\n",
    "# Extrair o mês e o ano\n",
    "df['Mes'] = df['Mes_Ano'].dt.month\n",
    "df['Ano'] = df['Mes_Ano'].dt.year"
   ]
  },
  {
   "cell_type": "code",
   "execution_count": null,
   "metadata": {},
   "outputs": [],
   "source": [
    "df.sample(5)"
   ]
  },
  {
   "cell_type": "code",
   "execution_count": null,
   "metadata": {},
   "outputs": [],
   "source": [
    "# Qual mercadoria é mais transportada cada mês? \n",
    "# Agrupar por mês e ano e encontrar a mercadoria mais transportada\n",
    "resultados = df.groupby(['Ano', 'Mes', 'Mercadoria_ANTT']).agg({'TU': 'sum'}).reset_index()\n",
    "resultados = resultados.sort_values(by=['Ano', 'Mes', 'TU'], ascending=[True, True, False])\n",
    "resultados_mais_transportada = resultados.groupby(['Ano', 'Mes']).first().reset_index()\n",
    "\n",
    "# Mostrar o DataFrame com a mercadoria mais transportada por mês\n",
    "print(resultados_mais_transportada)"
   ]
  },
  {
   "cell_type": "code",
   "execution_count": null,
   "metadata": {},
   "outputs": [],
   "source": [
    "resultados_mais_transportada['Mercadoria_ANTT'].nunique()"
   ]
  },
  {
   "cell_type": "code",
   "execution_count": null,
   "metadata": {},
   "outputs": [],
   "source": [
    "resultados_mais_transportada['Mercadoria_ANTT'].unique()"
   ]
  },
  {
   "cell_type": "code",
   "execution_count": null,
   "metadata": {},
   "outputs": [],
   "source": [
    "# Qual mercadoria é mais transportada cada mês? - Gráfico\n",
    "# Criar o gráfico\n",
    "plt.figure(figsize=(12, 8))\n",
    "sns.barplot(data=resultados_mais_transportada, x='Mes', y='TU', hue='Ano', palette='Set2')\n",
    "\n",
    "# Ajustar o gráfico\n",
    "plt.title('Mercadoria Mais Transportada por Mês')\n",
    "plt.xlabel('Mês')\n",
    "plt.ylabel('Quantidade Transportada')\n",
    "plt.xticks(ticks=range(0, 12), labels=['Jan', 'Feb', 'Mar', 'Apr', 'May', 'Jun', 'Jul', 'Aug', 'Sep', 'Oct', 'Nov', 'Dec'])\n",
    "# Ajustar a legenda para ser horizontal\n",
    "plt.legend(title='Ano', bbox_to_anchor=(0.5, -0.1), loc='upper center', ncol=3)\n",
    "plt.show()"
   ]
  },
  {
   "cell_type": "code",
   "execution_count": null,
   "metadata": {},
   "outputs": [],
   "source": [
    "# Em todos os meses, a mercadoria mais transportada é o minério de ferro. "
   ]
  },
  {
   "cell_type": "code",
   "execution_count": null,
   "metadata": {},
   "outputs": [],
   "source": [
    "# Agrupar por ferrovia e ano e somar a quantidade\n",
    "agregado = df.groupby(['Ferrovia', 'Ano']).agg({'TU': 'sum'}).reset_index()\n",
    "\n",
    "# Encontrar o ano com maior transporte para cada ferrovia\n",
    "max_transport = agregado.loc[agregado.groupby('Ferrovia')['TU'].idxmax()]\n",
    "\n",
    "# Ordenar o DataFrame em ordem decrescente com base na coluna 'TU'\n",
    "max_transport_sorted = max_transport.sort_values(by='TU', ascending=False)\n",
    "\n",
    "# Mostrar o DataFrame com o ano de maior transporte para cada ferrovia em ordem decrescente\n",
    "print(max_transport_sorted)"
   ]
  },
  {
   "cell_type": "code",
   "execution_count": null,
   "metadata": {},
   "outputs": [],
   "source": [
    "# Que ano cada ferrovia transportou mais? - Gráfico\n",
    "# Criar o gráfico\n",
    "plt.figure(figsize=(12, 8))\n",
    "sns.barplot(data=max_transport_sorted, x='TU', y='Ferrovia', hue='Ano', palette='Set2')\n",
    "\n",
    "# Ajustar o gráfico\n",
    "plt.title('Ano com Maior Transporte para Cada Ferrovia')\n",
    "plt.xlabel('Quantidade Transportada')\n",
    "plt.ylabel('Ferrovia')\n",
    "plt.legend(title='Ano')\n",
    "plt.show()"
   ]
  },
  {
   "cell_type": "code",
   "execution_count": null,
   "metadata": {},
   "outputs": [],
   "source": [
    "# Das ferrovias que mais transportaram, a ferrovia EFC transportou mais no ano de 2018, a MRS em 2023 e a EFVM em 2015"
   ]
  },
  {
   "cell_type": "code",
   "execution_count": null,
   "metadata": {},
   "outputs": [],
   "source": [
    "# Que mês/ano cada ferrovia transportou mais? - código\n",
    "# Agrupar por ferrovia e mês/ano e somar a quantidade\n",
    "agregado = df.groupby(['Ferrovia', 'Mes_Ano']).agg({'TU': 'sum'}).reset_index()\n",
    "\n",
    "# Encontrar o mês/ano com maior transporte para cada ferrovia\n",
    "max_transport = agregado.loc[agregado.groupby('Ferrovia')['TU'].idxmax()]\n",
    "\n",
    "# Ordenar o DataFrame em ordem decrescente com base na coluna 'TU'\n",
    "max_transport_sorted = max_transport.sort_values(by='TU', ascending=False)\n",
    "\n",
    "# Mostrar o DataFrame com o ano de maior transporte para cada ferrovia em ordem decrescente\n",
    "print(max_transport_sorted)"
   ]
  },
  {
   "cell_type": "code",
   "execution_count": null,
   "metadata": {},
   "outputs": [],
   "source": [
    "# Que mês/ano cada ferrovia transportou mais? - Gráfico\n",
    "# Criar o gráfico\n",
    "plt.figure(figsize=(12, 8))\n",
    "sns.barplot(data=max_transport_sorted, x='TU', y='Ferrovia', hue='Mes_Ano', palette='Set2')\n",
    "\n",
    "# Ajustar o gráfico\n",
    "plt.title('Mês/Ano com Maior Transporte para Cada Ferrovia')\n",
    "plt.xlabel('Quantidade Transportada')\n",
    "plt.ylabel('Ferrovia')\n",
    "plt.legend(title='Mês/Ano', bbox_to_anchor=(1.05, 1), loc='upper left')\n",
    "\n",
    "plt.show()"
   ]
  },
  {
   "cell_type": "code",
   "execution_count": null,
   "metadata": {},
   "outputs": [],
   "source": [
    "# Das ferrovias que mais transportaram, a ferrovia EFC transportou mais em Setembro de 2020, a MRS em Utubro de 2023 e a EFVM em Julho de 2015"
   ]
  },
  {
   "cell_type": "markdown",
   "metadata": {},
   "source": [
    "# 8 - Perguntas e respostas de negócio"
   ]
  },
  {
   "cell_type": "markdown",
   "metadata": {},
   "source": [
    "### 8.1 - Quais são os volumes de carga transportada por mês e por ano? "
   ]
  },
  {
   "cell_type": "markdown",
   "metadata": {},
   "source": [
    "#### 8.1.1 - Volumes de carga transportada por mês e ano"
   ]
  },
  {
   "cell_type": "code",
   "execution_count": null,
   "metadata": {},
   "outputs": [],
   "source": [
    "# Solução item 8.1 - código\n",
    "# Agrupar por mês e ano e somar a quantidade de carga transportada\n",
    "volume_por_mes_ano = df.groupby('Mes_Ano').agg({'TU': 'sum'}).reset_index()\n",
    "volume_por_mes_ano.columns = ['Mes_Ano', 'Volume']\n",
    "\n",
    "# Agrupar por ano e somar a quantidade de carga transportada\n",
    "volume_por_ano = df.groupby('Ano').agg({'TU': 'sum'}).reset_index()\n",
    "volume_por_ano.columns = ['Ano', 'Volume']\n",
    "\n",
    "# Mostrar os resultados\n",
    "print(\"Volume de Carga por Mês/Ano:\")\n",
    "print(volume_por_mes_ano)\n",
    "\n",
    "print(\"\\nVolume de Carga por Ano:\")\n",
    "print(volume_por_ano)"
   ]
  },
  {
   "cell_type": "code",
   "execution_count": null,
   "metadata": {},
   "outputs": [],
   "source": [
    "# Solução item 8.1 - gráfico\n",
    "plt.figure(figsize=(12, 6))\n",
    "sns.lineplot(data=volume_por_mes_ano, x='Mes_Ano', y='Volume', marker='o', color='b')\n",
    "plt.title('Volume de Carga Transportada por Mês/Ano')\n",
    "plt.xlabel('Mês/Ano')\n",
    "plt.ylabel('Volume (Toneladas)')\n",
    "plt.xticks(rotation=45)\n",
    "plt.grid(True)\n",
    "plt.tight_layout()\n",
    "plt.show()"
   ]
  },
  {
   "cell_type": "code",
   "execution_count": null,
   "metadata": {},
   "outputs": [],
   "source": [
    "# Insights: Considerando todas as ferrovias, o melhor período em termos de volume transportado foi Julho de 2018 e o pior foi em Fevereiro de 2013."
   ]
  },
  {
   "cell_type": "markdown",
   "metadata": {},
   "source": [
    "#### 8.1.2 - Volumes de carga transportada por ano"
   ]
  },
  {
   "cell_type": "code",
   "execution_count": null,
   "metadata": {},
   "outputs": [],
   "source": [
    "#Pergunta: Quais são os volumes de carga transportada por ano? - Gráfico\n",
    "# Criar o gráfico para volume por ano\n",
    "plt.figure(figsize=(12, 6))\n",
    "sns.lineplot(data=volume_por_ano, x='Ano', y='Volume', marker='o', color='b')\n",
    "plt.title('Volume de Carga Transportada por Ano')\n",
    "plt.xlabel('Ano')\n",
    "plt.ylabel('Volume (Toneladas)')\n",
    "plt.xticks(rotation=45)\n",
    "plt.grid(True)\n",
    "plt.tight_layout()\n",
    "plt.show()"
   ]
  },
  {
   "cell_type": "code",
   "execution_count": null,
   "metadata": {},
   "outputs": [],
   "source": [
    "# Insights: Considerando todas as ferrovias, o melhor ano em termos de volume transportado foi 2018 e o pior foi 2013."
   ]
  },
  {
   "cell_type": "markdown",
   "metadata": {},
   "source": [
    "### 8.2 Análise de Distribuição das Mercadorias Transportadas"
   ]
  },
  {
   "cell_type": "markdown",
   "metadata": {},
   "source": [
    "#### 8.2.1 - Volume de transporte de Mercadorias "
   ]
  },
  {
   "cell_type": "code",
   "execution_count": null,
   "metadata": {},
   "outputs": [],
   "source": [
    "# Análise da distribuição das mercadorias - código\n",
    "mercadoria_distribuicao = df.groupby('Mercadoria_ANTT').agg({'TU': 'sum'}).reset_index()\n",
    "mercadoria_distribuicao.columns = ['Mercadoria', 'Volume']\n",
    "# Ordenar o DataFrame por volume em ordem decrescente\n",
    "mercadoria_distribuicao_sorted = mercadoria_distribuicao.sort_values(by='Volume', ascending=False)\n",
    "mercadoria_distribuicao_sorted.head(5)"
   ]
  },
  {
   "cell_type": "code",
   "execution_count": null,
   "metadata": {},
   "outputs": [],
   "source": [
    "# Gráfico de distribuição das mercadorias - gráfico\n",
    "# Limitar ao top 20 mercadorias por volume\n",
    "top_20_mercadorias = mercadoria_distribuicao_sorted.head(20)\n",
    "\n",
    "# Criar o gráfico para a distribuição das mercadorias\n",
    "plt.figure(figsize=(12, 8))  # Ajuste o tamanho se necessário\n",
    "sns.barplot(data=top_20_mercadorias, x='Mercadoria', y='Volume', palette='Set2')\n",
    "# Ajustar a escala do eixo y para logarítmica\n",
    "bar_plot.set_yscale('log')\n",
    "plt.title('Top 20 Mercadorias por Volume de Carga Transportada')\n",
    "plt.xlabel('Mercadoria')\n",
    "plt.ylabel('Volume (Toneladas)')\n",
    "plt.xticks(rotation=45, ha='right')  # Melhora a legibilidade\n",
    "plt.grid(True, linestyle='--', alpha=0.7)  # Ajuste a grade para melhor visualização\n",
    "plt.tight_layout()\n",
    "plt.show()"
   ]
  },
  {
   "cell_type": "code",
   "execution_count": null,
   "metadata": {},
   "outputs": [],
   "source": [
    "# As 5 mercadorias mais transportadas foram: Minério de ferro, soja, grãos (milho), açúcar e carvão mineral"
   ]
  },
  {
   "cell_type": "markdown",
   "metadata": {},
   "source": [
    "### 8.3 - Análise por Ferrovia"
   ]
  },
  {
   "cell_type": "markdown",
   "metadata": {},
   "source": [
    "#### 8.3.1 - Volume de transporte de Mercadorias por Ferrovia"
   ]
  },
  {
   "cell_type": "code",
   "execution_count": null,
   "metadata": {},
   "outputs": [],
   "source": [
    "# Análise por ferrovia - código\n",
    "ferrovia_distribuicao = df.groupby('Ferrovia').agg({'TU': 'sum'}).reset_index()\n",
    "ferrovia_distribuicao.columns = ['Ferrovia', 'Volume']\n",
    "# Ordenar o DataFrame por volume em ordem decrescente\n",
    "ferrovia_distribuicao_sorted = ferrovia_distribuicao.sort_values(by='Volume', ascending=False)\n",
    "ferrovia_distribuicao_sorted"
   ]
  },
  {
   "cell_type": "code",
   "execution_count": null,
   "metadata": {},
   "outputs": [],
   "source": [
    "# Gráfico de distribuição por ferrovia - gráfico\n",
    "plt.figure(figsize=(12, 6))\n",
    "sns.barplot(data=ferrovia_distribuicao_sorted, x='Ferrovia', y='Volume', palette='Set2')\n",
    "plt.title('Volume de Carga Transportada por Ferrovia')\n",
    "plt.xlabel('Ferrovia')\n",
    "plt.ylabel('Volume (Toneladas)')\n",
    "plt.xticks(rotation=45)\n",
    "plt.grid(True)\n",
    "plt.tight_layout()\n",
    "plt.show()"
   ]
  },
  {
   "cell_type": "code",
   "execution_count": null,
   "metadata": {},
   "outputs": [],
   "source": [
    "# Insights: As ferrovias que mais transportaram foram EFC, MRS e EFVM."
   ]
  },
  {
   "cell_type": "markdown",
   "metadata": {},
   "source": [
    "### 8.4 - Análise por Região"
   ]
  },
  {
   "cell_type": "markdown",
   "metadata": {},
   "source": [
    "##### 8.4.1 - Análise de volume de mercadorias transportado por Estação de Origem e Destino"
   ]
  },
  {
   "cell_type": "code",
   "execution_count": null,
   "metadata": {},
   "outputs": [],
   "source": [
    "df.columns"
   ]
  },
  {
   "cell_type": "code",
   "execution_count": null,
   "metadata": {},
   "outputs": [],
   "source": [
    "# Análise por estação de origem - código\n",
    "estacao_origem_distribuicao = df.groupby('Estacao_Origem').agg({'TU': 'sum'}).reset_index()\n",
    "estacao_origem_distribuicao.columns = ['Estacao_Origem', 'Volume']\n",
    "# Ordenar o DataFrame por volume em ordem decrescente\n",
    "estacao_origem_distribuicao_sorted = estacao_origem_distribuicao.sort_values(by='Volume', ascending=False)\n",
    "estacao_origem_distribuicao_sorted.head(10)"
   ]
  },
  {
   "cell_type": "code",
   "execution_count": null,
   "metadata": {},
   "outputs": [],
   "source": [
    "# Análise por estação de origem - gráfico\n",
    "# Limitar ao top 20 estação de origem por volume\n",
    "top_20_estação_origem = estacao_origem_distribuicao_sorted.head(20)\n",
    "# Gráfico de distribuição por estação de origem\n",
    "plt.figure(figsize=(12, 6))\n",
    "sns.barplot(data=top_20_estação_origem, x='Estacao_Origem', y='Volume', palette='Set2')\n",
    "plt.title('Volume de Carga Transportada por Estação de Origem')\n",
    "plt.xlabel('Estação de Origem')\n",
    "plt.ylabel('Volume (Toneladas)')\n",
    "plt.xticks(rotation=45)\n",
    "plt.grid(True)\n",
    "plt.tight_layout()\n",
    "plt.show()"
   ]
  },
  {
   "cell_type": "code",
   "execution_count": null,
   "metadata": {},
   "outputs": [],
   "source": [
    "# Insights: Carajás (PA), Serra Sul (PA) e Otávio Dapieve (MG) são as estações de origem que mais transportaram mercadorias."
   ]
  },
  {
   "cell_type": "code",
   "execution_count": null,
   "metadata": {},
   "outputs": [],
   "source": [
    "# Análise por estação de destino - código\n",
    "estacao_destino_distribuicao = df.groupby('Estacao_Destino').agg({'TU': 'sum'}).reset_index()\n",
    "estacao_destino_distribuicao.columns = ['Estacao_Destino', 'Volume']\n",
    "estacao_destino_distribuicao\n",
    "estacao_destino_distribuicao_sorted = estacao_destino_distribuicao.sort_values(by='Volume', ascending=False)\n",
    "estacao_destino_distribuicao_sorted.head(10)"
   ]
  },
  {
   "cell_type": "code",
   "execution_count": null,
   "metadata": {},
   "outputs": [],
   "source": [
    "# Gráfico de distribuição por estação de destino - gráfico\n",
    "plt.figure(figsize=(12, 6))\n",
    "# Limitar ao top 20 estação de origem por volume\n",
    "top_15_estação_destino = estacao_destino_distribuicao_sorted.head(15)\n",
    "sns.barplot(data=top_15_estação_destino, x='Estacao_Destino', y='Volume', palette='Set2')\n",
    "plt.title('Volume de Carga Transportada por Estação de Destino')\n",
    "plt.xlabel('Estação de Destino')\n",
    "plt.ylabel('Volume (Toneladas)')\n",
    "plt.xticks(rotation=45)\n",
    "plt.grid(True)\n",
    "plt.tight_layout()\n",
    "plt.show()"
   ]
  },
  {
   "cell_type": "code",
   "execution_count": null,
   "metadata": {},
   "outputs": [],
   "source": [
    "# Insights: Ponta da Madeira (MA), Tubarão (SC) e Baia Sepetiba (RJ) são as estações de destino que mais receberam mercadorias transportadas."
   ]
  },
  {
   "cell_type": "code",
   "execution_count": null,
   "metadata": {},
   "outputs": [],
   "source": [
    "#df[df['Estacao_Destino'] == 'Baia Sepetiba']"
   ]
  },
  {
   "cell_type": "markdown",
   "metadata": {},
   "source": [
    "#### 8.4.2 Análise de volume de mercadorias transportado por UF de Origem e Destino"
   ]
  },
  {
   "cell_type": "code",
   "execution_count": null,
   "metadata": {},
   "outputs": [],
   "source": [
    "# Análise por UF de origem - código\n",
    "uf_origem_distribuicao = df.groupby('UF_Origem').agg({'TU': 'sum'}).reset_index()\n",
    "uf_origem_distribuicao.columns = ['UF_Origem', 'Volume']\n",
    "uf_origem_distribuicao_sorted = uf_origem_distribuicao.sort_values(by='Volume', ascending=False)\n",
    "uf_origem_distribuicao_sorted.head(10)"
   ]
  },
  {
   "cell_type": "code",
   "execution_count": null,
   "metadata": {},
   "outputs": [],
   "source": [
    "# Análise por UF de origem - gráfico\n",
    "# Gráfico de distribuição por UF de origem\n",
    "plt.figure(figsize=(12, 6))\n",
    "sns.barplot(data=uf_origem_distribuicao_sorted, x='UF_Origem', y='Volume', palette='Set2')\n",
    "plt.title('Volume de Carga Transportada por UF de Origem')\n",
    "plt.xlabel('UF de Origem')\n",
    "plt.ylabel('Volume (Toneladas)')\n",
    "plt.xticks(rotation=45)\n",
    "plt.grid(True)\n",
    "plt.tight_layout()\n",
    "plt.show()"
   ]
  },
  {
   "cell_type": "code",
   "execution_count": null,
   "metadata": {},
   "outputs": [],
   "source": [
    "# Insights: MG, PA e SP são os estados de origem que mais transportaram mercadorias."
   ]
  },
  {
   "cell_type": "code",
   "execution_count": null,
   "metadata": {},
   "outputs": [],
   "source": [
    "# Análise por UF de destino - código\n",
    "uf_destino_distribuicao = df.groupby('UF_Destino').agg({'TU': 'sum'}).reset_index()\n",
    "uf_destino_distribuicao.columns = ['UF_Destino', 'Volume']\n",
    "uf_destino_distribuicao_sorted = uf_destino_distribuicao.sort_values(by='Volume', ascending=False)\n",
    "uf_destino_distribuicao_sorted"
   ]
  },
  {
   "cell_type": "code",
   "execution_count": null,
   "metadata": {},
   "outputs": [],
   "source": [
    "# Análise por UF de destino - gráfico\n",
    "# Gráfico de distribuição por UF de destino\n",
    "plt.figure(figsize=(12, 6))\n",
    "sns.barplot(data=uf_destino_distribuicao_sorted, x='UF_Destino', y='Volume', palette='Set2')\n",
    "plt.title('Volume de Carga Transportada por UF de Destino')\n",
    "plt.xlabel('UF de Destino')\n",
    "plt.ylabel('Volume (Toneladas)')\n",
    "plt.xticks(rotation=45)\n",
    "plt.grid(True)\n",
    "plt.tight_layout()\n",
    "plt.show()"
   ]
  },
  {
   "cell_type": "code",
   "execution_count": null,
   "metadata": {},
   "outputs": [],
   "source": [
    "# Insights: MA, RJ e ES são os estados de destino que mais receberam mercadorias transportadas."
   ]
  },
  {
   "cell_type": "markdown",
   "metadata": {},
   "source": [
    "### 8.5 - Eficiência do transporte"
   ]
  },
  {
   "cell_type": "code",
   "execution_count": null,
   "metadata": {},
   "outputs": [],
   "source": [
    "#Pergunta: Qual é a eficiência média do transporte ferroviário em termos de tonelada-quilômetro útil (coluna tku) para diferentes ferrovias e mercadorias?\n",
    "#Tarefas:\n",
    "#Calcular a eficiência média (tku por tonelada) por ferrovia e por tipo de mercadoria.\n",
    "#Identificar quais ferrovias e mercadorias têm a melhor e a pior eficiência."
   ]
  },
  {
   "cell_type": "markdown",
   "metadata": {},
   "source": [
    "#### 8.5.1 - Gráfico da Eficiência Média por Ferrovia"
   ]
  },
  {
   "cell_type": "code",
   "execution_count": null,
   "metadata": {},
   "outputs": [],
   "source": [
    "# Calcular Eficiência Média por Ferrovia e Mercadoria - código\n",
    "# Calcular eficiência por ferrovia\n",
    "df['Eficiencia'] = df['TKU'] / df['TU']\n",
    "eficiencia_ferrovia = df.groupby('Ferrovia').agg({'Eficiencia': 'mean'}).reset_index()\n",
    "\n",
    "# Calcular eficiência por mercadoria\n",
    "eficiencia_mercadoria = df.groupby('Mercadoria_ANTT').agg({'Eficiencia': 'mean'}).reset_index()\n",
    "\n",
    "# Identificar melhor e pior eficiência por ferrovia\n",
    "melhor_pior_ferrovia = eficiencia_ferrovia.sort_values(by='Eficiencia', ascending=False)\n",
    "\n",
    "# Identificar melhor e pior eficiência por mercadoria\n",
    "melhor_pior_mercadoria = eficiencia_mercadoria.sort_values(by='Eficiencia', ascending=False)\n",
    "\n",
    "print(\"Eficiência Média por Ferrovia:\\n\", eficiencia_ferrovia)\n",
    "print(\"\\nEficiência Média por Mercadoria:\\n\", eficiencia_mercadoria)\n",
    "print(\"\\nMelhor e Pior Eficiência por Ferrovia:\\n\", melhor_pior_ferrovia)\n",
    "print(\"\\nMelhor e Pior Eficiência por Mercadoria:\\n\", melhor_pior_mercadoria)"
   ]
  },
  {
   "cell_type": "markdown",
   "metadata": {},
   "source": []
  },
  {
   "cell_type": "code",
   "execution_count": null,
   "metadata": {},
   "outputs": [],
   "source": [
    "# Gráfico de eficiência média por ferrovia\n",
    "plt.figure(figsize=(12, 6))\n",
    "sns.barplot(data=melhor_pior_ferrovia, x='Ferrovia', y='Eficiencia', palette='Set2')\n",
    "plt.title('Eficiência Média do Transporte Ferroviário por Ferrovia')\n",
    "plt.xlabel('Ferrovia')\n",
    "plt.ylabel('Eficiência (TKU por Tonelada)')\n",
    "plt.xticks(rotation=45, ha='right')\n",
    "plt.grid(True)\n",
    "plt.tight_layout()\n",
    "plt.show()"
   ]
  },
  {
   "cell_type": "code",
   "execution_count": null,
   "metadata": {},
   "outputs": [],
   "source": [
    "# As ferrovias mais eficientes foram: RMN, RMC e FNSTN."
   ]
  },
  {
   "cell_type": "markdown",
   "metadata": {},
   "source": [
    "#### 8.5.2 - Gráfico da Eficiência Média por Mercadoria"
   ]
  },
  {
   "cell_type": "code",
   "execution_count": null,
   "metadata": {},
   "outputs": [],
   "source": [
    "# Limitar ao top 20 estação de origem por volume\n",
    "top_20_melhor_mercadoria = melhor_pior_mercadoria.head(15)\n",
    "plt.figure(figsize=(12, 6))\n",
    "sns.barplot(data=top_20_melhor_mercadoria, x='Mercadoria_ANTT', y='Eficiencia', palette='Set2')\n",
    "plt.title('Eficiência Média do Transporte Ferroviário por Mercadoria')\n",
    "plt.xlabel('Mercadoria')\n",
    "plt.ylabel('Eficiência (TKU por Tonelada)')\n",
    "plt.xticks(rotation=45, ha='right')\n",
    "plt.grid(True)\n",
    "plt.tight_layout()\n",
    "plt.show()"
   ]
  },
  {
   "cell_type": "code",
   "execution_count": null,
   "metadata": {},
   "outputs": [],
   "source": [
    "# Insights: As mercadorias transportadas com mais eficiência foram: grãos arroz, LAB - Sulfonato de alquilbenzeno linear e Farelo de Milho"
   ]
  },
  {
   "cell_type": "markdown",
   "metadata": {},
   "source": [
    "### 8.6 - Análise de rotas - Rotas mais frequentes"
   ]
  },
  {
   "cell_type": "code",
   "execution_count": null,
   "metadata": {},
   "outputs": [],
   "source": [
    "# Criar a matriz de fluxo\n",
    "matriz_fluxo = pd.crosstab(df['Estacao_Origem'], df['Estacao_Destino'])\n",
    "\n",
    "# Somar as rotas para encontrar as mais e menos frequentes\n",
    "frequencias = matriz_fluxo.sum(axis=1).reset_index()\n",
    "frequencias.columns = ['Estacao_Origem', 'Total_Frequencia']\n",
    "\n",
    "# Identificar as rotas mais frequentes\n",
    "rota_mais_frequente = frequencias.loc[frequencias['Total_Frequencia'].idxmax()]\n",
    "\n",
    "# Exibir as rotas mais e menos frequentes\n",
    "print(\"Rota mais frequente:\")\n",
    "print(rota_mais_frequente)"
   ]
  },
  {
   "cell_type": "code",
   "execution_count": null,
   "metadata": {},
   "outputs": [],
   "source": [
    "# Filtrar o DataFrame para obter as estações de destino onde a origem é \"Ouro Branco\"\n",
    "estacoes_destino = df[df['Estacao_Origem'] == 'Ouro Branco']['Estacao_Destino']\n",
    "\n",
    "# Contar a frequência de cada estação de destino\n",
    "contagem_destinos = estacoes_destino.value_counts()\n",
    "contagem_destinos.head(10)"
   ]
  },
  {
   "cell_type": "code",
   "execution_count": null,
   "metadata": {},
   "outputs": [],
   "source": [
    "# Rotas mais frequentes: Ouro Branco - Tubarão, Ouro Beranco - Caçapava, Outo Branco - Itaguaí"
   ]
  },
  {
   "cell_type": "markdown",
   "metadata": {},
   "source": [
    "### 8.7 - Tendências Temporais e Sazonalidade"
   ]
  },
  {
   "cell_type": "code",
   "execution_count": null,
   "metadata": {},
   "outputs": [],
   "source": [
    "#Pergunta: Existem padrões sazonais ou tendências temporais significativas no volume de carga transportada?\n",
    "#Tarefas:\n",
    "#Analisar tendências temporais e padrões sazonais utilizando técnicas de decomposição de séries temporais.\n",
    "#Visualizar os dados com gráficos sazonais para identificar padrões anuais ou mensais."
   ]
  },
  {
   "cell_type": "markdown",
   "metadata": {},
   "source": [
    "#### 8.7.1 - Decomposição de Séries Temporais"
   ]
  },
  {
   "cell_type": "code",
   "execution_count": null,
   "metadata": {},
   "outputs": [],
   "source": [
    "volume_por_mes_ano.shape"
   ]
  },
  {
   "cell_type": "code",
   "execution_count": null,
   "metadata": {},
   "outputs": [],
   "source": [
    "volume_por_mes_ano.head(10)"
   ]
  },
  {
   "cell_type": "code",
   "execution_count": null,
   "metadata": {},
   "outputs": [],
   "source": [
    "#volume_por_mes_ano['Mes_Ano'] = pd.to_datetime(volume_por_mes_ano['Mes_Ano'], format='%m/%Y')\n",
    "volume_por_mes_ano.set_index('Mes_Ano', inplace=True)\n",
    "# Garantir que a frequência do índice seja definida\n",
    "#volume_por_mes_ano = volume_por_mes_ano.asfreq('M')"
   ]
  },
  {
   "cell_type": "code",
   "execution_count": null,
   "metadata": {},
   "outputs": [],
   "source": [
    "# Verifique os valores faltantes\n",
    "print(volume_por_mes_ano.isnull().sum())"
   ]
  },
  {
   "cell_type": "code",
   "execution_count": null,
   "metadata": {},
   "outputs": [],
   "source": [
    "# Decomposição da série temporal usando STL (Seasonal-Trend decomposition using LOESS)\n",
    "result = sm.tsa.seasonal_decompose(volume_por_mes_ano['Volume'], model='additive')\n",
    "\n",
    "# Plotar os componentes\n",
    "plt.figure(figsize=(14, 10))\n",
    "\n",
    "plt.subplot(4, 1, 1)\n",
    "plt.plot(result.observed)\n",
    "plt.title('Observado')\n",
    "plt.xlabel('Data')\n",
    "plt.ylabel('Volume')\n",
    "\n",
    "plt.subplot(4, 1, 2)\n",
    "plt.plot(result.trend)\n",
    "plt.title('Tendência')\n",
    "plt.xlabel('Data')\n",
    "plt.ylabel('Volume')\n",
    "\n",
    "plt.subplot(4, 1, 3)\n",
    "plt.plot(result.seasonal)\n",
    "plt.title('Sazonalidade')\n",
    "plt.xlabel('Data')\n",
    "plt.ylabel('Volume')\n",
    "\n",
    "plt.subplot(4, 1, 4)\n",
    "plt.plot(result.resid)\n",
    "plt.title('Resíduo')\n",
    "plt.xlabel('Data')\n",
    "plt.ylabel('Volume')\n",
    "\n",
    "plt.tight_layout()\n",
    "plt.show()"
   ]
  },
  {
   "cell_type": "code",
   "execution_count": null,
   "metadata": {},
   "outputs": [],
   "source": [
    "# Insights: \n",
    "# Gráfico 1 Observado - Este gráfico mostra os dados originais da série temporal. \n",
    "# Verifica-se um padrão de aumento de volume transportado no primeiro semestre e uma redução no segundo semestre de cada ano.\n",
    "# Volume acima dos demais anos pode ser verificado em 2019.\n",
    "# Gráfico 2 - Tendência - Este gráfico representa a tendência de longo prazo dos dados, suavizando as flutuações sazonais.\n",
    "# Observada tendência de alta de 2013 até metade de 2018. Depois tendência de queda da metade de 2018 até início de 2020 \n",
    "# com uma leve alta até 2021, nova queda até 2022 e nova tendência de alta até final de 2023.\n",
    "# Gráfico 3 - Sazonalidade - Este gráfico mostra a variação sazonal ao longo do tempo, isolando padrões que se repetem em intervalos regulares.\n",
    "# Nota-se sazonalidade anual constante ao longo do tempo\n",
    "# Gráfico 4 - Resíduos - Este gráfico representa a diferença entre os dados observados e a soma dos componentes de tendência e sazonalidade\n",
    "# Os resíduos não apresentam padrão claro indicando uma decomposição bem feita."
   ]
  },
  {
   "cell_type": "markdown",
   "metadata": {},
   "source": [
    "#### 8.7.2 - Visualizar Dados Sazonais"
   ]
  },
  {
   "cell_type": "code",
   "execution_count": null,
   "metadata": {},
   "outputs": [],
   "source": [
    "# Extrair o mês e calcular a média do volume por mês\n",
    "volume_por_mes_ano['Month'] = volume_por_mes_ano.index.month\n",
    "monthly_mean_volume = volume_por_mes_ano.groupby('Month').mean()['Volume']\n",
    "\n",
    "# Plotar o gráfico\n",
    "plt.figure(figsize=(12, 6))\n",
    "monthly_mean_volume.plot(kind='bar', color='pink')\n",
    "\n",
    "plt.title('Volume Médio de Carga por Mês')\n",
    "plt.xlabel('Mês')\n",
    "plt.ylabel('Volume Médio (Toneladas)')\n",
    "plt.xticks(ticks=range(12), labels=['Jan', 'Feb', 'Mar', 'Apr', 'May', 'Jun', 'Jul', 'Aug', 'Sep', 'Oct', 'Nov', 'Dec'], rotation=45)\n",
    "plt.grid(True)\n",
    "plt.tight_layout()\n",
    "plt.show()"
   ]
  },
  {
   "cell_type": "code",
   "execution_count": null,
   "metadata": {},
   "outputs": [],
   "source": [
    "# Insights: Meses de Julho e Agosto tem maior volume transportado. Meses de Janeiro e Fevereiro tem menor volume transportado."
   ]
  },
  {
   "cell_type": "markdown",
   "metadata": {},
   "source": [
    "# 9 - Visualização e relatórios"
   ]
  },
  {
   "cell_type": "code",
   "execution_count": null,
   "metadata": {},
   "outputs": [],
   "source": [
    "#Pergunta: Como apresentar os resultados de maneira clara e informativa para stakeholders?\n",
    "#Tarefas:\n",
    "#Criar dashboards interativos que incluam gráficos de tendências, mapas de rotas, e análises de eficiência.\n",
    "#Desenvolver relatórios que destaquem insights principais, como oportunidades de otimização e melhorias na eficiência.\n",
    "#Métodos e Ferramentas:\n",
    "#Análise Exploratória de Dados (EDA): Usar bibliotecas como Pandas, NumPy, e Matplotlib/Seaborn para exploração e visualização dos dados.\n",
    "#Modelagem Estatística: Aplicar técnicas estatísticas para entender padrões e correlações.\n",
    "#Machine Learning (opcional): Usar algoritmos de aprendizado de máquina para prever volumes de carga futuros ou identificar padrões complexos.\n",
    "#Visualização de Dados: Utilizar ferramentas como Tableau, Power BI, ou bibliotecas Python (Plotly, Bokeh) para criar visualizações interativas.\n",
    "#Exemplo de Resultados a Serem Apresentados:\n",
    "#Gráficos de Tendências: Volume de carga transportada ao longo do tempo, por ferrovia e mercadoria.\n",
    "#Matriz de Fluxo: Frequência das rotas entre estações de origem e destino.\n",
    "#Eficiência: Gráficos comparativos da eficiência entre diferentes ferrovias e mercadorias.\n",
    "#Mapas: Mapas de calor mostrando a intensidade do transporte entre diferentes regiões."
   ]
  },
  {
   "cell_type": "markdown",
   "metadata": {},
   "source": [
    "# Gráficos interativos"
   ]
  },
  {
   "cell_type": "markdown",
   "metadata": {},
   "source": [
    "### 9.1 - Dashboard interativo com Dash"
   ]
  },
  {
   "cell_type": "code",
   "execution_count": null,
   "metadata": {},
   "outputs": [],
   "source": [
    "# Dashboard Interativo com Código\n",
    "# Dash com Python\n",
    "# Dash é uma biblioteca desenvolvida pelo Plotly que permite criar dashboards interativos com Python. \n",
    "# É ideal para criar interfaces web interativas com gráficos e tabelas."
   ]
  },
  {
   "cell_type": "code",
   "execution_count": null,
   "metadata": {},
   "outputs": [],
   "source": [
    "# Para rodar um arquivo.py no jupyter notebook, execute a estrutura desta célula e da seguinte.\n",
    "# pip install jupyter-dash"
   ]
  },
  {
   "cell_type": "code",
   "execution_count": 11,
   "metadata": {},
   "outputs": [],
   "source": [
    "# Caminho para o seu arquivo dash_app.py\n",
    "caminho = r'C:\\Users\\Danilo\\PROJETOS\\PROJETO11_FERROVIA_CARGA\\scripts\\dash_app.py'\n",
    "\n",
    "# Executa o script\n",
    "process = subprocess.Popen(['python', caminho])"
   ]
  },
  {
   "cell_type": "code",
   "execution_count": null,
   "metadata": {},
   "outputs": [],
   "source": [
    "# Observação: como no código desenvolvido, na última linha temos app.run_server(debug=True), não mudamos a porta padrão\n",
    "# A porta padrão do Dash é 8050\n",
    "# Em sua máquina local digitar o local a seguir. Verificar se sua porta é realmente 8050\n",
    "# http://127.0.0.1:8050/"
   ]
  },
  {
   "cell_type": "code",
   "execution_count": 13,
   "metadata": {},
   "outputs": [],
   "source": [
    "# Parar o aplicativo\n",
    "process.kill()"
   ]
  },
  {
   "cell_type": "code",
   "execution_count": 12,
   "metadata": {},
   "outputs": [
    {
     "data": {
      "image/jpeg": "[encoded data removed]",
      "text/plain": [
       "<IPython.core.display.Image object>"
      ]
     },
     "metadata": {},
     "output_type": "display_data"
    }
   ],
   "source": [
    "# imagem capturada pela página criada pelo Dash\n",
    "# Caminho da imagem\n",
    "image_path = r'C:\\Users\\Danilo\\PROJETOS\\PROJETO11_FERROVIA_CARGA\\reports\\figures\\imagem_dash.jpg'\n",
    "# Exibir a imagem\n",
    "display(Image(filename=image_path))"
   ]
  },
  {
   "cell_type": "code",
   "execution_count": null,
   "metadata": {},
   "outputs": [],
   "source": [
    "# Para rodar via terminal, digite: python dash_app.py a partir da pasta onde está o arquivo"
   ]
  },
  {
   "cell_type": "markdown",
   "metadata": {},
   "source": [
    "### 9.2 - Dashboard interativo com Streamlit"
   ]
  },
  {
   "cell_type": "code",
   "execution_count": null,
   "metadata": {},
   "outputs": [],
   "source": [
    "# Dashboard Interativo com Código\n",
    "# Streamlit com python\n",
    "# Streamlit é uma ferramenta muito fácil de usar para criar dashboards interativos e visualizações com Python."
   ]
  },
  {
   "cell_type": "code",
   "execution_count": null,
   "metadata": {},
   "outputs": [],
   "source": [
    "# A porta padrão do Streamlit é 8501"
   ]
  },
  {
   "cell_type": "code",
   "execution_count": 7,
   "metadata": {},
   "outputs": [],
   "source": [
    "# Caminho para o seu arquivo streamlit_app.py\n",
    "caminho = r'C:\\Users\\Danilo\\PROJETOS\\PROJETO11_FERROVIA_CARGA\\scripts\\streamlit_app.py'\n",
    "\n",
    "# Inicia o aplicativo Streamlit\n",
    "process = subprocess.Popen(['streamlit', 'run', caminho])"
   ]
  },
  {
   "cell_type": "code",
   "execution_count": null,
   "metadata": {},
   "outputs": [],
   "source": [
    "# Parar o aplicativo\n",
    "process.kill()"
   ]
  },
  {
   "cell_type": "code",
   "execution_count": 10,
   "metadata": {},
   "outputs": [
    {
     "data": {
      "image/jpeg": "[encoded data removed]",
      "text/plain": [
       "<IPython.core.display.Image object>"
      ]
     },
     "metadata": {},
     "output_type": "display_data"
    }
   ],
   "source": [
    "# imagem capturada pela página criada pelo Streamlit\n",
    "# Caminho da imagem\n",
    "image_path = r'C:\\Users\\Danilo\\PROJETOS\\PROJETO11_FERROVIA_CARGA\\reports\\figures\\dashboard_streamlit.jpg'\n",
    "# Exibir a imagem\n",
    "display(Image(filename=image_path))"
   ]
  },
  {
   "cell_type": "code",
   "execution_count": null,
   "metadata": {},
   "outputs": [],
   "source": [
    "# Para executar um aplicativo Streamlit (fora do jupyter notebook), no terminal digite:\n",
    "# streamlit run streamlit_app.py --server.port 8502\n",
    "# abrir http:localhost/8502, se não abrir automaticamente"
   ]
  },
  {
   "cell_type": "markdown",
   "metadata": {},
   "source": [
    "### 9.3 - Dashboard estático com Power BI"
   ]
  },
  {
   "cell_type": "markdown",
   "metadata": {},
   "source": [
    "### Imagem gerada através do PowerBI Desktop sobre Soma de TU por ano e por Ferrovia"
   ]
  },
  {
   "cell_type": "code",
   "execution_count": null,
   "metadata": {},
   "outputs": [],
   "source": [
    "# O PowerBI Desktop somente gera arquivos .pbix ou .pdf\n",
    "# Para converter .pdf em .jpg, foi utilizada a ferramenta online pdf2go.com"
   ]
  },
  {
   "cell_type": "code",
   "execution_count": null,
   "metadata": {},
   "outputs": [],
   "source": [
    "# Caminho da imagem\n",
    "image_path = r'C:\\Users\\Danilo\\PROJETOS\\PROJETO11_FERROVIA_CARGA\\reports\\figures\\ferrovia.jpg'\n",
    "# Exibir a imagem\n",
    "display(Image(filename=image_path))"
   ]
  },
  {
   "cell_type": "markdown",
   "metadata": {},
   "source": [
    "### 9.4 - Dashboard estático com Tableau"
   ]
  },
  {
   "cell_type": "markdown",
   "metadata": {},
   "source": [
    "### Imagem gerada através do Tableau Public sobre Ferrovia x TU do ano 2013"
   ]
  },
  {
   "cell_type": "code",
   "execution_count": null,
   "metadata": {},
   "outputs": [],
   "source": [
    "# Caminho da imagem\n",
    "image_path = r'C:\\Users\\Danilo\\PROJETOS\\PROJETO11_FERROVIA_CARGA\\reports\\figures\\FerroviaxTU.png'\n",
    "# Exibir a imagem\n",
    "display(Image(filename=image_path))"
   ]
  },
  {
   "cell_type": "markdown",
   "metadata": {},
   "source": [
    "# 10 - Machine learning"
   ]
  },
  {
   "cell_type": "code",
   "execution_count": 14,
   "metadata": {},
   "outputs": [
    {
     "data": {
      "text/plain": [
       "'\\n#1. Previsão de Carga de Mercadorias\\n#Problema: Prever a quantidade de toneladas (tu) transportadas no futuro, com base em dados históricos.\\nModelos: Regressão linear, árvores de decisão, ou modelos de séries temporais como ARIMA.\\n2. Classificação de Mercadorias\\nProblema: Classificar mercadorias em diferentes categorias com base nas características fornecidas.\\nModelos: Algoritmos de classificação como KNN, SVM, ou redes neurais.\\n3. Análise de Rotas\\nProblema: Identificar as rotas mais eficientes entre estações de origem e destino, usando estacao_origem, estacao_destino e uf_origem, uf_destino.\\nModelos: Algoritmos de agrupamento (clustering) para identificar padrões nas rotas mais utilizadas.\\n4. Detecção de Anomalias\\nProblema: Identificar anomalias no fluxo de mercadorias, como picos inesperados ou quedas na quantidade transportada.\\nModelos: Algoritmos de detecção de anomalias como Isolation Forest ou DBSCAN.\\n5. Análise de Impacto de Variáveis Externas\\nProblema: Avaliar como variáveis externas (como mudanças econômicas ou sazonais) impactam o transporte de mercadorias.\\nModelos: Regressão múltipla ou modelos de machine learning que podem incorporar variáveis externas.\\n6. Segmentação de Clientes ou Concessionárias\\nProblema: Agrupar diferentes concessionárias com base no fluxo de mercadorias transportadas e suas características.\\nModelos: Algoritmos de clustering como K-means ou Hierarchical Clustering.\\n7. Otimização de Custo\\nProblema: Otimizar os custos de transporte com base na tonelada-quilômetro útil (tku).\\nModelos: Métodos de otimização linear ou modelos de machine learning para prever custos com base em diferentes variáveis.\\nImplementação\\nPara qualquer um desses problemas, você precisará:\\n\\nPré-processar os dados: Tratar valores ausentes, codificar variáveis categóricas e normalizar dados, se necessário.\\nDividir os dados: Separar os dados em conjuntos de treino e teste.\\nTreinar e avaliar o modelo: Usar métricas apropriadas para avaliar a performance do modelo.\\nInterpretar resultados: Compreender como as variáveis influenciam as previsões e análises. '"
      ]
     },
     "execution_count": 14,
     "metadata": {},
     "output_type": "execute_result"
    }
   ],
   "source": [
    "'''\n",
    "#1. Previsão de Carga de Mercadorias\n",
    "#Problema: Prever a quantidade de toneladas (tu) transportadas no futuro, com base em dados históricos.\n",
    "Modelos: Regressão linear, árvores de decisão, ou modelos de séries temporais como ARIMA.\n",
    "2. Classificação de Mercadorias\n",
    "Problema: Classificar mercadorias em diferentes categorias com base nas características fornecidas.\n",
    "Modelos: Algoritmos de classificação como KNN, SVM, ou redes neurais.\n",
    "3. Análise de Rotas\n",
    "Problema: Identificar as rotas mais eficientes entre estações de origem e destino, usando estacao_origem, estacao_destino e uf_origem, uf_destino.\n",
    "Modelos: Algoritmos de agrupamento (clustering) para identificar padrões nas rotas mais utilizadas.\n",
    "4. Detecção de Anomalias\n",
    "Problema: Identificar anomalias no fluxo de mercadorias, como picos inesperados ou quedas na quantidade transportada.\n",
    "Modelos: Algoritmos de detecção de anomalias como Isolation Forest ou DBSCAN.\n",
    "5. Análise de Impacto de Variáveis Externas\n",
    "Problema: Avaliar como variáveis externas (como mudanças econômicas ou sazonais) impactam o transporte de mercadorias.\n",
    "Modelos: Regressão múltipla ou modelos de machine learning que podem incorporar variáveis externas.\n",
    "6. Segmentação de Clientes ou Concessionárias\n",
    "Problema: Agrupar diferentes concessionárias com base no fluxo de mercadorias transportadas e suas características.\n",
    "Modelos: Algoritmos de clustering como K-means ou Hierarchical Clustering.\n",
    "7. Otimização de Custo\n",
    "Problema: Otimizar os custos de transporte com base na tonelada-quilômetro útil (tku).\n",
    "Modelos: Métodos de otimização linear ou modelos de machine learning para prever custos com base em diferentes variáveis.\n",
    "Implementação\n",
    "Para qualquer um desses problemas, você precisará:\n",
    "\n",
    "Pré-processar os dados: Tratar valores ausentes, codificar variáveis categóricas e normalizar dados, se necessário.\n",
    "Dividir os dados: Separar os dados em conjuntos de treino e teste.\n",
    "Treinar e avaliar o modelo: Usar métricas apropriadas para avaliar a performance do modelo.\n",
    "Interpretar resultados: Compreender como as variáveis influenciam as previsões e análises. '''"
   ]
  },
  {
   "cell_type": "code",
   "execution_count": null,
   "metadata": {},
   "outputs": [],
   "source": [
    "#6. Segmentação de Clientes ou Concessionárias\n",
    "#Problema: Agrupar diferentes concessionárias com base no fluxo de mercadorias transportadas e suas características.\n",
    "#Modelos: Algoritmos de clustering como K-means ou Hierarchical Clustering"
   ]
  },
  {
   "cell_type": "code",
   "execution_count": 2,
   "metadata": {},
   "outputs": [],
   "source": [
    "import pandas as pd\n",
    "import numpy as np\n",
    "import matplotlib.pyplot as plt\n",
    "from matplotlib import pylab\n",
    "from sklearn.preprocessing import MinMaxScaler\n",
    "from sklearn.preprocessing import StandardScaler\n",
    "from sklearn.preprocessing import LabelEncoder\n",
    "from sklearn.cluster import KMeans, DBSCAN, MeanShift, estimate_bandwidth\n",
    "from sklearn.decomposition import PCA\n",
    "#from scipy.spatial.distance import cdist, pdist\n",
    "from sklearn.metrics import silhouette_score\n",
    "from itertools import cycle\n",
    "import warnings\n",
    "warnings.filterwarnings(\"ignore\")\n",
    "%matplotlib inline"
   ]
  },
  {
   "cell_type": "code",
   "execution_count": 3,
   "metadata": {},
   "outputs": [
    {
     "name": "stdout",
     "output_type": "stream",
     "text": [
      "DataFrame carregado\n"
     ]
    }
   ],
   "source": [
    "# Caminho para o arquivo pickle\n",
    "caminho_pickle = 'C:/Users/Danilo/PROJETOS/PROJETO11_FERROVIA_CARGA/data/final/df_final.pkl'\n",
    "\n",
    "# Carregar o DataFrame a partir do arquivo pickle\n",
    "df = pd.read_pickle(caminho_pickle)\n",
    "\n",
    "print(\"DataFrame carregado\")"
   ]
  },
  {
   "cell_type": "code",
   "execution_count": 4,
   "metadata": {},
   "outputs": [],
   "source": [
    "# Vamos transformar as variáveis categóricas em variáveis numéricas\n",
    "# Como vários valores únicos nas colunas Description e Country, vamos utilizar o LabelEncoder"
   ]
  },
  {
   "cell_type": "code",
   "execution_count": 5,
   "metadata": {},
   "outputs": [
    {
     "data": {
      "text/plain": [
       "Mes_Ano            datetime64[ns]\n",
       "Ferrovia                   object\n",
       "Mercadoria_ANTT            object\n",
       "Estacao_Origem             object\n",
       "UF_Origem                  object\n",
       "Estacao_Destino            object\n",
       "UF_Destino                 object\n",
       "TU                        float64\n",
       "TKU                       float64\n",
       "dtype: object"
      ]
     },
     "execution_count": 5,
     "metadata": {},
     "output_type": "execute_result"
    }
   ],
   "source": [
    "df.dtypes"
   ]
  },
  {
   "cell_type": "code",
   "execution_count": null,
   "metadata": {},
   "outputs": [],
   "source": [
    "# Criar uma instância do LabelEncoder\n",
    "#label_encoder = LabelEncoder()\n",
    "\n",
    "# Ajustar o encoder aos dados e transformar a variável categórica em numérica\n",
    "#df['Ferrovia'] = label_encoder.fit_transform(df['Ferrovia'])\n",
    "#df['Mercadoria_ANTT'] = label_encoder.fit_transform(df['Mercadoria_ANTT'])\n",
    "#df['Estacao_Origem'] = label_encoder.fit_transform(df['Estacao_Origem'])\n",
    "#df['UF_Origem'] = label_encoder.fit_transform(df['UF_Origem'])\n",
    "#df['Estacao_Destino'] = label_encoder.fit_transform(df['Estacao_Destino'])\n",
    "#df['UF_Destino'] = label_encoder.fit_transform(df['UF_Destino'])"
   ]
  },
  {
   "cell_type": "code",
   "execution_count": 12,
   "metadata": {},
   "outputs": [
    {
     "ename": "KeyError",
     "evalue": "\"['Mes_Ano'] not found in axis\"",
     "output_type": "error",
     "traceback": [
      "\u001b[1;31m---------------------------------------------------------------------------\u001b[0m",
      "\u001b[1;31mKeyError\u001b[0m                                  Traceback (most recent call last)",
      "Cell \u001b[1;32mIn[12], line 2\u001b[0m\n\u001b[0;32m      1\u001b[0m \u001b[38;5;66;03m# Removendo a coluna de data que não se aplica neste método de machine learning\u001b[39;00m\n\u001b[1;32m----> 2\u001b[0m df \u001b[38;5;241m=\u001b[39m df\u001b[38;5;241m.\u001b[39mdrop(columns\u001b[38;5;241m=\u001b[39m[\u001b[38;5;124m'\u001b[39m\u001b[38;5;124mMes_Ano\u001b[39m\u001b[38;5;124m'\u001b[39m])\n",
      "File \u001b[1;32m~\\anaconda3\\Lib\\site-packages\\pandas\\core\\frame.py:5581\u001b[0m, in \u001b[0;36mDataFrame.drop\u001b[1;34m(self, labels, axis, index, columns, level, inplace, errors)\u001b[0m\n\u001b[0;32m   5433\u001b[0m \u001b[38;5;28;01mdef\u001b[39;00m \u001b[38;5;21mdrop\u001b[39m(\n\u001b[0;32m   5434\u001b[0m     \u001b[38;5;28mself\u001b[39m,\n\u001b[0;32m   5435\u001b[0m     labels: IndexLabel \u001b[38;5;241m|\u001b[39m \u001b[38;5;28;01mNone\u001b[39;00m \u001b[38;5;241m=\u001b[39m \u001b[38;5;28;01mNone\u001b[39;00m,\n\u001b[1;32m   (...)\u001b[0m\n\u001b[0;32m   5442\u001b[0m     errors: IgnoreRaise \u001b[38;5;241m=\u001b[39m \u001b[38;5;124m\"\u001b[39m\u001b[38;5;124mraise\u001b[39m\u001b[38;5;124m\"\u001b[39m,\n\u001b[0;32m   5443\u001b[0m ) \u001b[38;5;241m-\u001b[39m\u001b[38;5;241m>\u001b[39m DataFrame \u001b[38;5;241m|\u001b[39m \u001b[38;5;28;01mNone\u001b[39;00m:\n\u001b[0;32m   5444\u001b[0m \u001b[38;5;250m    \u001b[39m\u001b[38;5;124;03m\"\"\"\u001b[39;00m\n\u001b[0;32m   5445\u001b[0m \u001b[38;5;124;03m    Drop specified labels from rows or columns.\u001b[39;00m\n\u001b[0;32m   5446\u001b[0m \n\u001b[1;32m   (...)\u001b[0m\n\u001b[0;32m   5579\u001b[0m \u001b[38;5;124;03m            weight  1.0     0.8\u001b[39;00m\n\u001b[0;32m   5580\u001b[0m \u001b[38;5;124;03m    \"\"\"\u001b[39;00m\n\u001b[1;32m-> 5581\u001b[0m     \u001b[38;5;28;01mreturn\u001b[39;00m \u001b[38;5;28msuper\u001b[39m()\u001b[38;5;241m.\u001b[39mdrop(\n\u001b[0;32m   5582\u001b[0m         labels\u001b[38;5;241m=\u001b[39mlabels,\n\u001b[0;32m   5583\u001b[0m         axis\u001b[38;5;241m=\u001b[39maxis,\n\u001b[0;32m   5584\u001b[0m         index\u001b[38;5;241m=\u001b[39mindex,\n\u001b[0;32m   5585\u001b[0m         columns\u001b[38;5;241m=\u001b[39mcolumns,\n\u001b[0;32m   5586\u001b[0m         level\u001b[38;5;241m=\u001b[39mlevel,\n\u001b[0;32m   5587\u001b[0m         inplace\u001b[38;5;241m=\u001b[39minplace,\n\u001b[0;32m   5588\u001b[0m         errors\u001b[38;5;241m=\u001b[39merrors,\n\u001b[0;32m   5589\u001b[0m     )\n",
      "File \u001b[1;32m~\\anaconda3\\Lib\\site-packages\\pandas\\core\\generic.py:4788\u001b[0m, in \u001b[0;36mNDFrame.drop\u001b[1;34m(self, labels, axis, index, columns, level, inplace, errors)\u001b[0m\n\u001b[0;32m   4786\u001b[0m \u001b[38;5;28;01mfor\u001b[39;00m axis, labels \u001b[38;5;129;01min\u001b[39;00m axes\u001b[38;5;241m.\u001b[39mitems():\n\u001b[0;32m   4787\u001b[0m     \u001b[38;5;28;01mif\u001b[39;00m labels \u001b[38;5;129;01mis\u001b[39;00m \u001b[38;5;129;01mnot\u001b[39;00m \u001b[38;5;28;01mNone\u001b[39;00m:\n\u001b[1;32m-> 4788\u001b[0m         obj \u001b[38;5;241m=\u001b[39m obj\u001b[38;5;241m.\u001b[39m_drop_axis(labels, axis, level\u001b[38;5;241m=\u001b[39mlevel, errors\u001b[38;5;241m=\u001b[39merrors)\n\u001b[0;32m   4790\u001b[0m \u001b[38;5;28;01mif\u001b[39;00m inplace:\n\u001b[0;32m   4791\u001b[0m     \u001b[38;5;28mself\u001b[39m\u001b[38;5;241m.\u001b[39m_update_inplace(obj)\n",
      "File \u001b[1;32m~\\anaconda3\\Lib\\site-packages\\pandas\\core\\generic.py:4830\u001b[0m, in \u001b[0;36mNDFrame._drop_axis\u001b[1;34m(self, labels, axis, level, errors, only_slice)\u001b[0m\n\u001b[0;32m   4828\u001b[0m         new_axis \u001b[38;5;241m=\u001b[39m axis\u001b[38;5;241m.\u001b[39mdrop(labels, level\u001b[38;5;241m=\u001b[39mlevel, errors\u001b[38;5;241m=\u001b[39merrors)\n\u001b[0;32m   4829\u001b[0m     \u001b[38;5;28;01melse\u001b[39;00m:\n\u001b[1;32m-> 4830\u001b[0m         new_axis \u001b[38;5;241m=\u001b[39m axis\u001b[38;5;241m.\u001b[39mdrop(labels, errors\u001b[38;5;241m=\u001b[39merrors)\n\u001b[0;32m   4831\u001b[0m     indexer \u001b[38;5;241m=\u001b[39m axis\u001b[38;5;241m.\u001b[39mget_indexer(new_axis)\n\u001b[0;32m   4833\u001b[0m \u001b[38;5;66;03m# Case for non-unique axis\u001b[39;00m\n\u001b[0;32m   4834\u001b[0m \u001b[38;5;28;01melse\u001b[39;00m:\n",
      "File \u001b[1;32m~\\anaconda3\\Lib\\site-packages\\pandas\\core\\indexes\\base.py:7070\u001b[0m, in \u001b[0;36mIndex.drop\u001b[1;34m(self, labels, errors)\u001b[0m\n\u001b[0;32m   7068\u001b[0m \u001b[38;5;28;01mif\u001b[39;00m mask\u001b[38;5;241m.\u001b[39many():\n\u001b[0;32m   7069\u001b[0m     \u001b[38;5;28;01mif\u001b[39;00m errors \u001b[38;5;241m!=\u001b[39m \u001b[38;5;124m\"\u001b[39m\u001b[38;5;124mignore\u001b[39m\u001b[38;5;124m\"\u001b[39m:\n\u001b[1;32m-> 7070\u001b[0m         \u001b[38;5;28;01mraise\u001b[39;00m \u001b[38;5;167;01mKeyError\u001b[39;00m(\u001b[38;5;124mf\u001b[39m\u001b[38;5;124m\"\u001b[39m\u001b[38;5;132;01m{\u001b[39;00mlabels[mask]\u001b[38;5;241m.\u001b[39mtolist()\u001b[38;5;132;01m}\u001b[39;00m\u001b[38;5;124m not found in axis\u001b[39m\u001b[38;5;124m\"\u001b[39m)\n\u001b[0;32m   7071\u001b[0m     indexer \u001b[38;5;241m=\u001b[39m indexer[\u001b[38;5;241m~\u001b[39mmask]\n\u001b[0;32m   7072\u001b[0m \u001b[38;5;28;01mreturn\u001b[39;00m \u001b[38;5;28mself\u001b[39m\u001b[38;5;241m.\u001b[39mdelete(indexer)\n",
      "\u001b[1;31mKeyError\u001b[0m: \"['Mes_Ano'] not found in axis\""
     ]
    }
   ],
   "source": [
    "# Removendo a coluna de data que não se aplica neste método de machine learning\n",
    "df = df.drop(columns=['Mes_Ano'])"
   ]
  },
  {
   "cell_type": "code",
   "execution_count": 22,
   "metadata": {},
   "outputs": [
    {
     "ename": "AttributeError",
     "evalue": "'csr_matrix' object has no attribute 'head'",
     "output_type": "error",
     "traceback": [
      "\u001b[1;31m---------------------------------------------------------------------------\u001b[0m",
      "\u001b[1;31mAttributeError\u001b[0m                            Traceback (most recent call last)",
      "Cell \u001b[1;32mIn[22], line 19\u001b[0m\n\u001b[0;32m     17\u001b[0m transformed_data \u001b[38;5;241m=\u001b[39m preprocessor\u001b[38;5;241m.\u001b[39mfit_transform(df)\n\u001b[0;32m     18\u001b[0m \u001b[38;5;66;03m#print(transformed_data)\u001b[39;00m\n\u001b[1;32m---> 19\u001b[0m transformed_data\u001b[38;5;241m.\u001b[39mhead()\n",
      "\u001b[1;31mAttributeError\u001b[0m: 'csr_matrix' object has no attribute 'head'"
     ]
    }
   ],
   "source": [
    "from sklearn.compose import ColumnTransformer\n",
    "from sklearn.preprocessing import OneHotEncoder, StandardScaler\n",
    "\n",
    "# Selecionar colunas numéricas e categóricas\n",
    "df_num = df.select_dtypes(include=['float64']).columns.tolist()\n",
    "df_cat = df.select_dtypes(include=['object']).columns.tolist()\n",
    "\n",
    "# Definir o ColumnTransformer\n",
    "preprocessor = ColumnTransformer(\n",
    "    transformers=[\n",
    "        ('cat', OneHotEncoder(), df_cat),\n",
    "        ('num', StandardScaler(), df_num)\n",
    "    ]\n",
    ")\n",
    "\n",
    "# Aplicar as transformações\n",
    "transformed_data = preprocessor.fit_transform(df)\n",
    "\n",
    "#print(transformed_data)\n",
    "#transformed_data.head()"
   ]
  },
  {
   "cell_type": "code",
   "execution_count": 28,
   "metadata": {},
   "outputs": [
    {
     "data": {
      "image/png": "[encoded data removed]",
      "text/plain": [
       "<Figure size 800x600 with 1 Axes>"
      ]
     },
     "metadata": {},
     "output_type": "display_data"
    }
   ],
   "source": [
    "# Aplicar TruncatedSVD - adequado para redução de dimensionalidade em matrizes esparsas\n",
    "svd = TruncatedSVD(n_components=2)  # Reduzir para 2 dimensões\n",
    "reduced_data = svd.fit_transform(transformed_data)\n",
    "\n",
    "# Criar um DataFrame com os dados reduzidos\n",
    "reduced_df = pd.DataFrame(data=reduced_data, columns=['SVD1', 'SVD2'])\n",
    "\n",
    "# Visualizar os dados reduzidos\n",
    "plt.figure(figsize=(8, 6))\n",
    "plt.scatter(reduced_df['SVD1'], reduced_df['SVD2'])\n",
    "plt.title('Truncated SVD Result')\n",
    "plt.xlabel('SVD1')\n",
    "plt.ylabel('SVD2')\n",
    "plt.grid()\n",
    "plt.show()"
   ]
  },
  {
   "cell_type": "code",
   "execution_count": 29,
   "metadata": {},
   "outputs": [],
   "source": [
    "# Criar uma instância do StandardScaler\n",
    "#scaler = StandardScaler()\n",
    "# Normalizar as variáveis\n",
    "#df_normalized = scaler.fit_transform(df)\n",
    "# Aplica redução de dimensionalidade\n",
    "#pca = PCA(n_components=2).fit_transform(transformed_data)"
   ]
  },
  {
   "cell_type": "code",
   "execution_count": 30,
   "metadata": {},
   "outputs": [],
   "source": [
    "#ML"
   ]
  },
  {
   "cell_type": "code",
   "execution_count": 32,
   "metadata": {},
   "outputs": [
    {
     "data": {
      "image/png": "[encoded data removed]",
      "text/plain": [
       "<Figure size 640x480 with 1 Axes>"
      ]
     },
     "metadata": {},
     "output_type": "display_data"
    }
   ],
   "source": [
    "#vamos usar como ponto de partida a métrica Inertia\n",
    "# Inertia = Soma das distâncias das amostras para o seu centro de agrupamento mais próximo.\n",
    "\n",
    "# Lista de valores de K\n",
    "Ks = range(2, 20)\n",
    "\n",
    "# Lista para as métricas\n",
    "valores_metrica = []\n",
    "\n",
    "# Loop por diferentes modelos com diferentes valores de K\n",
    "for K in Ks:\n",
    "    modelo = KMeans(n_clusters = K, random_state = 101)\n",
    "    modelo.fit(reduced_data)\n",
    "    valores_metrica.append(modelo.inertia_)\n",
    "\n",
    "plt.plot(Ks, valores_metrica, 'o-')\n",
    "plt.xlabel(\"Valor de K\")\n",
    "plt.ylabel(\"Inertia\")\n",
    "plt.show()"
   ]
  },
  {
   "cell_type": "code",
   "execution_count": null,
   "metadata": {},
   "outputs": [],
   "source": [
    "# pelo gráfico, vamos tentar com 5, 7 e 9 clusters\n",
    "# com 5 cluster kmeans deu \n",
    "# com 7 cluster kmeans deu 0,607\n",
    "# com 9 clusters kmeans de "
   ]
  },
  {
   "cell_type": "code",
   "execution_count": 34,
   "metadata": {},
   "outputs": [
    {
     "name": "stdout",
     "output_type": "stream",
     "text": [
      "0.6071913694284456\n"
     ]
    }
   ],
   "source": [
    "# Criando um modelo com K = 7\n",
    "modelo_v1 = KMeans(n_clusters=7, random_state=42)\n",
    "modelo_v1.fit(reduced_data)\n",
    "# Silhouette Score\n",
    "labels = modelo_v1.labels_\n",
    "silhouette_v1 = silhouette_score(reduced_data, labels, metric = 'euclidean')\n",
    "print(silhouette_v1)"
   ]
  },
  {
   "cell_type": "code",
   "execution_count": 35,
   "metadata": {},
   "outputs": [
    {
     "ename": "SyntaxError",
     "evalue": "unmatched ')' (1514066253.py, line 2)",
     "output_type": "error",
     "traceback": [
      "\u001b[1;36m  Cell \u001b[1;32mIn[35], line 2\u001b[1;36m\u001b[0m\n\u001b[1;33m    x_min, x_max = reduced_data)[:, 0].min() - 5, reduced_data)[:, 0].max() - 1\u001b[0m\n\u001b[1;37m                               ^\u001b[0m\n\u001b[1;31mSyntaxError\u001b[0m\u001b[1;31m:\u001b[0m unmatched ')'\n"
     ]
    }
   ],
   "source": [
    "# Obtém os valores mínimos e máximos e organiza o shape\n",
    "x_min, x_max = reduced_data[:, 0].min() - 5, reduced_data[:, 0].max() - 1\n",
    "y_min, y_max = reduced_data[:, 1].min() + 1, reduced_data[:, 1].max() + 5\n",
    "xx, yy = np.meshgrid(np.arange(x_min, x_max, .02), np.arange(y_min, y_max, .02))\n",
    "Z = modelo_v1.predict(np.c_[xx.ravel(), yy.ravel()])\n",
    "Z = Z.reshape(xx.shape)\n",
    "\n",
    "# Plot das áreas dos clusters\n",
    "plt.figure(1)\n",
    "plt.clf()\n",
    "plt.imshow(Z, \n",
    "          interpolation='nearest',\n",
    "          extent=(xx.min(), xx.max(), yy.min(), yy.max()),\n",
    "          cmap=plt.cm.Paired,\n",
    "          aspect='auto', \n",
    "          origin='lower')\n"
   ]
  },
  {
   "cell_type": "code",
   "execution_count": null,
   "metadata": {},
   "outputs": [],
   "source": [
    "# DBSCAN\n",
    "#dsscan com eps 0.5 min samples 5 euclidean deu 0.89"
   ]
  },
  {
   "cell_type": "code",
   "execution_count": 19,
   "metadata": {},
   "outputs": [],
   "source": [
    "# Construção do modelo\n",
    "modelo_v4 = DBSCAN(eps = 0.5, min_samples = 5, metric = 'euclidean')\n",
    "labels = modelo_v4.fit_predict(reduced_data)"
   ]
  },
  {
   "cell_type": "code",
   "execution_count": 20,
   "metadata": {},
   "outputs": [
    {
     "name": "stdout",
     "output_type": "stream",
     "text": [
      "Silhouette Score: 0.8973707409100139\n"
     ]
    }
   ],
   "source": [
    "# Calcular métrica de classificação (silhouette score)\n",
    "silhouette_v4  = silhouette_score(reduced_data, labels)\n",
    "print(\"Silhouette Score:\", silhouette_v4)"
   ]
  },
  {
   "cell_type": "code",
   "execution_count": 23,
   "metadata": {},
   "outputs": [
    {
     "name": "stdout",
     "output_type": "stream",
     "text": [
      "Número de clusters: 1995\n"
     ]
    }
   ],
   "source": [
    "# Contar o número de clusters\n",
    "num_clusters = len(set(labels)) - (1 if -1 in labels else 0)  # -1 é o ruído\n",
    "print(f\"Número de clusters: {num_clusters}\")\n",
    "\n",
    "# Exibir as labels\n",
    "#print(\"Labels dos clusters:\", labels)"
   ]
  },
  {
   "cell_type": "code",
   "execution_count": null,
   "metadata": {},
   "outputs": [],
   "source": [
    "#meanshift\n"
   ]
  },
  {
   "cell_type": "code",
   "execution_count": null,
   "metadata": {},
   "outputs": [],
   "source": [
    "'''# bandwidth = Comprimento da Interação entre os exemplos, também conhecido como a largura de banda do algoritmo.\n",
    "bandwidth = estimate_bandwidth(transformed_data, quantile = .3, n_samples = 500, random_state=42)\n",
    "\n",
    "# Cria o modelo\n",
    "modelo_v5 = MeanShift(bandwidth = bandwidth, bin_seeding = True)\n",
    "\n",
    "# Treina o modelo\n",
    "modelo_v5.fit(transformed_data)'''"
   ]
  },
  {
   "cell_type": "code",
   "execution_count": null,
   "metadata": {},
   "outputs": [],
   "source": [
    "'''# Coleta os labels, centróides e número de clusters\n",
    "labels = modelo_v5.labels_\n",
    "cluster_centers = modelo_v5.cluster_centers_\n",
    "n_clusters_ = labels.max()+1\n",
    "print (\"Número de clusters sugeridos: \", n_clusters_)'''"
   ]
  },
  {
   "cell_type": "code",
   "execution_count": null,
   "metadata": {},
   "outputs": [],
   "source": [
    "'''# Calcular métrica de classificação (silhouette score)\n",
    "silhouette_v5  = silhouette_score(transformed_data, labels)\n",
    "print(\"Silhouette Score:\", silhouette_v5)'''"
   ]
  },
  {
   "cell_type": "code",
   "execution_count": null,
   "metadata": {},
   "outputs": [],
   "source": [
    "#avaliação dod modelos"
   ]
  },
  {
   "cell_type": "code",
   "execution_count": null,
   "metadata": {},
   "outputs": [],
   "source": [
    "'''# Defina os valores para cada modelo\n",
    "modelos = ['KMEANS_4', 'KMEANS_5', 'KMEANS_6', 'DBSCAN', 'MEANSHIFT']\n",
    "sil = [silhouette_v1, silhouette_v2, silhouette_v3, silhouette_v4, silhouette_v5]'''"
   ]
  },
  {
   "cell_type": "code",
   "execution_count": null,
   "metadata": {},
   "outputs": [],
   "source": [
    "'''# Crie um DataFrame usando Pandas\n",
    "df_resumo_modelos = pd.DataFrame({\n",
    " 'Modelo': modelos,\n",
    " 'Silhouette': sil\n",
    "})'''"
   ]
  },
  {
   "cell_type": "code",
   "execution_count": null,
   "metadata": {},
   "outputs": [],
   "source": [
    "'''# Melhores modelos considerando a métrica Silhouette mais importante\n",
    "df_resumo_modelos_sil = df_resumo_modelos.sort_values(by='Silhouette', ascending=False)\n",
    "# fazemos o índice começar em zero\n",
    "df_resumo_modelos_sil =df_resumo_modelos_sil.reset_index(drop=True)\n",
    "# para ordenar os modelos começando do 1, acrescentamos 1 ao indice\n",
    "df_resumo_modelos_sil.index += 1\n",
    "print(\" Avaliação do modelos com base na Silhouette\\n\")\n",
    "df_resumo_modelos_sil'''"
   ]
  },
  {
   "cell_type": "code",
   "execution_count": null,
   "metadata": {},
   "outputs": [],
   "source": [
    "#Forma de avaliar a métrica silhouette\n",
    "\n",
    "#Um valor próximo de 1 indica que os clusters estão bem separados uns dos outros e \n",
    "#que as amostras dentro de cada cluster estão muito próximas umas das outras, o que é considerado uma boa separação.\n",
    "\n",
    "#Um valor próximo de 0 indica que há sobreposição entre os clusters ou que os clusters \n",
    "#estão muito próximos uns dos outros, o que pode indicar que os clusters não estão bem definidos.\n",
    "\n",
    "#Um valor próximo de -1 indica que as amostras foram atribuídas ao cluster errado.\n",
    "\n",
    "#Portanto, quanto mais próximo o valor do coeficiente silhouette estiver de 1, melhor é a qualidade dos clusters."
   ]
  },
  {
   "cell_type": "code",
   "execution_count": null,
   "metadata": {},
   "outputs": [],
   "source": [
    "### O modelo_v1 apresentou os melhores resultados.\n"
   ]
  },
  {
   "cell_type": "code",
   "execution_count": null,
   "metadata": {},
   "outputs": [],
   "source": [
    "### Criando o Cluster Map com os clusters do modelo_v1 que apresentou melhor Silhouette Score.\n"
   ]
  },
  {
   "cell_type": "code",
   "execution_count": null,
   "metadata": {},
   "outputs": [],
   "source": [
    "# Cria o cluster map\n",
    "#df_final['cluster'] = modelo_v1.labels_"
   ]
  },
  {
   "cell_type": "code",
   "execution_count": null,
   "metadata": {},
   "outputs": [],
   "source": [
    "# Convertendo os valores da coluna 'cluster' para inteiros\n",
    "#df_final['cluster'] = df_final['cluster'].astype(int)"
   ]
  },
  {
   "cell_type": "code",
   "execution_count": null,
   "metadata": {},
   "outputs": [],
   "source": [
    "# obtendo os valores únicos de cluster\n",
    "#valores_unicos = np.unique(df_final['cluster'])\n",
    "#print(\"Os valores únicos de clusters são:\", valores_unicos)"
   ]
  },
  {
   "cell_type": "code",
   "execution_count": null,
   "metadata": {},
   "outputs": [],
   "source": [
    "# verificando se a quantidade de clusters está correta \n",
    "#quantidade_valores_unicos = len(valores_unicos)\n",
    "#print(\"Quantidade de valores únicos:\", quantidade_valores_unicos)"
   ]
  },
  {
   "cell_type": "code",
   "execution_count": null,
   "metadata": {},
   "outputs": [],
   "source": [
    "#df_final.dtypes"
   ]
  },
  {
   "cell_type": "code",
   "execution_count": null,
   "metadata": {},
   "outputs": [],
   "source": [
    "# vendo a classificação de alguns clientes\n",
    "#df_final.sample(5)"
   ]
  },
  {
   "cell_type": "code",
   "execution_count": null,
   "metadata": {},
   "outputs": [],
   "source": [
    "# Agrupando os 10 produtos mais vendidos para os clausters 0, 1, 2 e 3\n",
    "# Filtrando o DataFrame para incluir apenas os clusters especificados (0, 1, 2 e 3)\n",
    "#df_clusters_especificos = df_final[df_final['cluster'].isin([0, 1, 2, 3])]\n",
    "\n",
    "# Agrupando por 'cluster' e 'Description' e somar a quantidade vendida de cada produto em cada cluster\n",
    "#produtos_mais_vendidos_por_cluster = df_clusters_especificos.groupby(['cluster', 'Description'])['Quantity'].sum()\n",
    "\n",
    "# Encontrando os 10 produtos mais vendidos para cada cluster\n",
    "#top_10_produtos_por_cluster = produtos_mais_vendidos_por_cluster.groupby('cluster').nlargest(10)\n",
    "\n",
    "#print(top_10_produtos_por_cluster)"
   ]
  },
  {
   "cell_type": "code",
   "execution_count": null,
   "metadata": {},
   "outputs": [],
   "source": [
    "'''# Plotar o gráfico\n",
    "plt.figure(figsize=(12, 8))\n",
    "\n",
    "for cluster, data in top_10_produtos_por_cluster.groupby(level=0):\n",
    "    plt.barh(data.index.get_level_values('Description'), data.values, label=f'Cluster {cluster}')\n",
    "\n",
    "plt.xlabel('Quantidade Vendida')\n",
    "plt.ylabel('Descrição do Produto')\n",
    "plt.title('Top 10 Produtos Mais Vendidos por Cluster')\n",
    "plt.legend(title='Cluster')\n",
    "plt.gca().invert_yaxis()  # Inverter eixo y para que os produtos mais vendidos fiquem no topo\n",
    "plt.tight_layout()\n",
    "plt.show()'''"
   ]
  },
  {
   "cell_type": "code",
   "execution_count": null,
   "metadata": {},
   "outputs": [],
   "source": [
    "# conclusao"
   ]
  },
  {
   "cell_type": "code",
   "execution_count": null,
   "metadata": {},
   "outputs": [],
   "source": [
    "## O modelo_v1 apresentou os melhores resultados. O df_final apresenta a coluna 'cluster' indicando cada cliente num dos 4 clusters obtidos.\n"
   ]
  },
  {
   "cell_type": "code",
   "execution_count": null,
   "metadata": {},
   "outputs": [],
   "source": [
    "# Fim"
   ]
  },
  {
   "cell_type": "markdown",
   "metadata": {},
   "source": [
    "### Verificando a relação entre atributos"
   ]
  },
  {
   "cell_type": "code",
   "execution_count": null,
   "metadata": {},
   "outputs": [],
   "source": [
    "# Criando a tabela de contingência em números absolutos\n",
    "tabela_contingencia = pd.crosstab(df['Period'], df['Status']) \n",
    "\n",
    "print(tabela_contingencia)"
   ]
  },
  {
   "cell_type": "code",
   "execution_count": null,
   "metadata": {},
   "outputs": [],
   "source": [
    "# Criando a tabela de contingência em porcentagem\n",
    "tabela_contingencia_perc = pd.crosstab(df['Period'], df['Status'], normalize='index') * 100\n",
    "# Arredondando para 2 dígitos após a vírgula\n",
    "tabela_contingencia_perc = tabela_contingencia_perc.round(2)\n",
    "print(tabela_contingencia_perc)"
   ]
  },
  {
   "cell_type": "code",
   "execution_count": null,
   "metadata": {},
   "outputs": [],
   "source": [
    "# Atrasos independem se está no pico ou fora de pico "
   ]
  },
  {
   "cell_type": "code",
   "execution_count": null,
   "metadata": {},
   "outputs": [],
   "source": []
  },
  {
   "cell_type": "code",
   "execution_count": null,
   "metadata": {},
   "outputs": [],
   "source": []
  },
  {
   "cell_type": "markdown",
   "metadata": {},
   "source": [
    "## 7 - Pré-Processamento de Dados Para Construção de Modelos de Machine Learning"
   ]
  },
  {
   "cell_type": "code",
   "execution_count": null,
   "metadata": {},
   "outputs": [],
   "source": [
    "df.shape"
   ]
  },
  {
   "cell_type": "code",
   "execution_count": null,
   "metadata": {},
   "outputs": [],
   "source": [
    "# Verificando valores ausentes\n",
    "numero_ausentes = df.isnull().sum()\n",
    "print('A quantidade de valores ausentes em cada coluna é:\\n', numero_ausentes)"
   ]
  },
  {
   "cell_type": "code",
   "execution_count": null,
   "metadata": {},
   "outputs": [],
   "source": [
    "# Excluindo valores ausentes apenas nas colunas 'Period' e 'Status'\n",
    "df_1 = df.dropna(subset=['Minutes_Late'])"
   ]
  },
  {
   "cell_type": "code",
   "execution_count": null,
   "metadata": {},
   "outputs": [],
   "source": [
    "df_1.isnull().sum()"
   ]
  },
  {
   "cell_type": "code",
   "execution_count": null,
   "metadata": {},
   "outputs": [],
   "source": [
    "# Verifica registros duplicados (remove uma das duplicatas)\n",
    "numero_duplicados = df.duplicated().sum()\n",
    "print('A quantidade de valores duplicados é: ', numero_duplicados)"
   ]
  },
  {
   "cell_type": "code",
   "execution_count": null,
   "metadata": {},
   "outputs": [],
   "source": [
    "#Tratamento de outliers"
   ]
  },
  {
   "cell_type": "code",
   "execution_count": null,
   "metadata": {},
   "outputs": [],
   "source": [
    "# Boxplot\n",
    "sns.boxplot(df.Pregnancies)"
   ]
  },
  {
   "cell_type": "code",
   "execution_count": null,
   "metadata": {},
   "outputs": [],
   "source": [
    "# Boxplot\n",
    "sns.boxplot(df.Glucose)"
   ]
  },
  {
   "cell_type": "code",
   "execution_count": null,
   "metadata": {},
   "outputs": [],
   "source": [
    "# Boxplot\n",
    "sns.boxplot(df.BloodPressure )"
   ]
  },
  {
   "cell_type": "code",
   "execution_count": null,
   "metadata": {},
   "outputs": [],
   "source": [
    "# Boxplot\n",
    "sns.boxplot(df.SkinThickness)"
   ]
  },
  {
   "cell_type": "code",
   "execution_count": null,
   "metadata": {},
   "outputs": [],
   "source": [
    "# Boxplot\n",
    "sns.boxplot(df.Insulin )"
   ]
  },
  {
   "cell_type": "code",
   "execution_count": null,
   "metadata": {},
   "outputs": [],
   "source": [
    "# Boxplot\n",
    "sns.boxplot(df.BMI  )"
   ]
  },
  {
   "cell_type": "code",
   "execution_count": null,
   "metadata": {},
   "outputs": [],
   "source": [
    "# Boxplot\n",
    "sns.boxplot(df.DiabetesPedigreeFunction)"
   ]
  },
  {
   "cell_type": "code",
   "execution_count": null,
   "metadata": {},
   "outputs": [],
   "source": [
    "# Boxplot\n",
    "sns.boxplot(df.Age)"
   ]
  },
  {
   "cell_type": "code",
   "execution_count": null,
   "metadata": {},
   "outputs": [],
   "source": [
    "#outliers - variável Pregnancies\n",
    "# Calcular os quartis\n",
    "Q1 = df['Pregnancies'].quantile(0.25)\n",
    "Q3 = df['Pregnancies'].quantile(0.75)\n",
    "\n",
    "# Calcular o intervalo interquartil (IQR)\n",
    "IQR = Q3 - Q1\n",
    "\n",
    "# Definir limites para identificar outliers\n",
    "limite_inferior = Q1 - 1.5 * IQR\n",
    "limite_superior = Q3 + 1.5 * IQR\n",
    "\n",
    "# Identificar outliers\n",
    "outliers_inferiores = df[df['Pregnancies'] < limite_inferior]\n",
    "outliers_superiores = df[df['Pregnancies'] > limite_superior]\n",
    "\n",
    "# Contar a quantidade de outliers inferiores e superiores\n",
    "quantidade_outliers_inferiores = len(outliers_inferiores)\n",
    "quantidade_outliers_superiores = len(outliers_superiores)\n",
    "\n",
    "print(\"Quantidade de outliers inferiores:\", quantidade_outliers_inferiores)\n",
    "print(\"Quantidade de outliers superiores:\", quantidade_outliers_superiores)\n"
   ]
  },
  {
   "cell_type": "code",
   "execution_count": null,
   "metadata": {},
   "outputs": [],
   "source": [
    "# Decisão: Manter os outliers"
   ]
  },
  {
   "cell_type": "code",
   "execution_count": null,
   "metadata": {},
   "outputs": [],
   "source": [
    "#outliers - variável Glucose\n",
    "# Calcular os quartis\n",
    "Q1 = df['Glucose'].quantile(0.25)\n",
    "Q3 = df['Glucose'].quantile(0.75)\n",
    "\n",
    "# Calcular o intervalo interquartil (IQR)\n",
    "IQR = Q3 - Q1\n",
    "\n",
    "# Definir limites para identificar outliers\n",
    "limite_inferior = Q1 - 1.5 * IQR\n",
    "limite_superior = Q3 + 1.5 * IQR\n",
    "\n",
    "# Identificar outliers\n",
    "outliers_inferiores = df[df['Glucose'] < limite_inferior]\n",
    "outliers_superiores = df[df['Glucose'] > limite_superior]\n",
    "\n",
    "# Contar a quantidade de outliers inferiores e superiores\n",
    "quantidade_outliers_inferiores = len(outliers_inferiores)\n",
    "quantidade_outliers_superiores = len(outliers_superiores)\n",
    "\n",
    "print(\"Quantidade de outliers inferiores:\", quantidade_outliers_inferiores)\n",
    "print(\"Quantidade de outliers superiores:\", quantidade_outliers_superiores)\n"
   ]
  },
  {
   "cell_type": "code",
   "execution_count": null,
   "metadata": {},
   "outputs": [],
   "source": [
    "# Decisão: Manter os outliers"
   ]
  },
  {
   "cell_type": "code",
   "execution_count": null,
   "metadata": {},
   "outputs": [],
   "source": [
    "#outliers - variável BloodPressure\n",
    "# Calcular os quartis\n",
    "Q1 = df['BloodPressure'].quantile(0.25)\n",
    "Q3 = df['BloodPressure'].quantile(0.75)\n",
    "\n",
    "# Calcular o intervalo interquartil (IQR)\n",
    "IQR = Q3 - Q1\n",
    "\n",
    "# Definir limites para identificar outliers\n",
    "limite_inferior = Q1 - 1.5 * IQR\n",
    "limite_superior = Q3 + 1.5 * IQR\n",
    "\n",
    "# Identificar outliers\n",
    "outliers_inferiores = df[df['BloodPressure'] < limite_inferior]\n",
    "outliers_superiores = df[df['BloodPressure'] > limite_superior]\n",
    "\n",
    "# Contar a quantidade de outliers inferiores e superiores\n",
    "quantidade_outliers_inferiores = len(outliers_inferiores)\n",
    "quantidade_outliers_superiores = len(outliers_superiores)\n",
    "\n",
    "print(\"Quantidade de outliers inferiores:\", quantidade_outliers_inferiores)\n",
    "print(\"Quantidade de outliers superiores:\", quantidade_outliers_superiores)\n"
   ]
  },
  {
   "cell_type": "code",
   "execution_count": null,
   "metadata": {},
   "outputs": [],
   "source": [
    "# Decisão: Manter os outliers"
   ]
  },
  {
   "cell_type": "code",
   "execution_count": null,
   "metadata": {},
   "outputs": [],
   "source": [
    "#outliers - variável SkinThickness\n",
    "# Calcular os quartis\n",
    "Q1 = df['SkinThickness'].quantile(0.25)\n",
    "Q3 = df['SkinThickness'].quantile(0.75)\n",
    "\n",
    "# Calcular o intervalo interquartil (IQR)\n",
    "IQR = Q3 - Q1\n",
    "\n",
    "# Definir limites para identificar outliers\n",
    "limite_inferior = Q1 - 1.5 * IQR\n",
    "limite_superior = Q3 + 1.5 * IQR\n",
    "\n",
    "# Identificar outliers\n",
    "outliers_inferiores = df[df['SkinThickness'] < limite_inferior]\n",
    "outliers_superiores = df[df['SkinThickness'] > limite_superior]\n",
    "\n",
    "# Contar a quantidade de outliers inferiores e superiores\n",
    "quantidade_outliers_inferiores = len(outliers_inferiores)\n",
    "quantidade_outliers_superiores = len(outliers_superiores)\n",
    "\n",
    "print(\"Quantidade de outliers inferiores:\", quantidade_outliers_inferiores)\n",
    "print(\"Quantidade de outliers superiores:\", quantidade_outliers_superiores)\n"
   ]
  },
  {
   "cell_type": "code",
   "execution_count": null,
   "metadata": {},
   "outputs": [],
   "source": [
    "# Decisão: Manter o outlier\n",
    "       "
   ]
  },
  {
   "cell_type": "code",
   "execution_count": null,
   "metadata": {},
   "outputs": [],
   "source": [
    "#outliers - variável Insulin\n",
    "# Calcular os quartis\n",
    "Q1 = df['Insulin'].quantile(0.25)\n",
    "Q3 = df['Insulin'].quantile(0.75)\n",
    "\n",
    "# Calcular o intervalo interquartil (IQR)\n",
    "IQR = Q3 - Q1\n",
    "\n",
    "# Definir limites para identificar outliers\n",
    "limite_inferior = Q1 - 1.5 * IQR\n",
    "limite_superior = Q3 + 1.5 * IQR\n",
    "\n",
    "# Identificar outliers\n",
    "outliers_inferiores = df[df['Insulin'] < limite_inferior]\n",
    "outliers_superiores = df[df['Insulin'] > limite_superior]\n",
    "\n",
    "# Contar a quantidade de outliers inferiores e superiores\n",
    "quantidade_outliers_inferiores = len(outliers_inferiores)\n",
    "quantidade_outliers_superiores = len(outliers_superiores)\n",
    "\n",
    "print(\"Quantidade de outliers inferiores:\", quantidade_outliers_inferiores)\n",
    "print(\"Quantidade de outliers superiores:\", quantidade_outliers_superiores)\n"
   ]
  },
  {
   "cell_type": "code",
   "execution_count": null,
   "metadata": {},
   "outputs": [],
   "source": [
    " # Decisão: Manter os outliers"
   ]
  },
  {
   "cell_type": "code",
   "execution_count": null,
   "metadata": {},
   "outputs": [],
   "source": [
    "#outliers - variável BMI\n",
    "# Calcular os quartis\n",
    "Q1 = df['BMI'].quantile(0.25)\n",
    "Q3 = df['BMI'].quantile(0.75)\n",
    "\n",
    "# Calcular o intervalo interquartil (IQR)\n",
    "IQR = Q3 - Q1\n",
    "\n",
    "# Definir limites para identificar outliers\n",
    "limite_inferior = Q1 - 1.5 * IQR\n",
    "limite_superior = Q3 + 1.5 * IQR\n",
    "\n",
    "# Identificar outliers\n",
    "outliers_inferiores = df[df['BMI'] < limite_inferior]\n",
    "outliers_superiores = df[df['BMI'] > limite_superior]\n",
    "\n",
    "# Contar a quantidade de outliers inferiores e superiores\n",
    "quantidade_outliers_inferiores = len(outliers_inferiores)\n",
    "quantidade_outliers_superiores = len(outliers_superiores)\n",
    "\n",
    "print(\"Quantidade de outliers inferiores:\", quantidade_outliers_inferiores)\n",
    "print(\"Quantidade de outliers superiores:\", quantidade_outliers_superiores)\n"
   ]
  },
  {
   "cell_type": "code",
   "execution_count": null,
   "metadata": {},
   "outputs": [],
   "source": [
    "# Decisão: Manter os outliers"
   ]
  },
  {
   "cell_type": "code",
   "execution_count": null,
   "metadata": {},
   "outputs": [],
   "source": [
    "#outliers - variável DiabetesPedigreeFunction\n",
    "# Calcular os quartis\n",
    "Q1 = df['DiabetesPedigreeFunction'].quantile(0.25)\n",
    "Q3 = df['DiabetesPedigreeFunction'].quantile(0.75)\n",
    "\n",
    "# Calcular o intervalo interquartil (IQR)\n",
    "IQR = Q3 - Q1\n",
    "\n",
    "# Definir limites para identificar outliers\n",
    "limite_inferior = Q1 - 1.5 * IQR\n",
    "limite_superior = Q3 + 1.5 * IQR\n",
    "\n",
    "# Identificar outliers\n",
    "outliers_inferiores = df[df['DiabetesPedigreeFunction'] < limite_inferior]\n",
    "outliers_superiores = df[df['DiabetesPedigreeFunction'] > limite_superior]\n",
    "\n",
    "# Contar a quantidade de outliers inferiores e superiores\n",
    "quantidade_outliers_inferiores = len(outliers_inferiores)\n",
    "quantidade_outliers_superiores = len(outliers_superiores)\n",
    "\n",
    "print(\"Quantidade de outliers inferiores:\", quantidade_outliers_inferiores)\n",
    "print(\"Quantidade de outliers superiores:\", quantidade_outliers_superiores)\n"
   ]
  },
  {
   "cell_type": "code",
   "execution_count": null,
   "metadata": {},
   "outputs": [],
   "source": [
    "# Decisão: Manter os outliers"
   ]
  },
  {
   "cell_type": "code",
   "execution_count": null,
   "metadata": {},
   "outputs": [],
   "source": [
    "#outliers - variável Age\n",
    "# Calcular os quartis\n",
    "Q1 = df['Age'].quantile(0.25)\n",
    "Q3 = df['Age'].quantile(0.75)\n",
    "\n",
    "# Calcular o intervalo interquartil (IQR)\n",
    "IQR = Q3 - Q1\n",
    "\n",
    "# Definir limites para identificar outliers\n",
    "limite_inferior = Q1 - 1.5 * IQR\n",
    "limite_superior = Q3 + 1.5 * IQR\n",
    "\n",
    "# Identificar outliers\n",
    "outliers_inferiores = df[df['Age'] < limite_inferior]\n",
    "outliers_superiores = df[df['Age'] > limite_superior]\n",
    "\n",
    "# Contar a quantidade de outliers inferiores e superiores\n",
    "quantidade_outliers_inferiores = len(outliers_inferiores)\n",
    "quantidade_outliers_superiores = len(outliers_superiores)\n",
    "\n",
    "print(\"Quantidade de outliers inferiores:\", quantidade_outliers_inferiores)\n",
    "print(\"Quantidade de outliers superiores:\", quantidade_outliers_superiores)\n"
   ]
  },
  {
   "cell_type": "code",
   "execution_count": null,
   "metadata": {},
   "outputs": [],
   "source": [
    "# Decisão: Manter os outliers"
   ]
  },
  {
   "cell_type": "markdown",
   "metadata": {},
   "source": [
    "### Balanceando os dados de saída"
   ]
  },
  {
   "cell_type": "code",
   "execution_count": null,
   "metadata": {},
   "outputs": [],
   "source": [
    "# Vamos fazer o Under sampling para este balanceamento\n",
    "\n",
    "# Separar features e target\n",
    "X = df.drop('Outcome', axis=1)\n",
    "y = df['Outcome']\n",
    "\n",
    "# Criar o objeto RandomUnderSampler para balancear as classes\n",
    "rus = RandomUnderSampler(random_state=42)\n",
    "\n",
    "# Aplicar o undersampling aos dados\n",
    "X_resampled, y_resampled = rus.fit_resample(X, y)\n",
    "\n",
    "# Converter os dados balanceados de volta para DataFrame\n",
    "df_balanceado = pd.DataFrame(X_resampled, columns=X.columns)\n",
    "df_balanceado['Outcome'] = y_resampled\n",
    "\n",
    "# Visualizar o DataFrame balanceado\n",
    "#print(df_balanceado)\n",
    "\n",
    "# novo shape após balanceamento\n",
    "df_balanceado.shape\n"
   ]
  },
  {
   "cell_type": "code",
   "execution_count": null,
   "metadata": {},
   "outputs": [],
   "source": [
    "# Quantidade de respostas com e sem diabetes balanceada\n",
    "df_balanceado['Outcome'].value_counts()"
   ]
  },
  {
   "cell_type": "markdown",
   "metadata": {},
   "source": [
    "# 8 - Construção, Treinamento e Avaliação do Modelo 1 com Regressão Logística (Benchmark)\n"
   ]
  },
  {
   "cell_type": "code",
   "execution_count": null,
   "metadata": {},
   "outputs": [],
   "source": [
    "# Preparando os dados de treino e teste\n",
    "# X = df.drop(columns='Outcome')\n",
    "# y = df['Outcome']\n",
    "\n",
    "X = df_balanceado.drop(columns='Outcome')\n",
    "y = df_balanceado['Outcome']\n",
    "X_treino, X_teste, y_treino, y_teste = train_test_split(X, y, test_size=0.2, random_state=10)"
   ]
  },
  {
   "cell_type": "markdown",
   "metadata": {},
   "source": [
    "### Padronização"
   ]
  },
  {
   "cell_type": "code",
   "execution_count": null,
   "metadata": {},
   "outputs": [],
   "source": [
    "scaler = StandardScaler()"
   ]
  },
  {
   "cell_type": "code",
   "execution_count": null,
   "metadata": {},
   "outputs": [],
   "source": [
    "scaler.fit(X_treino)"
   ]
  },
  {
   "cell_type": "code",
   "execution_count": null,
   "metadata": {},
   "outputs": [],
   "source": [
    "X_treino = scaler.transform(X_treino)"
   ]
  },
  {
   "cell_type": "code",
   "execution_count": null,
   "metadata": {},
   "outputs": [],
   "source": [
    "X_teste = scaler.transform(X_teste)"
   ]
  },
  {
   "cell_type": "code",
   "execution_count": null,
   "metadata": {},
   "outputs": [],
   "source": [
    "X_treino[:5]"
   ]
  },
  {
   "cell_type": "code",
   "execution_count": null,
   "metadata": {},
   "outputs": [],
   "source": [
    "X_teste[:5]"
   ]
  },
  {
   "cell_type": "markdown",
   "metadata": {},
   "source": [
    "## 8.1 - Modelo de Regressão Logística"
   ]
  },
  {
   "cell_type": "code",
   "execution_count": null,
   "metadata": {},
   "outputs": [],
   "source": [
    "# Cria o modelo\n",
    "modelo_v1 = LogisticRegression()"
   ]
  },
  {
   "cell_type": "code",
   "execution_count": null,
   "metadata": {},
   "outputs": [],
   "source": [
    "# Treinamento\n",
    "modelo_v1.fit(X_treino, y_treino)"
   ]
  },
  {
   "cell_type": "code",
   "execution_count": null,
   "metadata": {},
   "outputs": [],
   "source": [
    "# Avaliação do Modelo\n",
    "\n",
    "Previsao = modelo_v1.predict(X_teste)\n",
    "print('Matriz Confusão: \\n', confusion_matrix(y_teste, Previsao), '\\n')"
   ]
  },
  {
   "cell_type": "code",
   "execution_count": null,
   "metadata": {},
   "outputs": [],
   "source": [
    "# Métricas de Classificação - Relatório de Classificação\n",
    "print('Relatório de Classificação - Regressão Logistica: \\n', classification_report(y_teste, Previsao))"
   ]
  },
  {
   "cell_type": "code",
   "execution_count": null,
   "metadata": {},
   "outputs": [],
   "source": [
    "# Previsão Balanceada\n",
    "print('Score (Treino): ', round(modelo_v1.score(X_treino, y_treino), 2))\n",
    "print('Score (Teste): ', round(modelo_v1.score(X_teste, y_teste), 2))"
   ]
  },
  {
   "cell_type": "code",
   "execution_count": null,
   "metadata": {},
   "outputs": [],
   "source": [
    "# Fazer previsões no conjunto de teste\n",
    "y_pred = modelo_v1.predict(X_teste)"
   ]
  },
  {
   "cell_type": "code",
   "execution_count": null,
   "metadata": {},
   "outputs": [],
   "source": [
    "# Avaliar a precisão do modelo\n",
    "accuracy_v1 = accuracy_score(y_teste, y_pred)\n",
    "print(\"Accuracy:\", accuracy_v1)"
   ]
  },
  {
   "cell_type": "markdown",
   "metadata": {},
   "source": [
    "## 8.2 - Modelo de Random Forest"
   ]
  },
  {
   "cell_type": "code",
   "execution_count": null,
   "metadata": {},
   "outputs": [],
   "source": [
    "# Cria o modelo\n",
    "modelo_v2 = RandomForestClassifier(max_depth=3)"
   ]
  },
  {
   "cell_type": "code",
   "execution_count": null,
   "metadata": {},
   "outputs": [],
   "source": [
    "# Treinamento\n",
    "modelo_v2.fit(X_treino, y_treino)"
   ]
  },
  {
   "cell_type": "code",
   "execution_count": null,
   "metadata": {},
   "outputs": [],
   "source": [
    "# Avaliação do modelo\n",
    "Previsao_forest = modelo_v2.predict(X_teste)\n",
    "print('Relatório de Classificação - Random Forest: \\n', classification_report(y_teste, Previsao_forest))"
   ]
  },
  {
   "cell_type": "code",
   "execution_count": null,
   "metadata": {},
   "outputs": [],
   "source": [
    "# Fazer previsões no conjunto de teste\n",
    "y_pred = modelo_v2.predict(X_teste)"
   ]
  },
  {
   "cell_type": "code",
   "execution_count": null,
   "metadata": {},
   "outputs": [],
   "source": [
    "# Avaliar a precisão do modelo\n",
    "accuracy_v2 = accuracy_score(y_teste, y_pred)\n",
    "print(\"Accuracy:\", accuracy_v2)"
   ]
  },
  {
   "cell_type": "markdown",
   "metadata": {},
   "source": [
    "## 8.3 - Modelo de SVM"
   ]
  },
  {
   "cell_type": "code",
   "execution_count": null,
   "metadata": {},
   "outputs": [],
   "source": [
    "# Cria o modelo\n",
    "modelo_v3 = SVC(kernel='linear')"
   ]
  },
  {
   "cell_type": "code",
   "execution_count": null,
   "metadata": {},
   "outputs": [],
   "source": [
    "# Treinamento\n",
    "modelo_v3.fit(X_treino, y_treino)"
   ]
  },
  {
   "cell_type": "code",
   "execution_count": null,
   "metadata": {},
   "outputs": [],
   "source": [
    "# Avaliação do modelo\n",
    "Previsao_svm = modelo_v3.predict(X_teste)\n",
    "print('Relatório de Classificação - SVM: \\n', classification_report(y_teste, Previsao_svm))"
   ]
  },
  {
   "cell_type": "code",
   "execution_count": null,
   "metadata": {},
   "outputs": [],
   "source": [
    "# Fazer previsões no conjunto de teste\n",
    "y_pred = modelo_v3.predict(X_teste)"
   ]
  },
  {
   "cell_type": "code",
   "execution_count": null,
   "metadata": {},
   "outputs": [],
   "source": [
    "# Avaliar a precisão do modelo\n",
    "accuracy_v3 = accuracy_score(y_teste, y_pred)\n",
    "print(\"Accuracy:\", accuracy_v3)"
   ]
  },
  {
   "cell_type": "markdown",
   "metadata": {},
   "source": [
    "## 8.4 - Modelo de Rede Neural"
   ]
  },
  {
   "cell_type": "code",
   "execution_count": null,
   "metadata": {},
   "outputs": [],
   "source": [
    "# Criar o modelo\n",
    "modelo_v4 = MLPClassifier(hidden_layer_sizes=(100, 50), max_iter=500, activation='relu', solver='adam', random_state=42)"
   ]
  },
  {
   "cell_type": "code",
   "execution_count": null,
   "metadata": {},
   "outputs": [],
   "source": [
    "# Treinamento\n",
    "modelo_v4.fit(X_treino, y_treino)"
   ]
  },
  {
   "cell_type": "code",
   "execution_count": null,
   "metadata": {},
   "outputs": [],
   "source": [
    "# Avaliação do modelo\n",
    "Previsao_rn = modelo_v4.predict(X_teste)\n",
    "print('Relatório de Classificação - Rede Neural: \\n', classification_report(y_teste, Previsao_rn))"
   ]
  },
  {
   "cell_type": "code",
   "execution_count": null,
   "metadata": {},
   "outputs": [],
   "source": [
    "# Treinamento\n",
    "modelo_v4.fit(X_treino, y_treino)"
   ]
  },
  {
   "cell_type": "code",
   "execution_count": null,
   "metadata": {},
   "outputs": [],
   "source": [
    "# Fazer previsões no conjunto de teste\n",
    "y_pred = modelo_v4.predict(X_teste)"
   ]
  },
  {
   "cell_type": "code",
   "execution_count": null,
   "metadata": {},
   "outputs": [],
   "source": [
    "# Avaliar a precisão do modelo\n",
    "accuracy_v4 = accuracy_score(y_teste, y_pred)\n",
    "print(\"Accuracy:\", accuracy_v4)"
   ]
  },
  {
   "cell_type": "markdown",
   "metadata": {},
   "source": [
    "## 8.5 - Modelo de XGBOOST"
   ]
  },
  {
   "cell_type": "code",
   "execution_count": null,
   "metadata": {},
   "outputs": [],
   "source": [
    "# Criar o modelo\n",
    "modelo_v5 = XGBClassifier(learning_rate=0.01, n_estimators=1000, max_depth=3, random_state=42)"
   ]
  },
  {
   "cell_type": "code",
   "execution_count": null,
   "metadata": {},
   "outputs": [],
   "source": [
    "# Treinamento\n",
    "modelo_v5.fit(X_treino, y_treino)"
   ]
  },
  {
   "cell_type": "code",
   "execution_count": null,
   "metadata": {},
   "outputs": [],
   "source": [
    "# Fazer previsões no conjunto de teste\n",
    "y_pred = modelo_v5.predict(X_teste)"
   ]
  },
  {
   "cell_type": "code",
   "execution_count": null,
   "metadata": {},
   "outputs": [],
   "source": [
    "# Avaliação do modelo\n",
    "Previsao_xgboost = modelo_v5.predict(X_teste)\n",
    "print('Relatório de Classificação - XGBOOST: \\n', classification_report(y_teste, Previsao_xgboost))"
   ]
  },
  {
   "cell_type": "code",
   "execution_count": null,
   "metadata": {},
   "outputs": [],
   "source": [
    "# Avaliar a precisão do modelo\n",
    "accuracy_v5 = accuracy_score(y_teste, y_pred)\n",
    "print(\"Accuracy:\", accuracy_v5)"
   ]
  },
  {
   "cell_type": "markdown",
   "metadata": {},
   "source": [
    "## 8.6 - Modelo de LIGHTGBM"
   ]
  },
  {
   "cell_type": "code",
   "execution_count": null,
   "metadata": {},
   "outputs": [],
   "source": [
    "# Criar o modelo\n",
    "modelo_v6 = LGBMClassifier(learning_rate=0.01, n_estimators=1000, max_depth=3, random_state=42)"
   ]
  },
  {
   "cell_type": "code",
   "execution_count": null,
   "metadata": {},
   "outputs": [],
   "source": [
    "# Treinamento\n",
    "modelo_v6.fit(X_treino, y_treino)"
   ]
  },
  {
   "cell_type": "code",
   "execution_count": null,
   "metadata": {},
   "outputs": [],
   "source": [
    "# Fazer previsões no conjunto de teste\n",
    "y_pred = modelo_v6.predict(X_teste)"
   ]
  },
  {
   "cell_type": "code",
   "execution_count": null,
   "metadata": {},
   "outputs": [],
   "source": [
    "# Avaliação do modelo\n",
    "Previsao_lightGBM = modelo_v6.predict(X_teste)\n",
    "print('Relatório de Classificação - XGBOOST: \\n', classification_report(y_teste, Previsao_lightGBM))"
   ]
  },
  {
   "cell_type": "code",
   "execution_count": null,
   "metadata": {},
   "outputs": [],
   "source": [
    "# Avaliar a precisão do modelo\n",
    "accuracy_v6 = accuracy_score(y_teste, y_pred)\n",
    "print(\"Accuracy:\", accuracy_v6)"
   ]
  },
  {
   "cell_type": "code",
   "execution_count": null,
   "metadata": {},
   "outputs": [],
   "source": [
    "print('A acurácia do modelo_v1 (Regressão Logística) é:\\n', accuracy_v1)\n",
    "print('A acurácia do modelo_v2 (Random Forest) é:\\n', accuracy_v2)\n",
    "print('A acurácia do modelo_v3 (SVM) é:\\n', accuracy_v3)\n",
    "print('A acurácia do modelo_v4 (Rede Neural) é:\\n', accuracy_v4)\n",
    "print('A acurácia do modelo_v5 (XGBOOST) é:\\n', accuracy_v5)\n",
    "print('A acurácia do modelo_v5 (LIGHTBGM) é:\\n', accuracy_v6)"
   ]
  },
  {
   "cell_type": "markdown",
   "metadata": {},
   "source": [
    "## Seleção do Modelo"
   ]
  },
  {
   "cell_type": "markdown",
   "metadata": {},
   "source": [
    "#### Os melhores modelos são v1 e v3. Neste caso, devemos procurar o modelo mais simples. Então seguiremos com o modelo_v1 Regressão Logística"
   ]
  },
  {
   "cell_type": "markdown",
   "metadata": {},
   "source": [
    "## 8.6 - Otimização do modelo"
   ]
  },
  {
   "cell_type": "markdown",
   "metadata": {},
   "source": [
    "### 8.6.1 - Otimização somente com mudança de hiperparâmetro"
   ]
  },
  {
   "cell_type": "code",
   "execution_count": null,
   "metadata": {},
   "outputs": [],
   "source": [
    "#obtem variáveis preditoras \n",
    "X = df_balanceado.drop(columns='Outcome')\n",
    "y = df_balanceado['Outcome']\n",
    "\n",
    "# Dividir os dados em conjuntos de treinamento e teste\n",
    "X_treino, X_teste, y_treino, y_teste = train_test_split(X, y, test_size=0.2, random_state=42)\n",
    "\n",
    "# Inicializar o classificador (Random Forest)\n",
    "clf = RandomForestClassifier()\n",
    "\n",
    "# Inicializar o seletor de características (RFE) com o classificador e o número de características desejadas\n",
    "rfe = RFE(estimator=clf, n_features_to_select=3, step=1)\n",
    "\n",
    "# Ajustar o seletor de características aos dados de treinamento\n",
    "rfe.fit(X_treino, y_treino)\n",
    "\n",
    "# Obter as características selecionadas\n",
    "selected_features = rfe.support_\n",
    "\n",
    "# Imprimir as características selecionadas\n",
    "print(\"Características selecionadas:\")\n",
    "for i in range(len(selected_features)):\n",
    "    if selected_features[i]:\n",
    "        print(f\"Feature {i}: {X.columns[i]}\")"
   ]
  },
  {
   "cell_type": "code",
   "execution_count": null,
   "metadata": {},
   "outputs": [],
   "source": [
    "#vamos novamente treinar só com estas variáveis\n",
    "df.columns"
   ]
  },
  {
   "cell_type": "code",
   "execution_count": null,
   "metadata": {},
   "outputs": [],
   "source": [
    "#X = df_balanceado.drop(columns=['Pregnancies','BloodPressure', 'SkinThickness', 'Insulin', 'Outcome'])\n",
    "X = df_balanceado[['Glucose', 'BMI', 'DiabetesPedigreeFunction']]\n",
    "y = df_balanceado['Outcome']\n",
    "X_treino, X_teste, y_treino, y_teste = train_test_split(X, y, test_size=0.2, random_state=10)"
   ]
  },
  {
   "cell_type": "code",
   "execution_count": null,
   "metadata": {},
   "outputs": [],
   "source": [
    "# Padronização\n",
    "scaler = StandardScaler()\n",
    "scaler.fit(X_treino)\n",
    "X_treino = scaler.transform(X_treino)\n",
    "X_teste = scaler.transform(X_teste)"
   ]
  },
  {
   "cell_type": "code",
   "execution_count": null,
   "metadata": {},
   "outputs": [],
   "source": [
    "# Cria o modelo\n",
    "modelo_v7 = LogisticRegression()\n",
    "# Treinamento\n",
    "modelo_v7.fit(X_treino, y_treino)"
   ]
  },
  {
   "cell_type": "code",
   "execution_count": null,
   "metadata": {},
   "outputs": [],
   "source": [
    "# Avaliação do Modelo\n",
    "Previsao = modelo_v7.predict(X_teste)\n",
    "print('Matriz Confusão: \\n', confusion_matrix(y_teste, Previsao), '\\n')"
   ]
  },
  {
   "cell_type": "code",
   "execution_count": null,
   "metadata": {},
   "outputs": [],
   "source": [
    "# Métricas de Classificação - Relatório de Classificação\n",
    "print('Relatório de Classificação - Regressão Logistica: \\n', classification_report(y_teste, Previsao))"
   ]
  },
  {
   "cell_type": "code",
   "execution_count": null,
   "metadata": {},
   "outputs": [],
   "source": [
    "# Fazer previsões no conjunto de teste\n",
    "y_pred = modelo_v7.predict(X_teste)\n",
    "# Avaliar a precisão do modelo\n",
    "accuracy_v7 = accuracy_score(y_teste, y_pred)\n",
    "print(\"Accuracy:\", accuracy_v7)"
   ]
  },
  {
   "cell_type": "code",
   "execution_count": null,
   "metadata": {},
   "outputs": [],
   "source": [
    "# tive uma acurácia um pouco menor com um modelo com menos variáveis preditoras, ou seja, mais simples"
   ]
  },
  {
   "cell_type": "code",
   "execution_count": null,
   "metadata": {},
   "outputs": [],
   "source": [
    "# Define lista de hiperparâmetros\n",
    "tuned_params_v8 = {'C': [0.0001, 0.001, 0.01, 0.1, 1, 10, 100, 1000, 10000], \n",
    "                   'penalty': ['l1', 'l2']}"
   ]
  },
  {
   "cell_type": "code",
   "execution_count": null,
   "metadata": {},
   "outputs": [],
   "source": [
    "# Criaremos o modelo com GridSearch \n",
    "# Vários modelos serão criados com diferentes combinações de hiperparâmetros\n",
    "modelo_v8 = GridSearchCV(LogisticRegression(), \n",
    "                         tuned_params_v8, \n",
    "                         scoring = 'accuracy', \n",
    "                         n_jobs = -1)"
   ]
  },
  {
   "cell_type": "code",
   "execution_count": null,
   "metadata": {},
   "outputs": [],
   "source": [
    "# Treinamento do modelo\n",
    "modelo_v8.fit(X_treino, y_treino)"
   ]
  },
  {
   "cell_type": "code",
   "execution_count": null,
   "metadata": {},
   "outputs": [],
   "source": [
    "# Selecionamos o melhor modelo\n",
    "modelo_v8.best_estimator_"
   ]
  },
  {
   "cell_type": "code",
   "execution_count": null,
   "metadata": {},
   "outputs": [],
   "source": [
    "# Previsões com dados de teste\n",
    "y_pred_v8 = modelo_v8.predict(X_teste)"
   ]
  },
  {
   "cell_type": "code",
   "execution_count": null,
   "metadata": {},
   "outputs": [],
   "source": [
    "# Mostra as 10 primeiras previsões\n",
    "y_pred_v8[:10]"
   ]
  },
  {
   "cell_type": "code",
   "execution_count": null,
   "metadata": {},
   "outputs": [],
   "source": [
    "# Obtemos as previsões no formato de probabilidade para cada classe\n",
    "y_pred_proba_v8 = modelo_v8.predict_proba(X_teste)"
   ]
  },
  {
   "cell_type": "code",
   "execution_count": null,
   "metadata": {},
   "outputs": [],
   "source": [
    "# Mostra as 10 primeiras previsões\n",
    "y_pred_proba_v8[:10]"
   ]
  },
  {
   "cell_type": "code",
   "execution_count": null,
   "metadata": {},
   "outputs": [],
   "source": [
    "# Obtemos as previsões no formato de probabilidade filtrando para a classe positiva\n",
    "# Precisamos disso para calcula a Curva ROC\n",
    "y_pred_proba_v8 = modelo_v8.predict_proba(X_teste)[:,1]"
   ]
  },
  {
   "cell_type": "code",
   "execution_count": null,
   "metadata": {},
   "outputs": [],
   "source": [
    "# Mostra as 10 primeiras previsões\n",
    "y_pred_proba_v8[:10]"
   ]
  },
  {
   "cell_type": "code",
   "execution_count": null,
   "metadata": {},
   "outputs": [],
   "source": [
    "# Matriz de confusão\n",
    "confusion_matrix(y_teste, y_pred_v8)"
   ]
  },
  {
   "cell_type": "code",
   "execution_count": null,
   "metadata": {},
   "outputs": [],
   "source": [
    "# Extraindo cada valor da CM\n",
    "tn, fp, fn, tp = confusion_matrix(y_teste, y_pred_v8).ravel()"
   ]
  },
  {
   "cell_type": "code",
   "execution_count": null,
   "metadata": {},
   "outputs": [],
   "source": [
    "# Calcula a métrica global AUC (Area Under The Curve) com dados reais e previsões em teste\n",
    "roc_auc_v8 = roc_auc_score(y_teste, y_pred_v8)\n",
    "print(roc_auc_v8)"
   ]
  },
  {
   "cell_type": "code",
   "execution_count": null,
   "metadata": {},
   "outputs": [],
   "source": [
    "# Calcula a curva ROC com dados e previsões em teste\n",
    "fpr_v8, tpr_v8, thresholds = roc_curve(y_teste, y_pred_proba_v8)"
   ]
  },
  {
   "cell_type": "code",
   "execution_count": null,
   "metadata": {},
   "outputs": [],
   "source": [
    "# AUC em teste\n",
    "auc_v8 = auc(fpr_v8, tpr_v8)\n",
    "print(auc_v8)"
   ]
  },
  {
   "cell_type": "code",
   "execution_count": null,
   "metadata": {},
   "outputs": [],
   "source": [
    "# Acurácia em teste\n",
    "acuracia_v8 = accuracy_score(y_teste, y_pred_v8)\n",
    "print(acuracia_v8)"
   ]
  },
  {
   "cell_type": "markdown",
   "metadata": {},
   "source": [
    "### 8.6.2 - Otimização excluindo outliers e buscando melhor hiperparâmetro"
   ]
  },
  {
   "cell_type": "code",
   "execution_count": null,
   "metadata": {},
   "outputs": [],
   "source": [
    "# Remover outliers - variável Glucose\n",
    "Q1 = df['Glucose'].quantile(0.25)\n",
    "Q3 = df['Glucose'].quantile(0.75)\n",
    "IQR = Q3 - Q1\n",
    "limite_inferior = Q1 - 1.5 * IQR\n",
    "limite_superior = Q3 + 1.5 * IQR\n",
    "df = df[(df['Glucose'] >= limite_inferior) & (df['Glucose'] <= limite_superior)]"
   ]
  },
  {
   "cell_type": "code",
   "execution_count": null,
   "metadata": {},
   "outputs": [],
   "source": [
    "# Remover outliers - variável BMI\n",
    "Q1 = df['BMI'].quantile(0.25)\n",
    "Q3 = df['BMI'].quantile(0.75)\n",
    "IQR = Q3 - Q1\n",
    "limite_inferior = Q1 - 1.5 * IQR\n",
    "limite_superior = Q3 + 1.5 * IQR\n",
    "df = df[(df['BMI'] >= limite_inferior) & (df['BMI'] <= limite_superior)]"
   ]
  },
  {
   "cell_type": "code",
   "execution_count": null,
   "metadata": {},
   "outputs": [],
   "source": [
    "# Remover outliers - variável DiabetesPedigreeFunction\n",
    "Q1 = df['DiabetesPedigreeFunction'].quantile(0.25)\n",
    "Q3 = df['DiabetesPedigreeFunction'].quantile(0.75)\n",
    "IQR = Q3 - Q1\n",
    "limite_inferior = Q1 - 1.5 * IQR\n",
    "limite_superior = Q3 + 1.5 * IQR\n",
    "df_sem_outliers = df[(df['DiabetesPedigreeFunction'] >= limite_inferior) & (df['DiabetesPedigreeFunction'] <= limite_superior)]"
   ]
  },
  {
   "cell_type": "code",
   "execution_count": null,
   "metadata": {},
   "outputs": [],
   "source": [
    "df_sem_outliers.shape"
   ]
  },
  {
   "cell_type": "code",
   "execution_count": null,
   "metadata": {},
   "outputs": [],
   "source": [
    "df_sem_outliers['Outcome'].value_counts()"
   ]
  },
  {
   "cell_type": "code",
   "execution_count": null,
   "metadata": {},
   "outputs": [],
   "source": [
    "# Vamos fazer o Under sampling para este balanceamento\n",
    "\n",
    "# Separar features e target\n",
    "X = df_sem_outliers.drop('Outcome', axis=1)\n",
    "y = df_sem_outliers['Outcome']\n",
    "\n",
    "# Criar o objeto RandomUnderSampler para balancear as classes\n",
    "rus = RandomUnderSampler(random_state=42)\n",
    "\n",
    "# Aplicar o undersampling aos dados\n",
    "X_resampled, y_resampled = rus.fit_resample(X, y)\n",
    "\n",
    "# Converter os dados balanceados de volta para DataFrame\n",
    "df_balanceado = pd.DataFrame(X_resampled, columns=X.columns)\n",
    "df_balanceado['Outcome'] = y_resampled\n",
    "\n",
    "# Visualizar o DataFrame balanceado\n",
    "#print(df_balanceado)\n",
    "\n",
    "# novo shape após balanceamento\n",
    "df_balanceado.shape"
   ]
  },
  {
   "cell_type": "code",
   "execution_count": null,
   "metadata": {},
   "outputs": [],
   "source": [
    "#X = df_balanceado.drop(columns=['Pregnancies','BloodPressure', 'SkinThickness', 'Insulin', 'Outcome'])\n",
    "X = df_balanceado[['Glucose', 'BMI', 'DiabetesPedigreeFunction']]\n",
    "y = df_balanceado['Outcome']\n",
    "X_treino, X_teste, y_treino, y_teste = train_test_split(X, y, test_size=0.2, random_state=10)"
   ]
  },
  {
   "cell_type": "code",
   "execution_count": null,
   "metadata": {},
   "outputs": [],
   "source": [
    "# Padronização\n",
    "scaler = StandardScaler()\n",
    "scaler.fit(X_treino)\n",
    "X_treino = scaler.transform(X_treino)\n",
    "X_teste = scaler.transform(X_teste)"
   ]
  },
  {
   "cell_type": "code",
   "execution_count": null,
   "metadata": {},
   "outputs": [],
   "source": [
    "# Define lista de hiperparâmetros\n",
    "tuned_params_v9 = {'C': [0.0001, 0.001, 0.01, 0.1, 1, 10, 100, 1000, 10000], \n",
    "                   'penalty': ['l1', 'l2']}"
   ]
  },
  {
   "cell_type": "code",
   "execution_count": null,
   "metadata": {},
   "outputs": [],
   "source": [
    "# Criaremos o modelo com GridSearch \n",
    "# Vários modelos serão criados com diferentes combinações de hiperparâmetros\n",
    "modelo_v9 = GridSearchCV(LogisticRegression(), \n",
    "                         tuned_params_v9, \n",
    "                         scoring = 'accuracy', \n",
    "                         n_jobs = -1)"
   ]
  },
  {
   "cell_type": "code",
   "execution_count": null,
   "metadata": {},
   "outputs": [],
   "source": [
    "# Treinamento do modelo\n",
    "modelo_v9.fit(X_treino, y_treino)"
   ]
  },
  {
   "cell_type": "code",
   "execution_count": null,
   "metadata": {},
   "outputs": [],
   "source": [
    "# Selecionamos o melhor modelo\n",
    "modelo_v9.best_estimator_\n",
    "# Previsões com dados de teste\n",
    "y_pred_v9 = modelo_v9.predict(X_teste)\n",
    "# Obtemos as previsões no formato de probabilidade filtrando para a classe positiva\n",
    "# Precisamos disso para calcula a Curva ROC\n",
    "y_pred_proba_v9 = modelo_v9.predict_proba(X_teste)[:,1]\n",
    "# Matriz de confusão\n",
    "confusion_matrix(y_teste, y_pred_v9)\n",
    "# Extraindo cada valor da CM\n",
    "tn, fp, fn, tp = confusion_matrix(y_teste, y_pred_v9).ravel()"
   ]
  },
  {
   "cell_type": "code",
   "execution_count": null,
   "metadata": {},
   "outputs": [],
   "source": [
    "# Calcula a métrica global AUC (Area Under The Curve) com dados reais e previsões em teste\n",
    "roc_auc_v9 = roc_auc_score(y_teste, y_pred_v9)\n",
    "print(roc_auc_v9)"
   ]
  },
  {
   "cell_type": "code",
   "execution_count": null,
   "metadata": {},
   "outputs": [],
   "source": [
    "# Calcula a curva ROC com dados e previsões em teste\n",
    "fpr_v9, tpr_v9, thresholds = roc_curve(y_teste, y_pred_proba_v9)"
   ]
  },
  {
   "cell_type": "code",
   "execution_count": null,
   "metadata": {},
   "outputs": [],
   "source": [
    "# AUC em teste\n",
    "auc_v9 = auc(fpr_v9, tpr_v9)\n",
    "print(auc_v9)"
   ]
  },
  {
   "cell_type": "code",
   "execution_count": null,
   "metadata": {},
   "outputs": [],
   "source": [
    "# Acurácia em teste\n",
    "acuracia_v9 = accuracy_score(y_teste, y_pred_v9)\n",
    "print(acuracia_v9)"
   ]
  },
  {
   "cell_type": "markdown",
   "metadata": {},
   "source": [
    "## Conclusão"
   ]
  },
  {
   "cell_type": "markdown",
   "metadata": {},
   "source": [
    "## O modelo_V8 foi o melhor utilizando somente as variáveis 'Glucose', 'BMI', 'DiabetesPedigreeFunction' como preditoras com uma acurácia de 74% que é aceitável diante da pouca quantidade de dados."
   ]
  },
  {
   "cell_type": "markdown",
   "metadata": {},
   "source": [
    "# Fim"
   ]
  }
 ],
 "metadata": {
  "kernelspec": {
   "display_name": "Python 3 (ipykernel)",
   "language": "python",
   "name": "python3"
  },
  "language_info": {
   "codemirror_mode": {
    "name": "ipython",
    "version": 3
   },
   "file_extension": ".py",
   "mimetype": "text/x-python",
   "name": "python",
   "nbconvert_exporter": "python",
   "pygments_lexer": "ipython3",
   "version": "3.12.4"
  }
 },
 "nbformat": 4,
 "nbformat_minor": 4
}
