{
 "cells": [
  {
   "cell_type": "markdown",
   "metadata": {},
   "source": [
    "# <font color='blue'>Problema de Análise da Eficiência do Transporte Ferroviário e Identificação de Oportunidades de Melhoria</font>"
   ]
  },
  {
   "cell_type": "markdown",
   "metadata": {},
   "source": [
    "# 1 - Definindo o problema de negócio"
   ]
  },
  {
   "cell_type": "markdown",
   "metadata": {},
   "source": [
    "### Analisar a eficiência do transporte ferroviário, identificar padrões de transporte, e sugerir oportunidades de melhoria nas operações ferroviárias.\n"
   ]
  },
  {
   "cell_type": "markdown",
   "metadata": {},
   "source": [
    "# 2 - Decisões"
   ]
  },
  {
   "cell_type": "markdown",
   "metadata": {},
   "source": [
    "### O problema de negócio já informa que é requerido um modelo de Machine Learning de xxxx. No dataset, temos a coluna yyy que é a variável que queremos prever. Desta forma, iremos utilizar aprendizagem supervisionada."
   ]
  },
  {
   "cell_type": "markdown",
   "metadata": {},
   "source": [
    "# 3 - Versão python e import dos pacotes utilizados"
   ]
  },
  {
   "cell_type": "code",
   "execution_count": null,
   "metadata": {},
   "outputs": [],
   "source": [
    "# Versão da Linguagem Python\n",
    "from platform import python_version\n",
    "print('Versão da Linguagem Python Usada Neste Jupyter Notebook:', python_version())"
   ]
  },
  {
   "cell_type": "code",
   "execution_count": null,
   "metadata": {},
   "outputs": [],
   "source": [
    "# Para atualizar um pacote, execute o comando abaixo no terminal ou prompt de comando:\n",
    "# pip install -U nome_pacote\n",
    "\n",
    "# Para instalar a versão exata de um pacote, execute o comando abaixo no terminal ou prompt de comando:\n",
    "#!pip install nome_pacote==versão_desejada\n",
    "\n",
    "# Depois de instalar ou atualizar o pacote, reinicie o jupyter notebook.\n",
    "\n",
    "# Instala o pacote watermark. \n",
    "# Esse pacote é usado para gravar as versões de outros pacotes usados neste jupyter notebook.\n",
    "#!pip install -q -U watermark"
   ]
  },
  {
   "cell_type": "code",
   "execution_count": 24,
   "metadata": {},
   "outputs": [],
   "source": [
    "# Imports\n",
    "import numpy as np\n",
    "import pandas as pd\n",
    "import matplotlib.pyplot as plt\n",
    "from matplotlib import pylab\n",
    "import seaborn as sns\n",
    "import sklearn\n",
    "#import chardet\n",
    "##import glob\n",
    "import os\n",
    "#import subprocess\n",
    "#import statsmodels.api as sm\n",
    "from sklearn.cluster import MeanShift, estimate_bandwidth\n",
    "from sklearn.preprocessing import MinMaxScaler\n",
    "from sklearn.preprocessing import OneHotEncoder, StandardScaler\n",
    "from sklearn.preprocessing import LabelEncoder\n",
    "from sklearn.compose import ColumnTransformer\n",
    "#from IPython.display import FileLink, IFrame, Image, display\n",
    "from sklearn.model_selection import cross_val_score\n",
    "from sklearn.model_selection import GridSearchCV\n",
    "from sklearn.model_selection import train_test_split\n",
    "from sklearn.feature_selection import RFE\n",
    "from sklearn.cluster import KMeans, DBSCAN, MeanShift, estimate_bandwidth\n",
    "from sklearn.decomposition import TruncatedSVD\n",
    "from sklearn.metrics import silhouette_score\n",
    "from itertools import cycle\n",
    "from sklearn.linear_model import LogisticRegression\n",
    "from sklearn.ensemble import RandomForestClassifier\n",
    "from sklearn.svm import SVC\n",
    "from sklearn.neural_network import MLPClassifier\n",
    "from xgboost import XGBClassifier\n",
    "from lightgbm import LGBMClassifier\n",
    "from sklearn.metrics import classification_report\n",
    "from sklearn.metrics import roc_curve, auc, roc_auc_score, confusion_matrix\n",
    "from sklearn.metrics import accuracy_score\n",
    "from datetime import datetime\n",
    "from dateutil.parser import parse\n",
    "%matplotlib inline \n",
    "import warnings\n",
    "warnings.filterwarnings(\"ignore\", category=FutureWarning)"
   ]
  },
  {
   "cell_type": "code",
   "execution_count": 2,
   "metadata": {},
   "outputs": [
    {
     "name": "stdout",
     "output_type": "stream",
     "text": [
      "Author: Danilo Temerloglou de Abreu\n",
      "\n",
      "sklearn   : 1.4.2\n",
      "numpy     : 1.26.4\n",
      "seaborn   : 0.13.2\n",
      "pandas    : 2.2.2\n",
      "matplotlib: 3.8.4\n",
      "\n"
     ]
    }
   ],
   "source": [
    "# Versões dos pacotes usados neste jupyter notebook\n",
    "%reload_ext watermark\n",
    "%watermark -a \"Danilo Temerloglou de Abreu\" --iversions"
   ]
  },
  {
   "cell_type": "markdown",
   "metadata": {},
   "source": [
    "# 4 - Dicionário de dados"
   ]
  },
  {
   "cell_type": "code",
   "execution_count": null,
   "metadata": {},
   "outputs": [],
   "source": [
    "#mes_ano - Data MM_AA Ano mês de referência.\n",
    "#ferrovia - Concessionária responsável pelo fluxo.\n",
    "#mercadoria_antt - Mercadoria transportada.\n",
    "#estacao_origem - Sigla da estação de Origem.\n",
    "#uf_origem - Unidade Federativa de Origem.\n",
    "#estacao_destino - Sigla da estação de Destino.\n",
    "#uf_destino - Unidade Federativa de Destino.\n",
    "#tu - Toneladas.\n",
    "#tku - Tonelada-Km Útil "
   ]
  },
  {
   "cell_type": "markdown",
   "metadata": {},
   "source": [
    "# 5 - Carregando o Conjunto de dados"
   ]
  },
  {
   "cell_type": "code",
   "execution_count": 3,
   "metadata": {},
   "outputs": [
    {
     "name": "stdout",
     "output_type": "stream",
     "text": [
      "DataFrame carregado\n"
     ]
    }
   ],
   "source": [
    "# Caminho para o arquivo pickle\n",
    "caminho_pickle = 'C:/Users/Danilo/PROJETOS/PROJETO11_FERROVIA_CARGA/data/final/df_final.pkl'\n",
    "\n",
    "# Carregar o DataFrame a partir do arquivo pickle\n",
    "df = pd.read_pickle(caminho_pickle)\n",
    "\n",
    "print(\"DataFrame carregado\")"
   ]
  },
  {
   "cell_type": "markdown",
   "metadata": {},
   "source": [
    "# 6 - Machine learning"
   ]
  },
  {
   "cell_type": "markdown",
   "metadata": {},
   "source": [
    "### 6.1 - Pré processamento dos dados"
   ]
  },
  {
   "cell_type": "code",
   "execution_count": 4,
   "metadata": {},
   "outputs": [
    {
     "data": {
      "text/plain": [
       "'\\n#1. Previsão de Carga de Mercadorias\\n#Problema: Prever a quantidade de toneladas (tu) transportadas no futuro, com base em dados históricos.\\nModelos: Regressão linear, árvores de decisão, ou modelos de séries temporais como ARIMA.\\n2. Classificação de Mercadorias\\nProblema: Classificar mercadorias em diferentes categorias com base nas características fornecidas.\\nModelos: Algoritmos de classificação como KNN, SVM, ou redes neurais.\\n3. Análise de Rotas\\nProblema: Identificar as rotas mais eficientes entre estações de origem e destino, usando estacao_origem, estacao_destino e uf_origem, uf_destino.\\nModelos: Algoritmos de agrupamento (clustering) para identificar padrões nas rotas mais utilizadas.\\n4. Detecção de Anomalias\\nProblema: Identificar anomalias no fluxo de mercadorias, como picos inesperados ou quedas na quantidade transportada.\\nModelos: Algoritmos de detecção de anomalias como Isolation Forest ou DBSCAN.\\n5. Análise de Impacto de Variáveis Externas\\nProblema: Avaliar como variáveis externas (como mudanças econômicas ou sazonais) impactam o transporte de mercadorias.\\nModelos: Regressão múltipla ou modelos de machine learning que podem incorporar variáveis externas.\\n6. Segmentação de Clientes ou Concessionárias\\nProblema: Agrupar diferentes concessionárias com base no fluxo de mercadorias transportadas e suas características.\\nModelos: Algoritmos de clustering como K-means ou Hierarchical Clustering.\\n7. Otimização de Custo\\nProblema: Otimizar os custos de transporte com base na tonelada-quilômetro útil (tku).\\nModelos: Métodos de otimização linear ou modelos de machine learning para prever custos com base em diferentes variáveis.\\nImplementação\\nPara qualquer um desses problemas, você precisará:\\n\\nPré-processar os dados: Tratar valores ausentes, codificar variáveis categóricas e normalizar dados, se necessário.\\nDividir os dados: Separar os dados em conjuntos de treino e teste.\\nTreinar e avaliar o modelo: Usar métricas apropriadas para avaliar a performance do modelo.\\nInterpretar resultados: Compreender como as variáveis influenciam as previsões e análises. '"
      ]
     },
     "execution_count": 4,
     "metadata": {},
     "output_type": "execute_result"
    }
   ],
   "source": [
    "'''\n",
    "#1. Previsão de Carga de Mercadorias\n",
    "#Problema: Prever a quantidade de toneladas (tu) transportadas no futuro, com base em dados históricos.\n",
    "Modelos: Regressão linear, árvores de decisão, ou modelos de séries temporais como ARIMA.\n",
    "2. Classificação de Mercadorias\n",
    "Problema: Classificar mercadorias em diferentes categorias com base nas características fornecidas.\n",
    "Modelos: Algoritmos de classificação como KNN, SVM, ou redes neurais.\n",
    "3. Análise de Rotas\n",
    "Problema: Identificar as rotas mais eficientes entre estações de origem e destino, usando estacao_origem, estacao_destino e uf_origem, uf_destino.\n",
    "Modelos: Algoritmos de agrupamento (clustering) para identificar padrões nas rotas mais utilizadas.\n",
    "4. Detecção de Anomalias\n",
    "Problema: Identificar anomalias no fluxo de mercadorias, como picos inesperados ou quedas na quantidade transportada.\n",
    "Modelos: Algoritmos de detecção de anomalias como Isolation Forest ou DBSCAN.\n",
    "5. Análise de Impacto de Variáveis Externas\n",
    "Problema: Avaliar como variáveis externas (como mudanças econômicas ou sazonais) impactam o transporte de mercadorias.\n",
    "Modelos: Regressão múltipla ou modelos de machine learning que podem incorporar variáveis externas.\n",
    "6. Segmentação de Clientes ou Concessionárias\n",
    "Problema: Agrupar diferentes concessionárias com base no fluxo de mercadorias transportadas e suas características.\n",
    "Modelos: Algoritmos de clustering como K-means ou Hierarchical Clustering.\n",
    "7. Otimização de Custo\n",
    "Problema: Otimizar os custos de transporte com base na tonelada-quilômetro útil (tku).\n",
    "Modelos: Métodos de otimização linear ou modelos de machine learning para prever custos com base em diferentes variáveis.\n",
    "Implementação\n",
    "Para qualquer um desses problemas, você precisará:\n",
    "\n",
    "Pré-processar os dados: Tratar valores ausentes, codificar variáveis categóricas e normalizar dados, se necessário.\n",
    "Dividir os dados: Separar os dados em conjuntos de treino e teste.\n",
    "Treinar e avaliar o modelo: Usar métricas apropriadas para avaliar a performance do modelo.\n",
    "Interpretar resultados: Compreender como as variáveis influenciam as previsões e análises. '''"
   ]
  },
  {
   "cell_type": "code",
   "execution_count": 5,
   "metadata": {},
   "outputs": [],
   "source": [
    "#6. Segmentação de Clientes ou Concessionárias\n",
    "#Problema: Agrupar diferentes concessionárias com base no fluxo de mercadorias transportadas e suas características.\n",
    "#Modelos: Algoritmos de clustering como K-means ou Hierarchical Clustering"
   ]
  },
  {
   "cell_type": "code",
   "execution_count": 6,
   "metadata": {},
   "outputs": [
    {
     "data": {
      "text/plain": [
       "Mes_Ano            datetime64[ns]\n",
       "Ferrovia                   object\n",
       "Mercadoria_ANTT            object\n",
       "Estacao_Origem             object\n",
       "UF_Origem                  object\n",
       "Estacao_Destino            object\n",
       "UF_Destino                 object\n",
       "TU                        float64\n",
       "TKU                       float64\n",
       "dtype: object"
      ]
     },
     "execution_count": 6,
     "metadata": {},
     "output_type": "execute_result"
    }
   ],
   "source": [
    "df.dtypes"
   ]
  },
  {
   "cell_type": "code",
   "execution_count": 7,
   "metadata": {},
   "outputs": [],
   "source": [
    "# Vamos transformar as variáveis categóricas em variáveis numéricas\n",
    "# Como vários valores únicos nas colunas Description e Country, vamos utilizar o LabelEncoder"
   ]
  },
  {
   "cell_type": "code",
   "execution_count": 8,
   "metadata": {},
   "outputs": [],
   "source": [
    "# Criar uma instância do LabelEncoder\n",
    "#label_encoder = LabelEncoder()\n",
    "\n",
    "# Ajustar o encoder aos dados e transformar a variável categórica em numérica\n",
    "#df['Ferrovia'] = label_encoder.fit_transform(df['Ferrovia'])\n",
    "#df['Mercadoria_ANTT'] = label_encoder.fit_transform(df['Mercadoria_ANTT'])\n",
    "#df['Estacao_Origem'] = label_encoder.fit_transform(df['Estacao_Origem'])\n",
    "#df['UF_Origem'] = label_encoder.fit_transform(df['UF_Origem'])\n",
    "#df['Estacao_Destino'] = label_encoder.fit_transform(df['Estacao_Destino'])\n",
    "#df['UF_Destino'] = label_encoder.fit_transform(df['UF_Destino'])"
   ]
  },
  {
   "cell_type": "code",
   "execution_count": 9,
   "metadata": {},
   "outputs": [],
   "source": [
    "# Removendo a coluna de data que não se aplica neste método de machine learning\n",
    "df = df.drop(columns=['Mes_Ano'])"
   ]
  },
  {
   "cell_type": "code",
   "execution_count": 10,
   "metadata": {},
   "outputs": [],
   "source": [
    "# Selecionar e buscar nomes das colunas numéricas e categóricas\n",
    "df_num = df.select_dtypes(include=['float64']).columns.tolist()\n",
    "df_cat = df.select_dtypes(include=['object']).columns.tolist()\n",
    "\n",
    "# Definir o ColumnTransformer\n",
    "preprocessor = ColumnTransformer(\n",
    "    transformers=[\n",
    "        ('cat', OneHotEncoder(), df_cat),\n",
    "        ('num', StandardScaler(), df_num)\n",
    "    ]\n",
    ")\n",
    "\n",
    "# Aplicar as transformações\n",
    "transformed_data = preprocessor.fit_transform(df)\n",
    "\n",
    "#print(transformed_data)\n",
    "#transformed_data.head()"
   ]
  },
  {
   "cell_type": "code",
   "execution_count": 11,
   "metadata": {},
   "outputs": [
    {
     "data": {
      "image/png": "[encoded data removed]",
      "text/plain": [
       "<Figure size 800x600 with 1 Axes>"
      ]
     },
     "metadata": {},
     "output_type": "display_data"
    }
   ],
   "source": [
    "# Aplicar TruncatedSVD - adequado para redução de dimensionalidade em matrizes esparsas\n",
    "svd = TruncatedSVD(n_components=2)  # Reduzir para 2 dimensões\n",
    "reduced_data = svd.fit_transform(transformed_data)\n",
    "\n",
    "# Criar um DataFrame com os dados reduzidos\n",
    "reduced_df = pd.DataFrame(data=reduced_data, columns=['SVD1', 'SVD2'])\n",
    "\n",
    "# Visualizar os dados reduzidos\n",
    "plt.figure(figsize=(8, 6))\n",
    "plt.scatter(reduced_df['SVD1'], reduced_df['SVD2'])\n",
    "plt.title('Truncated SVD Result')\n",
    "plt.xlabel('SVD1')\n",
    "plt.ylabel('SVD2')\n",
    "plt.grid()\n",
    "plt.show()"
   ]
  },
  {
   "cell_type": "markdown",
   "metadata": {},
   "source": [
    "### 6.2 - Aplicando a clusterização"
   ]
  },
  {
   "cell_type": "code",
   "execution_count": 12,
   "metadata": {},
   "outputs": [
    {
     "name": "stderr",
     "output_type": "stream",
     "text": [
      "C:\\Users\\Danilo\\anaconda3\\Lib\\site-packages\\joblib\\externals\\loky\\backend\\context.py:136: UserWarning: Could not find the number of physical cores for the following reason:\n",
      "found 0 physical cores < 1\n",
      "Returning the number of logical cores instead. You can silence this warning by setting LOKY_MAX_CPU_COUNT to the number of cores you want to use.\n",
      "  warnings.warn(\n",
      "  File \"C:\\Users\\Danilo\\anaconda3\\Lib\\site-packages\\joblib\\externals\\loky\\backend\\context.py\", line 282, in _count_physical_cores\n",
      "    raise ValueError(f\"found {cpu_count_physical} physical cores < 1\")\n"
     ]
    },
    {
     "data": {
      "image/png": "[encoded data removed]",
      "text/plain": [
       "<Figure size 640x480 with 1 Axes>"
      ]
     },
     "metadata": {},
     "output_type": "display_data"
    }
   ],
   "source": [
    "#vamos usar como ponto de partida a métrica Inertia\n",
    "# Inertia = Soma das distâncias das amostras para o seu centro de agrupamento mais próximo.\n",
    "\n",
    "# Lista de valores de K\n",
    "Ks = range(2, 20)\n",
    "\n",
    "# Lista para as métricas\n",
    "valores_metrica = []\n",
    "\n",
    "# Loop por diferentes modelos com diferentes valores de K\n",
    "for K in Ks:\n",
    "    modelo = KMeans(n_clusters = K, random_state = 101)\n",
    "    modelo.fit(reduced_data)\n",
    "    valores_metrica.append(modelo.inertia_)\n",
    "\n",
    "plt.plot(Ks, valores_metrica, 'o-')\n",
    "plt.xlabel(\"Valor de K\")\n",
    "plt.ylabel(\"Inertia\")\n",
    "plt.show()"
   ]
  },
  {
   "cell_type": "code",
   "execution_count": null,
   "metadata": {},
   "outputs": [],
   "source": [
    "# pelo gráfico, vamos tentar com 5, 7 e 9 clusters\n",
    "# com 5 cluster kmeans deu \n",
    "# com 6 cluster kmeans deu 0,607\n",
    "# com 7 clusters kmeans de 0,607"
   ]
  },
  {
   "cell_type": "code",
   "execution_count": null,
   "metadata": {},
   "outputs": [],
   "source": [
    "# Criando um modelo com K = 5\n",
    "modelo_v1 = KMeans(n_clusters=5, random_state=42)\n",
    "modelo_v1.fit(reduced_data)\n",
    "# Silhouette Score\n",
    "labels = modelo_v1.labels_\n",
    "silhouette_v1 = silhouette_score(reduced_data, labels, metric = 'euclidean')\n",
    "print(silhouette_v1)"
   ]
  },
  {
   "cell_type": "code",
   "execution_count": null,
   "metadata": {},
   "outputs": [],
   "source": [
    "# Obtém os valores mínimos e máximos e organiza o shape\n",
    "x_min, x_max = reduced_data[:, 0].min() - 5, reduced_data[:, 0].max() - 1\n",
    "y_min, y_max = reduced_data[:, 1].min() + 1, reduced_data[:, 1].max() + 5\n",
    "xx, yy = np.meshgrid(np.arange(x_min, x_max, .02), np.arange(y_min, y_max, .02))\n",
    "Z = modelo_v1.predict(np.c_[xx.ravel(), yy.ravel()])\n",
    "Z = Z.reshape(xx.shape)\n",
    "\n",
    "# Plot das áreas dos clusters\n",
    "plt.figure(1)\n",
    "plt.clf()\n",
    "plt.imshow(Z, \n",
    "          interpolation='nearest',\n",
    "          extent=(xx.min(), xx.max(), yy.min(), yy.max()),\n",
    "          cmap=plt.cm.Paired,\n",
    "          aspect='auto', \n",
    "          origin='lower')\n"
   ]
  },
  {
   "cell_type": "code",
   "execution_count": null,
   "metadata": {},
   "outputs": [],
   "source": [
    "# Criando um modelo com K = 7\n",
    "modelo_v2 = KMeans(n_clusters=7, random_state=42)\n",
    "modelo_v2.fit(reduced_data)\n",
    "# Silhouette Score\n",
    "labels = modelo_v2.labels_\n",
    "silhouette_v2 = silhouette_score(reduced_data, labels, metric = 'euclidean')\n",
    "print(silhouette_v2)"
   ]
  },
  {
   "cell_type": "code",
   "execution_count": null,
   "metadata": {},
   "outputs": [],
   "source": [
    "# Obtém os valores mínimos e máximos e organiza o shape\n",
    "x_min, x_max = reduced_data[:, 0].min() - 5, reduced_data[:, 0].max() - 1\n",
    "y_min, y_max = reduced_data[:, 1].min() + 1, reduced_data[:, 1].max() + 5\n",
    "xx, yy = np.meshgrid(np.arange(x_min, x_max, .02), np.arange(y_min, y_max, .02))\n",
    "Z = modelo_v2.predict(np.c_[xx.ravel(), yy.ravel()])\n",
    "Z = Z.reshape(xx.shape)\n",
    "\n",
    "# Plot das áreas dos clusters\n",
    "plt.figure(1)\n",
    "plt.clf()\n",
    "plt.imshow(Z, \n",
    "          interpolation='nearest',\n",
    "          extent=(xx.min(), xx.max(), yy.min(), yy.max()),\n",
    "          cmap=plt.cm.Paired,\n",
    "          aspect='auto', \n",
    "          origin='lower')"
   ]
  },
  {
   "cell_type": "code",
   "execution_count": null,
   "metadata": {},
   "outputs": [],
   "source": []
  },
  {
   "cell_type": "code",
   "execution_count": null,
   "metadata": {},
   "outputs": [],
   "source": [
    "# Criando um modelo com K = 9\n",
    "modelo_v3 = KMeans(n_clusters=9, random_state=42)\n",
    "modelo_v3.fit(reduced_data)\n",
    "# Silhouette Score\n",
    "labels = modelo_v3.labels_\n",
    "silhouette_v3 = silhouette_score(reduced_data, labels, metric = 'euclidean')\n",
    "print(silhouette_v3)"
   ]
  },
  {
   "cell_type": "code",
   "execution_count": null,
   "metadata": {},
   "outputs": [],
   "source": []
  },
  {
   "cell_type": "code",
   "execution_count": null,
   "metadata": {},
   "outputs": [],
   "source": [
    "# DBSCAN\n",
    "#dsscan com eps 0.5 min samples 5 euclidean deu 0.89"
   ]
  },
  {
   "cell_type": "code",
   "execution_count": null,
   "metadata": {},
   "outputs": [],
   "source": [
    "# Construção do modelo\n",
    "modelo_v4 = DBSCAN(eps = 0.5, min_samples = 5, metric = 'euclidean')\n",
    "labels = modelo_v4.fit_predict(reduced_data) Calcular métrica de classificação (silhouette score)\n",
    "silhouette_v4  = silhouette_score(reduced_data, labels)\n",
    "print(\"Silhouette Score:\", silhouette_v4)\n",
    "# Contar o número de clusters\n",
    "num_clusters = len(set(labels)) - (1 if -1 in labels else 0)  # -1 é o ruído\n",
    "print(f\"Número de clusters: {num_clusters}\")"
   ]
  },
  {
   "cell_type": "code",
   "execution_count": null,
   "metadata": {},
   "outputs": [],
   "source": []
  },
  {
   "cell_type": "code",
   "execution_count": null,
   "metadata": {},
   "outputs": [],
   "source": [
    "\n",
    "# Exibir as labels\n",
    "#print(\"Labels dos clusters:\", labels)"
   ]
  },
  {
   "cell_type": "code",
   "execution_count": null,
   "metadata": {},
   "outputs": [],
   "source": [
    "#meanshift\n",
    "# silhoute 0,82"
   ]
  },
  {
   "cell_type": "code",
   "execution_count": 25,
   "metadata": {},
   "outputs": [
    {
     "data": {
      "text/html": [
       "<style>#sk-container-id-1 {\n",
       "  /* Definition of color scheme common for light and dark mode */\n",
       "  --sklearn-color-text: black;\n",
       "  --sklearn-color-line: gray;\n",
       "  /* Definition of color scheme for unfitted estimators */\n",
       "  --sklearn-color-unfitted-level-0: #fff5e6;\n",
       "  --sklearn-color-unfitted-level-1: #f6e4d2;\n",
       "  --sklearn-color-unfitted-level-2: #ffe0b3;\n",
       "  --sklearn-color-unfitted-level-3: chocolate;\n",
       "  /* Definition of color scheme for fitted estimators */\n",
       "  --sklearn-color-fitted-level-0: #f0f8ff;\n",
       "  --sklearn-color-fitted-level-1: #d4ebff;\n",
       "  --sklearn-color-fitted-level-2: #b3dbfd;\n",
       "  --sklearn-color-fitted-level-3: cornflowerblue;\n",
       "\n",
       "  /* Specific color for light theme */\n",
       "  --sklearn-color-text-on-default-background: var(--sg-text-color, var(--theme-code-foreground, var(--jp-content-font-color1, black)));\n",
       "  --sklearn-color-background: var(--sg-background-color, var(--theme-background, var(--jp-layout-color0, white)));\n",
       "  --sklearn-color-border-box: var(--sg-text-color, var(--theme-code-foreground, var(--jp-content-font-color1, black)));\n",
       "  --sklearn-color-icon: #696969;\n",
       "\n",
       "  @media (prefers-color-scheme: dark) {\n",
       "    /* Redefinition of color scheme for dark theme */\n",
       "    --sklearn-color-text-on-default-background: var(--sg-text-color, var(--theme-code-foreground, var(--jp-content-font-color1, white)));\n",
       "    --sklearn-color-background: var(--sg-background-color, var(--theme-background, var(--jp-layout-color0, #111)));\n",
       "    --sklearn-color-border-box: var(--sg-text-color, var(--theme-code-foreground, var(--jp-content-font-color1, white)));\n",
       "    --sklearn-color-icon: #878787;\n",
       "  }\n",
       "}\n",
       "\n",
       "#sk-container-id-1 {\n",
       "  color: var(--sklearn-color-text);\n",
       "}\n",
       "\n",
       "#sk-container-id-1 pre {\n",
       "  padding: 0;\n",
       "}\n",
       "\n",
       "#sk-container-id-1 input.sk-hidden--visually {\n",
       "  border: 0;\n",
       "  clip: rect(1px 1px 1px 1px);\n",
       "  clip: rect(1px, 1px, 1px, 1px);\n",
       "  height: 1px;\n",
       "  margin: -1px;\n",
       "  overflow: hidden;\n",
       "  padding: 0;\n",
       "  position: absolute;\n",
       "  width: 1px;\n",
       "}\n",
       "\n",
       "#sk-container-id-1 div.sk-dashed-wrapped {\n",
       "  border: 1px dashed var(--sklearn-color-line);\n",
       "  margin: 0 0.4em 0.5em 0.4em;\n",
       "  box-sizing: border-box;\n",
       "  padding-bottom: 0.4em;\n",
       "  background-color: var(--sklearn-color-background);\n",
       "}\n",
       "\n",
       "#sk-container-id-1 div.sk-container {\n",
       "  /* jupyter's `normalize.less` sets `[hidden] { display: none; }`\n",
       "     but bootstrap.min.css set `[hidden] { display: none !important; }`\n",
       "     so we also need the `!important` here to be able to override the\n",
       "     default hidden behavior on the sphinx rendered scikit-learn.org.\n",
       "     See: https://github.com/scikit-learn/scikit-learn/issues/21755 */\n",
       "  display: inline-block !important;\n",
       "  position: relative;\n",
       "}\n",
       "\n",
       "#sk-container-id-1 div.sk-text-repr-fallback {\n",
       "  display: none;\n",
       "}\n",
       "\n",
       "div.sk-parallel-item,\n",
       "div.sk-serial,\n",
       "div.sk-item {\n",
       "  /* draw centered vertical line to link estimators */\n",
       "  background-image: linear-gradient(var(--sklearn-color-text-on-default-background), var(--sklearn-color-text-on-default-background));\n",
       "  background-size: 2px 100%;\n",
       "  background-repeat: no-repeat;\n",
       "  background-position: center center;\n",
       "}\n",
       "\n",
       "/* Parallel-specific style estimator block */\n",
       "\n",
       "#sk-container-id-1 div.sk-parallel-item::after {\n",
       "  content: \"\";\n",
       "  width: 100%;\n",
       "  border-bottom: 2px solid var(--sklearn-color-text-on-default-background);\n",
       "  flex-grow: 1;\n",
       "}\n",
       "\n",
       "#sk-container-id-1 div.sk-parallel {\n",
       "  display: flex;\n",
       "  align-items: stretch;\n",
       "  justify-content: center;\n",
       "  background-color: var(--sklearn-color-background);\n",
       "  position: relative;\n",
       "}\n",
       "\n",
       "#sk-container-id-1 div.sk-parallel-item {\n",
       "  display: flex;\n",
       "  flex-direction: column;\n",
       "}\n",
       "\n",
       "#sk-container-id-1 div.sk-parallel-item:first-child::after {\n",
       "  align-self: flex-end;\n",
       "  width: 50%;\n",
       "}\n",
       "\n",
       "#sk-container-id-1 div.sk-parallel-item:last-child::after {\n",
       "  align-self: flex-start;\n",
       "  width: 50%;\n",
       "}\n",
       "\n",
       "#sk-container-id-1 div.sk-parallel-item:only-child::after {\n",
       "  width: 0;\n",
       "}\n",
       "\n",
       "/* Serial-specific style estimator block */\n",
       "\n",
       "#sk-container-id-1 div.sk-serial {\n",
       "  display: flex;\n",
       "  flex-direction: column;\n",
       "  align-items: center;\n",
       "  background-color: var(--sklearn-color-background);\n",
       "  padding-right: 1em;\n",
       "  padding-left: 1em;\n",
       "}\n",
       "\n",
       "\n",
       "/* Toggleable style: style used for estimator/Pipeline/ColumnTransformer box that is\n",
       "clickable and can be expanded/collapsed.\n",
       "- Pipeline and ColumnTransformer use this feature and define the default style\n",
       "- Estimators will overwrite some part of the style using the `sk-estimator` class\n",
       "*/\n",
       "\n",
       "/* Pipeline and ColumnTransformer style (default) */\n",
       "\n",
       "#sk-container-id-1 div.sk-toggleable {\n",
       "  /* Default theme specific background. It is overwritten whether we have a\n",
       "  specific estimator or a Pipeline/ColumnTransformer */\n",
       "  background-color: var(--sklearn-color-background);\n",
       "}\n",
       "\n",
       "/* Toggleable label */\n",
       "#sk-container-id-1 label.sk-toggleable__label {\n",
       "  cursor: pointer;\n",
       "  display: block;\n",
       "  width: 100%;\n",
       "  margin-bottom: 0;\n",
       "  padding: 0.5em;\n",
       "  box-sizing: border-box;\n",
       "  text-align: center;\n",
       "}\n",
       "\n",
       "#sk-container-id-1 label.sk-toggleable__label-arrow:before {\n",
       "  /* Arrow on the left of the label */\n",
       "  content: \"▸\";\n",
       "  float: left;\n",
       "  margin-right: 0.25em;\n",
       "  color: var(--sklearn-color-icon);\n",
       "}\n",
       "\n",
       "#sk-container-id-1 label.sk-toggleable__label-arrow:hover:before {\n",
       "  color: var(--sklearn-color-text);\n",
       "}\n",
       "\n",
       "/* Toggleable content - dropdown */\n",
       "\n",
       "#sk-container-id-1 div.sk-toggleable__content {\n",
       "  max-height: 0;\n",
       "  max-width: 0;\n",
       "  overflow: hidden;\n",
       "  text-align: left;\n",
       "  /* unfitted */\n",
       "  background-color: var(--sklearn-color-unfitted-level-0);\n",
       "}\n",
       "\n",
       "#sk-container-id-1 div.sk-toggleable__content.fitted {\n",
       "  /* fitted */\n",
       "  background-color: var(--sklearn-color-fitted-level-0);\n",
       "}\n",
       "\n",
       "#sk-container-id-1 div.sk-toggleable__content pre {\n",
       "  margin: 0.2em;\n",
       "  border-radius: 0.25em;\n",
       "  color: var(--sklearn-color-text);\n",
       "  /* unfitted */\n",
       "  background-color: var(--sklearn-color-unfitted-level-0);\n",
       "}\n",
       "\n",
       "#sk-container-id-1 div.sk-toggleable__content.fitted pre {\n",
       "  /* unfitted */\n",
       "  background-color: var(--sklearn-color-fitted-level-0);\n",
       "}\n",
       "\n",
       "#sk-container-id-1 input.sk-toggleable__control:checked~div.sk-toggleable__content {\n",
       "  /* Expand drop-down */\n",
       "  max-height: 200px;\n",
       "  max-width: 100%;\n",
       "  overflow: auto;\n",
       "}\n",
       "\n",
       "#sk-container-id-1 input.sk-toggleable__control:checked~label.sk-toggleable__label-arrow:before {\n",
       "  content: \"▾\";\n",
       "}\n",
       "\n",
       "/* Pipeline/ColumnTransformer-specific style */\n",
       "\n",
       "#sk-container-id-1 div.sk-label input.sk-toggleable__control:checked~label.sk-toggleable__label {\n",
       "  color: var(--sklearn-color-text);\n",
       "  background-color: var(--sklearn-color-unfitted-level-2);\n",
       "}\n",
       "\n",
       "#sk-container-id-1 div.sk-label.fitted input.sk-toggleable__control:checked~label.sk-toggleable__label {\n",
       "  background-color: var(--sklearn-color-fitted-level-2);\n",
       "}\n",
       "\n",
       "/* Estimator-specific style */\n",
       "\n",
       "/* Colorize estimator box */\n",
       "#sk-container-id-1 div.sk-estimator input.sk-toggleable__control:checked~label.sk-toggleable__label {\n",
       "  /* unfitted */\n",
       "  background-color: var(--sklearn-color-unfitted-level-2);\n",
       "}\n",
       "\n",
       "#sk-container-id-1 div.sk-estimator.fitted input.sk-toggleable__control:checked~label.sk-toggleable__label {\n",
       "  /* fitted */\n",
       "  background-color: var(--sklearn-color-fitted-level-2);\n",
       "}\n",
       "\n",
       "#sk-container-id-1 div.sk-label label.sk-toggleable__label,\n",
       "#sk-container-id-1 div.sk-label label {\n",
       "  /* The background is the default theme color */\n",
       "  color: var(--sklearn-color-text-on-default-background);\n",
       "}\n",
       "\n",
       "/* On hover, darken the color of the background */\n",
       "#sk-container-id-1 div.sk-label:hover label.sk-toggleable__label {\n",
       "  color: var(--sklearn-color-text);\n",
       "  background-color: var(--sklearn-color-unfitted-level-2);\n",
       "}\n",
       "\n",
       "/* Label box, darken color on hover, fitted */\n",
       "#sk-container-id-1 div.sk-label.fitted:hover label.sk-toggleable__label.fitted {\n",
       "  color: var(--sklearn-color-text);\n",
       "  background-color: var(--sklearn-color-fitted-level-2);\n",
       "}\n",
       "\n",
       "/* Estimator label */\n",
       "\n",
       "#sk-container-id-1 div.sk-label label {\n",
       "  font-family: monospace;\n",
       "  font-weight: bold;\n",
       "  display: inline-block;\n",
       "  line-height: 1.2em;\n",
       "}\n",
       "\n",
       "#sk-container-id-1 div.sk-label-container {\n",
       "  text-align: center;\n",
       "}\n",
       "\n",
       "/* Estimator-specific */\n",
       "#sk-container-id-1 div.sk-estimator {\n",
       "  font-family: monospace;\n",
       "  border: 1px dotted var(--sklearn-color-border-box);\n",
       "  border-radius: 0.25em;\n",
       "  box-sizing: border-box;\n",
       "  margin-bottom: 0.5em;\n",
       "  /* unfitted */\n",
       "  background-color: var(--sklearn-color-unfitted-level-0);\n",
       "}\n",
       "\n",
       "#sk-container-id-1 div.sk-estimator.fitted {\n",
       "  /* fitted */\n",
       "  background-color: var(--sklearn-color-fitted-level-0);\n",
       "}\n",
       "\n",
       "/* on hover */\n",
       "#sk-container-id-1 div.sk-estimator:hover {\n",
       "  /* unfitted */\n",
       "  background-color: var(--sklearn-color-unfitted-level-2);\n",
       "}\n",
       "\n",
       "#sk-container-id-1 div.sk-estimator.fitted:hover {\n",
       "  /* fitted */\n",
       "  background-color: var(--sklearn-color-fitted-level-2);\n",
       "}\n",
       "\n",
       "/* Specification for estimator info (e.g. \"i\" and \"?\") */\n",
       "\n",
       "/* Common style for \"i\" and \"?\" */\n",
       "\n",
       ".sk-estimator-doc-link,\n",
       "a:link.sk-estimator-doc-link,\n",
       "a:visited.sk-estimator-doc-link {\n",
       "  float: right;\n",
       "  font-size: smaller;\n",
       "  line-height: 1em;\n",
       "  font-family: monospace;\n",
       "  background-color: var(--sklearn-color-background);\n",
       "  border-radius: 1em;\n",
       "  height: 1em;\n",
       "  width: 1em;\n",
       "  text-decoration: none !important;\n",
       "  margin-left: 1ex;\n",
       "  /* unfitted */\n",
       "  border: var(--sklearn-color-unfitted-level-1) 1pt solid;\n",
       "  color: var(--sklearn-color-unfitted-level-1);\n",
       "}\n",
       "\n",
       ".sk-estimator-doc-link.fitted,\n",
       "a:link.sk-estimator-doc-link.fitted,\n",
       "a:visited.sk-estimator-doc-link.fitted {\n",
       "  /* fitted */\n",
       "  border: var(--sklearn-color-fitted-level-1) 1pt solid;\n",
       "  color: var(--sklearn-color-fitted-level-1);\n",
       "}\n",
       "\n",
       "/* On hover */\n",
       "div.sk-estimator:hover .sk-estimator-doc-link:hover,\n",
       ".sk-estimator-doc-link:hover,\n",
       "div.sk-label-container:hover .sk-estimator-doc-link:hover,\n",
       ".sk-estimator-doc-link:hover {\n",
       "  /* unfitted */\n",
       "  background-color: var(--sklearn-color-unfitted-level-3);\n",
       "  color: var(--sklearn-color-background);\n",
       "  text-decoration: none;\n",
       "}\n",
       "\n",
       "div.sk-estimator.fitted:hover .sk-estimator-doc-link.fitted:hover,\n",
       ".sk-estimator-doc-link.fitted:hover,\n",
       "div.sk-label-container:hover .sk-estimator-doc-link.fitted:hover,\n",
       ".sk-estimator-doc-link.fitted:hover {\n",
       "  /* fitted */\n",
       "  background-color: var(--sklearn-color-fitted-level-3);\n",
       "  color: var(--sklearn-color-background);\n",
       "  text-decoration: none;\n",
       "}\n",
       "\n",
       "/* Span, style for the box shown on hovering the info icon */\n",
       ".sk-estimator-doc-link span {\n",
       "  display: none;\n",
       "  z-index: 9999;\n",
       "  position: relative;\n",
       "  font-weight: normal;\n",
       "  right: .2ex;\n",
       "  padding: .5ex;\n",
       "  margin: .5ex;\n",
       "  width: min-content;\n",
       "  min-width: 20ex;\n",
       "  max-width: 50ex;\n",
       "  color: var(--sklearn-color-text);\n",
       "  box-shadow: 2pt 2pt 4pt #999;\n",
       "  /* unfitted */\n",
       "  background: var(--sklearn-color-unfitted-level-0);\n",
       "  border: .5pt solid var(--sklearn-color-unfitted-level-3);\n",
       "}\n",
       "\n",
       ".sk-estimator-doc-link.fitted span {\n",
       "  /* fitted */\n",
       "  background: var(--sklearn-color-fitted-level-0);\n",
       "  border: var(--sklearn-color-fitted-level-3);\n",
       "}\n",
       "\n",
       ".sk-estimator-doc-link:hover span {\n",
       "  display: block;\n",
       "}\n",
       "\n",
       "/* \"?\"-specific style due to the `<a>` HTML tag */\n",
       "\n",
       "#sk-container-id-1 a.estimator_doc_link {\n",
       "  float: right;\n",
       "  font-size: 1rem;\n",
       "  line-height: 1em;\n",
       "  font-family: monospace;\n",
       "  background-color: var(--sklearn-color-background);\n",
       "  border-radius: 1rem;\n",
       "  height: 1rem;\n",
       "  width: 1rem;\n",
       "  text-decoration: none;\n",
       "  /* unfitted */\n",
       "  color: var(--sklearn-color-unfitted-level-1);\n",
       "  border: var(--sklearn-color-unfitted-level-1) 1pt solid;\n",
       "}\n",
       "\n",
       "#sk-container-id-1 a.estimator_doc_link.fitted {\n",
       "  /* fitted */\n",
       "  border: var(--sklearn-color-fitted-level-1) 1pt solid;\n",
       "  color: var(--sklearn-color-fitted-level-1);\n",
       "}\n",
       "\n",
       "/* On hover */\n",
       "#sk-container-id-1 a.estimator_doc_link:hover {\n",
       "  /* unfitted */\n",
       "  background-color: var(--sklearn-color-unfitted-level-3);\n",
       "  color: var(--sklearn-color-background);\n",
       "  text-decoration: none;\n",
       "}\n",
       "\n",
       "#sk-container-id-1 a.estimator_doc_link.fitted:hover {\n",
       "  /* fitted */\n",
       "  background-color: var(--sklearn-color-fitted-level-3);\n",
       "}\n",
       "</style><div id=\"sk-container-id-1\" class=\"sk-top-container\"><div class=\"sk-text-repr-fallback\"><pre>MeanShift(bandwidth=3.3863944491077915, bin_seeding=True)</pre><b>In a Jupyter environment, please rerun this cell to show the HTML representation or trust the notebook. <br />On GitHub, the HTML representation is unable to render, please try loading this page with nbviewer.org.</b></div><div class=\"sk-container\" hidden><div class=\"sk-item\"><div class=\"sk-estimator fitted sk-toggleable\"><input class=\"sk-toggleable__control sk-hidden--visually\" id=\"sk-estimator-id-1\" type=\"checkbox\" checked><label for=\"sk-estimator-id-1\" class=\"sk-toggleable__label fitted sk-toggleable__label-arrow fitted\">&nbsp;&nbsp;MeanShift<a class=\"sk-estimator-doc-link fitted\" rel=\"noreferrer\" target=\"_blank\" href=\"https://scikit-learn.org/1.4/modules/generated/sklearn.cluster.MeanShift.html\">?<span>Documentation for MeanShift</span></a><span class=\"sk-estimator-doc-link fitted\">i<span>Fitted</span></span></label><div class=\"sk-toggleable__content fitted\"><pre>MeanShift(bandwidth=3.3863944491077915, bin_seeding=True)</pre></div> </div></div></div></div>"
      ],
      "text/plain": [
       "MeanShift(bandwidth=3.3863944491077915, bin_seeding=True)"
      ]
     },
     "execution_count": 25,
     "metadata": {},
     "output_type": "execute_result"
    }
   ],
   "source": [
    "# Converte os dados esparsos para um formato denso\n",
    "dense_data = transformed_data.toarray()\n",
    "\n",
    "# Calcular o bandwidth O bandwidth é um parâmetro usado em algoritmos de agrupamento, como o Mean Shift, que influencia a forma como os dados \n",
    "#são agrupados. \n",
    "# Especificamente, o bandwidth define a largura da \"janela\" ou \"vizinhança\" ao redor de cada ponto de dados para determinar \n",
    "#como os pontos são agrupados.\n",
    "bandwidth = estimate_bandwidth(dense_data, quantile=0.3, n_samples=500, random_state=42)\n",
    "\n",
    "# Cria o modelo\n",
    "modelo_v5 = MeanShift(bandwidth=bandwidth, bin_seeding=True)\n",
    "\n",
    "# Treina o modelo\n",
    "modelo_v5.fit(dense_data)"
   ]
  },
  {
   "cell_type": "code",
   "execution_count": 26,
   "metadata": {},
   "outputs": [
    {
     "name": "stdout",
     "output_type": "stream",
     "text": [
      "Número de clusters sugeridos:  5\n",
      "Silhouette Score: 0.8201913845552746\n"
     ]
    }
   ],
   "source": [
    "# Coleta os labels, centróides e número de clusters\n",
    "labels = modelo_v5.labels_\n",
    "cluster_centers = modelo_v5.cluster_centers_\n",
    "n_clusters_ = labels.max()+1\n",
    "print (\"Número de clusters sugeridos: \", n_clusters_)\n"
   ]
  },
  {
   "cell_type": "code",
   "execution_count": 27,
   "metadata": {},
   "outputs": [
    {
     "name": "stdout",
     "output_type": "stream",
     "text": [
      "Silhouette Score: 0.8201913845552739\n"
     ]
    }
   ],
   "source": [
    "# Calcular métrica de classificação (silhouette score)\n",
    "silhouette_v5  = silhouette_score(dense_data, labels)\n",
    "print(\"Silhouette Score:\", silhouette_v5)"
   ]
  },
  {
   "cell_type": "markdown",
   "metadata": {},
   "source": [
    "### 6.3 - Avaliação dos modelos"
   ]
  },
  {
   "cell_type": "code",
   "execution_count": null,
   "metadata": {},
   "outputs": [],
   "source": [
    "'''# Defina os valores para cada modelo\n",
    "modelos = ['KMEANS_5', 'KMEANS_7', 'KMEANS_9', 'DBSCAN', 'MEANSHIFT']\n",
    "sil = [silhouette_v1, silhouette_v2, silhouette_v3, silhouette_v4, silhouette_v5]'''"
   ]
  },
  {
   "cell_type": "code",
   "execution_count": null,
   "metadata": {},
   "outputs": [],
   "source": [
    "'''# Crie um DataFrame usando Pandas\n",
    "df_resumo_modelos = pd.DataFrame({\n",
    " 'Modelo': modelos,\n",
    " 'Silhouette': sil\n",
    "})'''"
   ]
  },
  {
   "cell_type": "code",
   "execution_count": null,
   "metadata": {},
   "outputs": [],
   "source": [
    "'''# Melhores modelos considerando a métrica Silhouette mais importante\n",
    "df_resumo_modelos_sil = df_resumo_modelos.sort_values(by='Silhouette', ascending=False)\n",
    "# fazemos o índice começar em zero\n",
    "df_resumo_modelos_sil =df_resumo_modelos_sil.reset_index(drop=True)\n",
    "# para ordenar os modelos começando do 1, acrescentamos 1 ao indice\n",
    "df_resumo_modelos_sil.index += 1\n",
    "print(\" Avaliação do modelos com base na Silhouette\\n\")\n",
    "df_resumo_modelos_sil'''"
   ]
  },
  {
   "cell_type": "code",
   "execution_count": null,
   "metadata": {},
   "outputs": [],
   "source": [
    "#Forma de avaliar a métrica silhouette\n",
    "\n",
    "#Um valor próximo de 1 indica que os clusters estão bem separados uns dos outros e \n",
    "#que as amostras dentro de cada cluster estão muito próximas umas das outras, o que é considerado uma boa separação.\n",
    "\n",
    "#Um valor próximo de 0 indica que há sobreposição entre os clusters ou que os clusters \n",
    "#estão muito próximos uns dos outros, o que pode indicar que os clusters não estão bem definidos.\n",
    "\n",
    "#Um valor próximo de -1 indica que as amostras foram atribuídas ao cluster errado.\n",
    "\n",
    "#Portanto, quanto mais próximo o valor do coeficiente silhouette estiver de 1, melhor é a qualidade dos clusters."
   ]
  },
  {
   "cell_type": "code",
   "execution_count": null,
   "metadata": {},
   "outputs": [],
   "source": [
    "### O modelo_v1 apresentou os melhores resultados.\n"
   ]
  },
  {
   "cell_type": "code",
   "execution_count": null,
   "metadata": {},
   "outputs": [],
   "source": [
    "### Criando o Cluster Map com os clusters do modelo_v1 que apresentou melhor Silhouette Score.\n"
   ]
  },
  {
   "cell_type": "code",
   "execution_count": null,
   "metadata": {},
   "outputs": [],
   "source": [
    "# Cria o cluster map\n",
    "#df_final['cluster'] = modelo_v1.labels_"
   ]
  },
  {
   "cell_type": "code",
   "execution_count": null,
   "metadata": {},
   "outputs": [],
   "source": [
    "# Convertendo os valores da coluna 'cluster' para inteiros\n",
    "#df_final['cluster'] = df_final['cluster'].astype(int)"
   ]
  },
  {
   "cell_type": "code",
   "execution_count": null,
   "metadata": {},
   "outputs": [],
   "source": [
    "# obtendo os valores únicos de cluster\n",
    "#valores_unicos = np.unique(df_final['cluster'])\n",
    "#print(\"Os valores únicos de clusters são:\", valores_unicos)"
   ]
  },
  {
   "cell_type": "code",
   "execution_count": null,
   "metadata": {},
   "outputs": [],
   "source": [
    "# verificando se a quantidade de clusters está correta \n",
    "#quantidade_valores_unicos = len(valores_unicos)\n",
    "#print(\"Quantidade de valores únicos:\", quantidade_valores_unicos)"
   ]
  },
  {
   "cell_type": "code",
   "execution_count": null,
   "metadata": {},
   "outputs": [],
   "source": [
    "#df_final.dtypes"
   ]
  },
  {
   "cell_type": "code",
   "execution_count": null,
   "metadata": {},
   "outputs": [],
   "source": [
    "# vendo a classificação de alguns clientes\n",
    "#df_final.sample(5)"
   ]
  },
  {
   "cell_type": "code",
   "execution_count": null,
   "metadata": {},
   "outputs": [],
   "source": [
    "# Agrupando os 10 produtos mais vendidos para os clausters 0, 1, 2 e 3\n",
    "# Filtrando o DataFrame para incluir apenas os clusters especificados (0, 1, 2 e 3)\n",
    "#df_clusters_especificos = df_final[df_final['cluster'].isin([0, 1, 2, 3])]\n",
    "\n",
    "# Agrupando por 'cluster' e 'Description' e somar a quantidade vendida de cada produto em cada cluster\n",
    "#produtos_mais_vendidos_por_cluster = df_clusters_especificos.groupby(['cluster', 'Description'])['Quantity'].sum()\n",
    "\n",
    "# Encontrando os 10 produtos mais vendidos para cada cluster\n",
    "#top_10_produtos_por_cluster = produtos_mais_vendidos_por_cluster.groupby('cluster').nlargest(10)\n",
    "\n",
    "#print(top_10_produtos_por_cluster)"
   ]
  },
  {
   "cell_type": "code",
   "execution_count": null,
   "metadata": {},
   "outputs": [],
   "source": [
    "'''# Plotar o gráfico\n",
    "plt.figure(figsize=(12, 8))\n",
    "\n",
    "for cluster, data in top_10_produtos_por_cluster.groupby(level=0):\n",
    "    plt.barh(data.index.get_level_values('Description'), data.values, label=f'Cluster {cluster}')\n",
    "\n",
    "plt.xlabel('Quantidade Vendida')\n",
    "plt.ylabel('Descrição do Produto')\n",
    "plt.title('Top 10 Produtos Mais Vendidos por Cluster')\n",
    "plt.legend(title='Cluster')\n",
    "plt.gca().invert_yaxis()  # Inverter eixo y para que os produtos mais vendidos fiquem no topo\n",
    "plt.tight_layout()\n",
    "plt.show()'''"
   ]
  },
  {
   "cell_type": "code",
   "execution_count": null,
   "metadata": {},
   "outputs": [],
   "source": [
    "# conclusao"
   ]
  },
  {
   "cell_type": "code",
   "execution_count": null,
   "metadata": {},
   "outputs": [],
   "source": [
    "## O modelo_v1 apresentou os melhores resultados. O df_final apresenta a coluna 'cluster' indicando cada cliente num dos 4 clusters obtidos.\n"
   ]
  },
  {
   "cell_type": "code",
   "execution_count": null,
   "metadata": {},
   "outputs": [],
   "source": [
    "# Fim"
   ]
  },
  {
   "cell_type": "markdown",
   "metadata": {},
   "source": [
    "### Verificando a relação entre atributos"
   ]
  },
  {
   "cell_type": "code",
   "execution_count": null,
   "metadata": {},
   "outputs": [],
   "source": [
    "# Criando a tabela de contingência em números absolutos\n",
    "tabela_contingencia = pd.crosstab(df['Period'], df['Status']) \n",
    "\n",
    "print(tabela_contingencia)"
   ]
  },
  {
   "cell_type": "code",
   "execution_count": null,
   "metadata": {},
   "outputs": [],
   "source": [
    "# Criando a tabela de contingência em porcentagem\n",
    "tabela_contingencia_perc = pd.crosstab(df['Period'], df['Status'], normalize='index') * 100\n",
    "# Arredondando para 2 dígitos após a vírgula\n",
    "tabela_contingencia_perc = tabela_contingencia_perc.round(2)\n",
    "print(tabela_contingencia_perc)"
   ]
  },
  {
   "cell_type": "code",
   "execution_count": null,
   "metadata": {},
   "outputs": [],
   "source": [
    "# Atrasos independem se está no pico ou fora de pico "
   ]
  },
  {
   "cell_type": "code",
   "execution_count": null,
   "metadata": {},
   "outputs": [],
   "source": []
  },
  {
   "cell_type": "code",
   "execution_count": null,
   "metadata": {},
   "outputs": [],
   "source": []
  },
  {
   "cell_type": "markdown",
   "metadata": {},
   "source": [
    "## 7 - Pré-Processamento de Dados Para Construção de Modelos de Machine Learning"
   ]
  },
  {
   "cell_type": "code",
   "execution_count": null,
   "metadata": {},
   "outputs": [],
   "source": [
    "df.shape"
   ]
  },
  {
   "cell_type": "code",
   "execution_count": null,
   "metadata": {},
   "outputs": [],
   "source": [
    "# Verificando valores ausentes\n",
    "numero_ausentes = df.isnull().sum()\n",
    "print('A quantidade de valores ausentes em cada coluna é:\\n', numero_ausentes)"
   ]
  },
  {
   "cell_type": "code",
   "execution_count": null,
   "metadata": {},
   "outputs": [],
   "source": [
    "# Excluindo valores ausentes apenas nas colunas 'Period' e 'Status'\n",
    "df_1 = df.dropna(subset=['Minutes_Late'])"
   ]
  },
  {
   "cell_type": "code",
   "execution_count": null,
   "metadata": {},
   "outputs": [],
   "source": [
    "df_1.isnull().sum()"
   ]
  },
  {
   "cell_type": "code",
   "execution_count": null,
   "metadata": {},
   "outputs": [],
   "source": [
    "# Verifica registros duplicados (remove uma das duplicatas)\n",
    "numero_duplicados = df.duplicated().sum()\n",
    "print('A quantidade de valores duplicados é: ', numero_duplicados)"
   ]
  },
  {
   "cell_type": "code",
   "execution_count": null,
   "metadata": {},
   "outputs": [],
   "source": [
    "#Tratamento de outliers"
   ]
  },
  {
   "cell_type": "code",
   "execution_count": null,
   "metadata": {},
   "outputs": [],
   "source": [
    "# Boxplot\n",
    "sns.boxplot(df.Pregnancies)"
   ]
  },
  {
   "cell_type": "code",
   "execution_count": null,
   "metadata": {},
   "outputs": [],
   "source": [
    "# Boxplot\n",
    "sns.boxplot(df.Glucose)"
   ]
  },
  {
   "cell_type": "code",
   "execution_count": null,
   "metadata": {},
   "outputs": [],
   "source": [
    "# Boxplot\n",
    "sns.boxplot(df.BloodPressure )"
   ]
  },
  {
   "cell_type": "code",
   "execution_count": null,
   "metadata": {},
   "outputs": [],
   "source": [
    "# Boxplot\n",
    "sns.boxplot(df.SkinThickness)"
   ]
  },
  {
   "cell_type": "code",
   "execution_count": null,
   "metadata": {},
   "outputs": [],
   "source": [
    "# Boxplot\n",
    "sns.boxplot(df.Insulin )"
   ]
  },
  {
   "cell_type": "code",
   "execution_count": null,
   "metadata": {},
   "outputs": [],
   "source": [
    "# Boxplot\n",
    "sns.boxplot(df.BMI  )"
   ]
  },
  {
   "cell_type": "code",
   "execution_count": null,
   "metadata": {},
   "outputs": [],
   "source": [
    "# Boxplot\n",
    "sns.boxplot(df.DiabetesPedigreeFunction)"
   ]
  },
  {
   "cell_type": "code",
   "execution_count": null,
   "metadata": {},
   "outputs": [],
   "source": [
    "# Boxplot\n",
    "sns.boxplot(df.Age)"
   ]
  },
  {
   "cell_type": "code",
   "execution_count": null,
   "metadata": {},
   "outputs": [],
   "source": [
    "#outliers - variável Pregnancies\n",
    "# Calcular os quartis\n",
    "Q1 = df['Pregnancies'].quantile(0.25)\n",
    "Q3 = df['Pregnancies'].quantile(0.75)\n",
    "\n",
    "# Calcular o intervalo interquartil (IQR)\n",
    "IQR = Q3 - Q1\n",
    "\n",
    "# Definir limites para identificar outliers\n",
    "limite_inferior = Q1 - 1.5 * IQR\n",
    "limite_superior = Q3 + 1.5 * IQR\n",
    "\n",
    "# Identificar outliers\n",
    "outliers_inferiores = df[df['Pregnancies'] < limite_inferior]\n",
    "outliers_superiores = df[df['Pregnancies'] > limite_superior]\n",
    "\n",
    "# Contar a quantidade de outliers inferiores e superiores\n",
    "quantidade_outliers_inferiores = len(outliers_inferiores)\n",
    "quantidade_outliers_superiores = len(outliers_superiores)\n",
    "\n",
    "print(\"Quantidade de outliers inferiores:\", quantidade_outliers_inferiores)\n",
    "print(\"Quantidade de outliers superiores:\", quantidade_outliers_superiores)\n"
   ]
  },
  {
   "cell_type": "code",
   "execution_count": null,
   "metadata": {},
   "outputs": [],
   "source": [
    "# Decisão: Manter os outliers"
   ]
  },
  {
   "cell_type": "code",
   "execution_count": null,
   "metadata": {},
   "outputs": [],
   "source": [
    "#outliers - variável Glucose\n",
    "# Calcular os quartis\n",
    "Q1 = df['Glucose'].quantile(0.25)\n",
    "Q3 = df['Glucose'].quantile(0.75)\n",
    "\n",
    "# Calcular o intervalo interquartil (IQR)\n",
    "IQR = Q3 - Q1\n",
    "\n",
    "# Definir limites para identificar outliers\n",
    "limite_inferior = Q1 - 1.5 * IQR\n",
    "limite_superior = Q3 + 1.5 * IQR\n",
    "\n",
    "# Identificar outliers\n",
    "outliers_inferiores = df[df['Glucose'] < limite_inferior]\n",
    "outliers_superiores = df[df['Glucose'] > limite_superior]\n",
    "\n",
    "# Contar a quantidade de outliers inferiores e superiores\n",
    "quantidade_outliers_inferiores = len(outliers_inferiores)\n",
    "quantidade_outliers_superiores = len(outliers_superiores)\n",
    "\n",
    "print(\"Quantidade de outliers inferiores:\", quantidade_outliers_inferiores)\n",
    "print(\"Quantidade de outliers superiores:\", quantidade_outliers_superiores)\n"
   ]
  },
  {
   "cell_type": "code",
   "execution_count": null,
   "metadata": {},
   "outputs": [],
   "source": [
    "# Decisão: Manter os outliers"
   ]
  },
  {
   "cell_type": "code",
   "execution_count": null,
   "metadata": {},
   "outputs": [],
   "source": [
    "#outliers - variável BloodPressure\n",
    "# Calcular os quartis\n",
    "Q1 = df['BloodPressure'].quantile(0.25)\n",
    "Q3 = df['BloodPressure'].quantile(0.75)\n",
    "\n",
    "# Calcular o intervalo interquartil (IQR)\n",
    "IQR = Q3 - Q1\n",
    "\n",
    "# Definir limites para identificar outliers\n",
    "limite_inferior = Q1 - 1.5 * IQR\n",
    "limite_superior = Q3 + 1.5 * IQR\n",
    "\n",
    "# Identificar outliers\n",
    "outliers_inferiores = df[df['BloodPressure'] < limite_inferior]\n",
    "outliers_superiores = df[df['BloodPressure'] > limite_superior]\n",
    "\n",
    "# Contar a quantidade de outliers inferiores e superiores\n",
    "quantidade_outliers_inferiores = len(outliers_inferiores)\n",
    "quantidade_outliers_superiores = len(outliers_superiores)\n",
    "\n",
    "print(\"Quantidade de outliers inferiores:\", quantidade_outliers_inferiores)\n",
    "print(\"Quantidade de outliers superiores:\", quantidade_outliers_superiores)\n"
   ]
  },
  {
   "cell_type": "code",
   "execution_count": null,
   "metadata": {},
   "outputs": [],
   "source": [
    "# Decisão: Manter os outliers"
   ]
  },
  {
   "cell_type": "code",
   "execution_count": null,
   "metadata": {},
   "outputs": [],
   "source": [
    "#outliers - variável SkinThickness\n",
    "# Calcular os quartis\n",
    "Q1 = df['SkinThickness'].quantile(0.25)\n",
    "Q3 = df['SkinThickness'].quantile(0.75)\n",
    "\n",
    "# Calcular o intervalo interquartil (IQR)\n",
    "IQR = Q3 - Q1\n",
    "\n",
    "# Definir limites para identificar outliers\n",
    "limite_inferior = Q1 - 1.5 * IQR\n",
    "limite_superior = Q3 + 1.5 * IQR\n",
    "\n",
    "# Identificar outliers\n",
    "outliers_inferiores = df[df['SkinThickness'] < limite_inferior]\n",
    "outliers_superiores = df[df['SkinThickness'] > limite_superior]\n",
    "\n",
    "# Contar a quantidade de outliers inferiores e superiores\n",
    "quantidade_outliers_inferiores = len(outliers_inferiores)\n",
    "quantidade_outliers_superiores = len(outliers_superiores)\n",
    "\n",
    "print(\"Quantidade de outliers inferiores:\", quantidade_outliers_inferiores)\n",
    "print(\"Quantidade de outliers superiores:\", quantidade_outliers_superiores)\n"
   ]
  },
  {
   "cell_type": "code",
   "execution_count": null,
   "metadata": {},
   "outputs": [],
   "source": [
    "# Decisão: Manter o outlier\n",
    "       "
   ]
  },
  {
   "cell_type": "code",
   "execution_count": null,
   "metadata": {},
   "outputs": [],
   "source": [
    "#outliers - variável Insulin\n",
    "# Calcular os quartis\n",
    "Q1 = df['Insulin'].quantile(0.25)\n",
    "Q3 = df['Insulin'].quantile(0.75)\n",
    "\n",
    "# Calcular o intervalo interquartil (IQR)\n",
    "IQR = Q3 - Q1\n",
    "\n",
    "# Definir limites para identificar outliers\n",
    "limite_inferior = Q1 - 1.5 * IQR\n",
    "limite_superior = Q3 + 1.5 * IQR\n",
    "\n",
    "# Identificar outliers\n",
    "outliers_inferiores = df[df['Insulin'] < limite_inferior]\n",
    "outliers_superiores = df[df['Insulin'] > limite_superior]\n",
    "\n",
    "# Contar a quantidade de outliers inferiores e superiores\n",
    "quantidade_outliers_inferiores = len(outliers_inferiores)\n",
    "quantidade_outliers_superiores = len(outliers_superiores)\n",
    "\n",
    "print(\"Quantidade de outliers inferiores:\", quantidade_outliers_inferiores)\n",
    "print(\"Quantidade de outliers superiores:\", quantidade_outliers_superiores)\n"
   ]
  },
  {
   "cell_type": "code",
   "execution_count": null,
   "metadata": {},
   "outputs": [],
   "source": [
    " # Decisão: Manter os outliers"
   ]
  },
  {
   "cell_type": "code",
   "execution_count": null,
   "metadata": {},
   "outputs": [],
   "source": [
    "#outliers - variável BMI\n",
    "# Calcular os quartis\n",
    "Q1 = df['BMI'].quantile(0.25)\n",
    "Q3 = df['BMI'].quantile(0.75)\n",
    "\n",
    "# Calcular o intervalo interquartil (IQR)\n",
    "IQR = Q3 - Q1\n",
    "\n",
    "# Definir limites para identificar outliers\n",
    "limite_inferior = Q1 - 1.5 * IQR\n",
    "limite_superior = Q3 + 1.5 * IQR\n",
    "\n",
    "# Identificar outliers\n",
    "outliers_inferiores = df[df['BMI'] < limite_inferior]\n",
    "outliers_superiores = df[df['BMI'] > limite_superior]\n",
    "\n",
    "# Contar a quantidade de outliers inferiores e superiores\n",
    "quantidade_outliers_inferiores = len(outliers_inferiores)\n",
    "quantidade_outliers_superiores = len(outliers_superiores)\n",
    "\n",
    "print(\"Quantidade de outliers inferiores:\", quantidade_outliers_inferiores)\n",
    "print(\"Quantidade de outliers superiores:\", quantidade_outliers_superiores)\n"
   ]
  },
  {
   "cell_type": "code",
   "execution_count": null,
   "metadata": {},
   "outputs": [],
   "source": [
    "# Decisão: Manter os outliers"
   ]
  },
  {
   "cell_type": "code",
   "execution_count": null,
   "metadata": {},
   "outputs": [],
   "source": [
    "#outliers - variável DiabetesPedigreeFunction\n",
    "# Calcular os quartis\n",
    "Q1 = df['DiabetesPedigreeFunction'].quantile(0.25)\n",
    "Q3 = df['DiabetesPedigreeFunction'].quantile(0.75)\n",
    "\n",
    "# Calcular o intervalo interquartil (IQR)\n",
    "IQR = Q3 - Q1\n",
    "\n",
    "# Definir limites para identificar outliers\n",
    "limite_inferior = Q1 - 1.5 * IQR\n",
    "limite_superior = Q3 + 1.5 * IQR\n",
    "\n",
    "# Identificar outliers\n",
    "outliers_inferiores = df[df['DiabetesPedigreeFunction'] < limite_inferior]\n",
    "outliers_superiores = df[df['DiabetesPedigreeFunction'] > limite_superior]\n",
    "\n",
    "# Contar a quantidade de outliers inferiores e superiores\n",
    "quantidade_outliers_inferiores = len(outliers_inferiores)\n",
    "quantidade_outliers_superiores = len(outliers_superiores)\n",
    "\n",
    "print(\"Quantidade de outliers inferiores:\", quantidade_outliers_inferiores)\n",
    "print(\"Quantidade de outliers superiores:\", quantidade_outliers_superiores)\n"
   ]
  },
  {
   "cell_type": "code",
   "execution_count": null,
   "metadata": {},
   "outputs": [],
   "source": [
    "# Decisão: Manter os outliers"
   ]
  },
  {
   "cell_type": "code",
   "execution_count": null,
   "metadata": {},
   "outputs": [],
   "source": [
    "#outliers - variável Age\n",
    "# Calcular os quartis\n",
    "Q1 = df['Age'].quantile(0.25)\n",
    "Q3 = df['Age'].quantile(0.75)\n",
    "\n",
    "# Calcular o intervalo interquartil (IQR)\n",
    "IQR = Q3 - Q1\n",
    "\n",
    "# Definir limites para identificar outliers\n",
    "limite_inferior = Q1 - 1.5 * IQR\n",
    "limite_superior = Q3 + 1.5 * IQR\n",
    "\n",
    "# Identificar outliers\n",
    "outliers_inferiores = df[df['Age'] < limite_inferior]\n",
    "outliers_superiores = df[df['Age'] > limite_superior]\n",
    "\n",
    "# Contar a quantidade de outliers inferiores e superiores\n",
    "quantidade_outliers_inferiores = len(outliers_inferiores)\n",
    "quantidade_outliers_superiores = len(outliers_superiores)\n",
    "\n",
    "print(\"Quantidade de outliers inferiores:\", quantidade_outliers_inferiores)\n",
    "print(\"Quantidade de outliers superiores:\", quantidade_outliers_superiores)\n"
   ]
  },
  {
   "cell_type": "code",
   "execution_count": null,
   "metadata": {},
   "outputs": [],
   "source": [
    "# Decisão: Manter os outliers"
   ]
  },
  {
   "cell_type": "markdown",
   "metadata": {},
   "source": [
    "### Balanceando os dados de saída"
   ]
  },
  {
   "cell_type": "code",
   "execution_count": null,
   "metadata": {},
   "outputs": [],
   "source": [
    "# Vamos fazer o Under sampling para este balanceamento\n",
    "\n",
    "# Separar features e target\n",
    "X = df.drop('Outcome', axis=1)\n",
    "y = df['Outcome']\n",
    "\n",
    "# Criar o objeto RandomUnderSampler para balancear as classes\n",
    "rus = RandomUnderSampler(random_state=42)\n",
    "\n",
    "# Aplicar o undersampling aos dados\n",
    "X_resampled, y_resampled = rus.fit_resample(X, y)\n",
    "\n",
    "# Converter os dados balanceados de volta para DataFrame\n",
    "df_balanceado = pd.DataFrame(X_resampled, columns=X.columns)\n",
    "df_balanceado['Outcome'] = y_resampled\n",
    "\n",
    "# Visualizar o DataFrame balanceado\n",
    "#print(df_balanceado)\n",
    "\n",
    "# novo shape após balanceamento\n",
    "df_balanceado.shape\n"
   ]
  },
  {
   "cell_type": "code",
   "execution_count": null,
   "metadata": {},
   "outputs": [],
   "source": [
    "# Quantidade de respostas com e sem diabetes balanceada\n",
    "df_balanceado['Outcome'].value_counts()"
   ]
  },
  {
   "cell_type": "markdown",
   "metadata": {},
   "source": [
    "# 8 - Construção, Treinamento e Avaliação do Modelo 1 com Regressão Logística (Benchmark)\n"
   ]
  },
  {
   "cell_type": "code",
   "execution_count": null,
   "metadata": {},
   "outputs": [],
   "source": [
    "# Preparando os dados de treino e teste\n",
    "# X = df.drop(columns='Outcome')\n",
    "# y = df['Outcome']\n",
    "\n",
    "X = df_balanceado.drop(columns='Outcome')\n",
    "y = df_balanceado['Outcome']\n",
    "X_treino, X_teste, y_treino, y_teste = train_test_split(X, y, test_size=0.2, random_state=10)"
   ]
  },
  {
   "cell_type": "markdown",
   "metadata": {},
   "source": [
    "### Padronização"
   ]
  },
  {
   "cell_type": "code",
   "execution_count": null,
   "metadata": {},
   "outputs": [],
   "source": [
    "scaler = StandardScaler()"
   ]
  },
  {
   "cell_type": "code",
   "execution_count": null,
   "metadata": {},
   "outputs": [],
   "source": [
    "scaler.fit(X_treino)"
   ]
  },
  {
   "cell_type": "code",
   "execution_count": null,
   "metadata": {},
   "outputs": [],
   "source": [
    "X_treino = scaler.transform(X_treino)"
   ]
  },
  {
   "cell_type": "code",
   "execution_count": null,
   "metadata": {},
   "outputs": [],
   "source": [
    "X_teste = scaler.transform(X_teste)"
   ]
  },
  {
   "cell_type": "code",
   "execution_count": null,
   "metadata": {},
   "outputs": [],
   "source": [
    "X_treino[:5]"
   ]
  },
  {
   "cell_type": "code",
   "execution_count": null,
   "metadata": {},
   "outputs": [],
   "source": [
    "X_teste[:5]"
   ]
  },
  {
   "cell_type": "markdown",
   "metadata": {},
   "source": [
    "## 8.1 - Modelo de Regressão Logística"
   ]
  },
  {
   "cell_type": "code",
   "execution_count": null,
   "metadata": {},
   "outputs": [],
   "source": [
    "# Cria o modelo\n",
    "modelo_v1 = LogisticRegression()"
   ]
  },
  {
   "cell_type": "code",
   "execution_count": null,
   "metadata": {},
   "outputs": [],
   "source": [
    "# Treinamento\n",
    "modelo_v1.fit(X_treino, y_treino)"
   ]
  },
  {
   "cell_type": "code",
   "execution_count": null,
   "metadata": {},
   "outputs": [],
   "source": [
    "# Avaliação do Modelo\n",
    "\n",
    "Previsao = modelo_v1.predict(X_teste)\n",
    "print('Matriz Confusão: \\n', confusion_matrix(y_teste, Previsao), '\\n')"
   ]
  },
  {
   "cell_type": "code",
   "execution_count": null,
   "metadata": {},
   "outputs": [],
   "source": [
    "# Métricas de Classificação - Relatório de Classificação\n",
    "print('Relatório de Classificação - Regressão Logistica: \\n', classification_report(y_teste, Previsao))"
   ]
  },
  {
   "cell_type": "code",
   "execution_count": null,
   "metadata": {},
   "outputs": [],
   "source": [
    "# Previsão Balanceada\n",
    "print('Score (Treino): ', round(modelo_v1.score(X_treino, y_treino), 2))\n",
    "print('Score (Teste): ', round(modelo_v1.score(X_teste, y_teste), 2))"
   ]
  },
  {
   "cell_type": "code",
   "execution_count": null,
   "metadata": {},
   "outputs": [],
   "source": [
    "# Fazer previsões no conjunto de teste\n",
    "y_pred = modelo_v1.predict(X_teste)"
   ]
  },
  {
   "cell_type": "code",
   "execution_count": null,
   "metadata": {},
   "outputs": [],
   "source": [
    "# Avaliar a precisão do modelo\n",
    "accuracy_v1 = accuracy_score(y_teste, y_pred)\n",
    "print(\"Accuracy:\", accuracy_v1)"
   ]
  },
  {
   "cell_type": "markdown",
   "metadata": {},
   "source": [
    "## 8.2 - Modelo de Random Forest"
   ]
  },
  {
   "cell_type": "code",
   "execution_count": null,
   "metadata": {},
   "outputs": [],
   "source": [
    "# Cria o modelo\n",
    "modelo_v2 = RandomForestClassifier(max_depth=3)"
   ]
  },
  {
   "cell_type": "code",
   "execution_count": null,
   "metadata": {},
   "outputs": [],
   "source": [
    "# Treinamento\n",
    "modelo_v2.fit(X_treino, y_treino)"
   ]
  },
  {
   "cell_type": "code",
   "execution_count": null,
   "metadata": {},
   "outputs": [],
   "source": [
    "# Avaliação do modelo\n",
    "Previsao_forest = modelo_v2.predict(X_teste)\n",
    "print('Relatório de Classificação - Random Forest: \\n', classification_report(y_teste, Previsao_forest))"
   ]
  },
  {
   "cell_type": "code",
   "execution_count": null,
   "metadata": {},
   "outputs": [],
   "source": [
    "# Fazer previsões no conjunto de teste\n",
    "y_pred = modelo_v2.predict(X_teste)"
   ]
  },
  {
   "cell_type": "code",
   "execution_count": null,
   "metadata": {},
   "outputs": [],
   "source": [
    "# Avaliar a precisão do modelo\n",
    "accuracy_v2 = accuracy_score(y_teste, y_pred)\n",
    "print(\"Accuracy:\", accuracy_v2)"
   ]
  },
  {
   "cell_type": "markdown",
   "metadata": {},
   "source": [
    "## 8.3 - Modelo de SVM"
   ]
  },
  {
   "cell_type": "code",
   "execution_count": null,
   "metadata": {},
   "outputs": [],
   "source": [
    "# Cria o modelo\n",
    "modelo_v3 = SVC(kernel='linear')"
   ]
  },
  {
   "cell_type": "code",
   "execution_count": null,
   "metadata": {},
   "outputs": [],
   "source": [
    "# Treinamento\n",
    "modelo_v3.fit(X_treino, y_treino)"
   ]
  },
  {
   "cell_type": "code",
   "execution_count": null,
   "metadata": {},
   "outputs": [],
   "source": [
    "# Avaliação do modelo\n",
    "Previsao_svm = modelo_v3.predict(X_teste)\n",
    "print('Relatório de Classificação - SVM: \\n', classification_report(y_teste, Previsao_svm))"
   ]
  },
  {
   "cell_type": "code",
   "execution_count": null,
   "metadata": {},
   "outputs": [],
   "source": [
    "# Fazer previsões no conjunto de teste\n",
    "y_pred = modelo_v3.predict(X_teste)"
   ]
  },
  {
   "cell_type": "code",
   "execution_count": null,
   "metadata": {},
   "outputs": [],
   "source": [
    "# Avaliar a precisão do modelo\n",
    "accuracy_v3 = accuracy_score(y_teste, y_pred)\n",
    "print(\"Accuracy:\", accuracy_v3)"
   ]
  },
  {
   "cell_type": "markdown",
   "metadata": {},
   "source": [
    "## 8.4 - Modelo de Rede Neural"
   ]
  },
  {
   "cell_type": "code",
   "execution_count": null,
   "metadata": {},
   "outputs": [],
   "source": [
    "# Criar o modelo\n",
    "modelo_v4 = MLPClassifier(hidden_layer_sizes=(100, 50), max_iter=500, activation='relu', solver='adam', random_state=42)"
   ]
  },
  {
   "cell_type": "code",
   "execution_count": null,
   "metadata": {},
   "outputs": [],
   "source": [
    "# Treinamento\n",
    "modelo_v4.fit(X_treino, y_treino)"
   ]
  },
  {
   "cell_type": "code",
   "execution_count": null,
   "metadata": {},
   "outputs": [],
   "source": [
    "# Avaliação do modelo\n",
    "Previsao_rn = modelo_v4.predict(X_teste)\n",
    "print('Relatório de Classificação - Rede Neural: \\n', classification_report(y_teste, Previsao_rn))"
   ]
  },
  {
   "cell_type": "code",
   "execution_count": null,
   "metadata": {},
   "outputs": [],
   "source": [
    "# Treinamento\n",
    "modelo_v4.fit(X_treino, y_treino)"
   ]
  },
  {
   "cell_type": "code",
   "execution_count": null,
   "metadata": {},
   "outputs": [],
   "source": [
    "# Fazer previsões no conjunto de teste\n",
    "y_pred = modelo_v4.predict(X_teste)"
   ]
  },
  {
   "cell_type": "code",
   "execution_count": null,
   "metadata": {},
   "outputs": [],
   "source": [
    "# Avaliar a precisão do modelo\n",
    "accuracy_v4 = accuracy_score(y_teste, y_pred)\n",
    "print(\"Accuracy:\", accuracy_v4)"
   ]
  },
  {
   "cell_type": "markdown",
   "metadata": {},
   "source": [
    "## 8.5 - Modelo de XGBOOST"
   ]
  },
  {
   "cell_type": "code",
   "execution_count": null,
   "metadata": {},
   "outputs": [],
   "source": [
    "# Criar o modelo\n",
    "modelo_v5 = XGBClassifier(learning_rate=0.01, n_estimators=1000, max_depth=3, random_state=42)"
   ]
  },
  {
   "cell_type": "code",
   "execution_count": null,
   "metadata": {},
   "outputs": [],
   "source": [
    "# Treinamento\n",
    "modelo_v5.fit(X_treino, y_treino)"
   ]
  },
  {
   "cell_type": "code",
   "execution_count": null,
   "metadata": {},
   "outputs": [],
   "source": [
    "# Fazer previsões no conjunto de teste\n",
    "y_pred = modelo_v5.predict(X_teste)"
   ]
  },
  {
   "cell_type": "code",
   "execution_count": null,
   "metadata": {},
   "outputs": [],
   "source": [
    "# Avaliação do modelo\n",
    "Previsao_xgboost = modelo_v5.predict(X_teste)\n",
    "print('Relatório de Classificação - XGBOOST: \\n', classification_report(y_teste, Previsao_xgboost))"
   ]
  },
  {
   "cell_type": "code",
   "execution_count": null,
   "metadata": {},
   "outputs": [],
   "source": [
    "# Avaliar a precisão do modelo\n",
    "accuracy_v5 = accuracy_score(y_teste, y_pred)\n",
    "print(\"Accuracy:\", accuracy_v5)"
   ]
  },
  {
   "cell_type": "markdown",
   "metadata": {},
   "source": [
    "## 8.6 - Modelo de LIGHTGBM"
   ]
  },
  {
   "cell_type": "code",
   "execution_count": null,
   "metadata": {},
   "outputs": [],
   "source": [
    "# Criar o modelo\n",
    "modelo_v6 = LGBMClassifier(learning_rate=0.01, n_estimators=1000, max_depth=3, random_state=42)"
   ]
  },
  {
   "cell_type": "code",
   "execution_count": null,
   "metadata": {},
   "outputs": [],
   "source": [
    "# Treinamento\n",
    "modelo_v6.fit(X_treino, y_treino)"
   ]
  },
  {
   "cell_type": "code",
   "execution_count": null,
   "metadata": {},
   "outputs": [],
   "source": [
    "# Fazer previsões no conjunto de teste\n",
    "y_pred = modelo_v6.predict(X_teste)"
   ]
  },
  {
   "cell_type": "code",
   "execution_count": null,
   "metadata": {},
   "outputs": [],
   "source": [
    "# Avaliação do modelo\n",
    "Previsao_lightGBM = modelo_v6.predict(X_teste)\n",
    "print('Relatório de Classificação - XGBOOST: \\n', classification_report(y_teste, Previsao_lightGBM))"
   ]
  },
  {
   "cell_type": "code",
   "execution_count": null,
   "metadata": {},
   "outputs": [],
   "source": [
    "# Avaliar a precisão do modelo\n",
    "accuracy_v6 = accuracy_score(y_teste, y_pred)\n",
    "print(\"Accuracy:\", accuracy_v6)"
   ]
  },
  {
   "cell_type": "code",
   "execution_count": null,
   "metadata": {},
   "outputs": [],
   "source": [
    "print('A acurácia do modelo_v1 (Regressão Logística) é:\\n', accuracy_v1)\n",
    "print('A acurácia do modelo_v2 (Random Forest) é:\\n', accuracy_v2)\n",
    "print('A acurácia do modelo_v3 (SVM) é:\\n', accuracy_v3)\n",
    "print('A acurácia do modelo_v4 (Rede Neural) é:\\n', accuracy_v4)\n",
    "print('A acurácia do modelo_v5 (XGBOOST) é:\\n', accuracy_v5)\n",
    "print('A acurácia do modelo_v5 (LIGHTBGM) é:\\n', accuracy_v6)"
   ]
  },
  {
   "cell_type": "markdown",
   "metadata": {},
   "source": [
    "## Seleção do Modelo"
   ]
  },
  {
   "cell_type": "markdown",
   "metadata": {},
   "source": [
    "#### Os melhores modelos são v1 e v3. Neste caso, devemos procurar o modelo mais simples. Então seguiremos com o modelo_v1 Regressão Logística"
   ]
  },
  {
   "cell_type": "markdown",
   "metadata": {},
   "source": [
    "## 8.6 - Otimização do modelo"
   ]
  },
  {
   "cell_type": "markdown",
   "metadata": {},
   "source": [
    "### 8.6.1 - Otimização somente com mudança de hiperparâmetro"
   ]
  },
  {
   "cell_type": "code",
   "execution_count": null,
   "metadata": {},
   "outputs": [],
   "source": [
    "#obtem variáveis preditoras \n",
    "X = df_balanceado.drop(columns='Outcome')\n",
    "y = df_balanceado['Outcome']\n",
    "\n",
    "# Dividir os dados em conjuntos de treinamento e teste\n",
    "X_treino, X_teste, y_treino, y_teste = train_test_split(X, y, test_size=0.2, random_state=42)\n",
    "\n",
    "# Inicializar o classificador (Random Forest)\n",
    "clf = RandomForestClassifier()\n",
    "\n",
    "# Inicializar o seletor de características (RFE) com o classificador e o número de características desejadas\n",
    "rfe = RFE(estimator=clf, n_features_to_select=3, step=1)\n",
    "\n",
    "# Ajustar o seletor de características aos dados de treinamento\n",
    "rfe.fit(X_treino, y_treino)\n",
    "\n",
    "# Obter as características selecionadas\n",
    "selected_features = rfe.support_\n",
    "\n",
    "# Imprimir as características selecionadas\n",
    "print(\"Características selecionadas:\")\n",
    "for i in range(len(selected_features)):\n",
    "    if selected_features[i]:\n",
    "        print(f\"Feature {i}: {X.columns[i]}\")"
   ]
  },
  {
   "cell_type": "code",
   "execution_count": null,
   "metadata": {},
   "outputs": [],
   "source": [
    "#vamos novamente treinar só com estas variáveis\n",
    "df.columns"
   ]
  },
  {
   "cell_type": "code",
   "execution_count": null,
   "metadata": {},
   "outputs": [],
   "source": [
    "#X = df_balanceado.drop(columns=['Pregnancies','BloodPressure', 'SkinThickness', 'Insulin', 'Outcome'])\n",
    "X = df_balanceado[['Glucose', 'BMI', 'DiabetesPedigreeFunction']]\n",
    "y = df_balanceado['Outcome']\n",
    "X_treino, X_teste, y_treino, y_teste = train_test_split(X, y, test_size=0.2, random_state=10)"
   ]
  },
  {
   "cell_type": "code",
   "execution_count": null,
   "metadata": {},
   "outputs": [],
   "source": [
    "# Padronização\n",
    "scaler = StandardScaler()\n",
    "scaler.fit(X_treino)\n",
    "X_treino = scaler.transform(X_treino)\n",
    "X_teste = scaler.transform(X_teste)"
   ]
  },
  {
   "cell_type": "code",
   "execution_count": null,
   "metadata": {},
   "outputs": [],
   "source": [
    "# Cria o modelo\n",
    "modelo_v7 = LogisticRegression()\n",
    "# Treinamento\n",
    "modelo_v7.fit(X_treino, y_treino)"
   ]
  },
  {
   "cell_type": "code",
   "execution_count": null,
   "metadata": {},
   "outputs": [],
   "source": [
    "# Avaliação do Modelo\n",
    "Previsao = modelo_v7.predict(X_teste)\n",
    "print('Matriz Confusão: \\n', confusion_matrix(y_teste, Previsao), '\\n')"
   ]
  },
  {
   "cell_type": "code",
   "execution_count": null,
   "metadata": {},
   "outputs": [],
   "source": [
    "# Métricas de Classificação - Relatório de Classificação\n",
    "print('Relatório de Classificação - Regressão Logistica: \\n', classification_report(y_teste, Previsao))"
   ]
  },
  {
   "cell_type": "code",
   "execution_count": null,
   "metadata": {},
   "outputs": [],
   "source": [
    "# Fazer previsões no conjunto de teste\n",
    "y_pred = modelo_v7.predict(X_teste)\n",
    "# Avaliar a precisão do modelo\n",
    "accuracy_v7 = accuracy_score(y_teste, y_pred)\n",
    "print(\"Accuracy:\", accuracy_v7)"
   ]
  },
  {
   "cell_type": "code",
   "execution_count": null,
   "metadata": {},
   "outputs": [],
   "source": [
    "# tive uma acurácia um pouco menor com um modelo com menos variáveis preditoras, ou seja, mais simples"
   ]
  },
  {
   "cell_type": "code",
   "execution_count": null,
   "metadata": {},
   "outputs": [],
   "source": [
    "# Define lista de hiperparâmetros\n",
    "tuned_params_v8 = {'C': [0.0001, 0.001, 0.01, 0.1, 1, 10, 100, 1000, 10000], \n",
    "                   'penalty': ['l1', 'l2']}"
   ]
  },
  {
   "cell_type": "code",
   "execution_count": null,
   "metadata": {},
   "outputs": [],
   "source": [
    "# Criaremos o modelo com GridSearch \n",
    "# Vários modelos serão criados com diferentes combinações de hiperparâmetros\n",
    "modelo_v8 = GridSearchCV(LogisticRegression(), \n",
    "                         tuned_params_v8, \n",
    "                         scoring = 'accuracy', \n",
    "                         n_jobs = -1)"
   ]
  },
  {
   "cell_type": "code",
   "execution_count": null,
   "metadata": {},
   "outputs": [],
   "source": [
    "# Treinamento do modelo\n",
    "modelo_v8.fit(X_treino, y_treino)"
   ]
  },
  {
   "cell_type": "code",
   "execution_count": null,
   "metadata": {},
   "outputs": [],
   "source": [
    "# Selecionamos o melhor modelo\n",
    "modelo_v8.best_estimator_"
   ]
  },
  {
   "cell_type": "code",
   "execution_count": null,
   "metadata": {},
   "outputs": [],
   "source": [
    "# Previsões com dados de teste\n",
    "y_pred_v8 = modelo_v8.predict(X_teste)"
   ]
  },
  {
   "cell_type": "code",
   "execution_count": null,
   "metadata": {},
   "outputs": [],
   "source": [
    "# Mostra as 10 primeiras previsões\n",
    "y_pred_v8[:10]"
   ]
  },
  {
   "cell_type": "code",
   "execution_count": null,
   "metadata": {},
   "outputs": [],
   "source": [
    "# Obtemos as previsões no formato de probabilidade para cada classe\n",
    "y_pred_proba_v8 = modelo_v8.predict_proba(X_teste)"
   ]
  },
  {
   "cell_type": "code",
   "execution_count": null,
   "metadata": {},
   "outputs": [],
   "source": [
    "# Mostra as 10 primeiras previsões\n",
    "y_pred_proba_v8[:10]"
   ]
  },
  {
   "cell_type": "code",
   "execution_count": null,
   "metadata": {},
   "outputs": [],
   "source": [
    "# Obtemos as previsões no formato de probabilidade filtrando para a classe positiva\n",
    "# Precisamos disso para calcula a Curva ROC\n",
    "y_pred_proba_v8 = modelo_v8.predict_proba(X_teste)[:,1]"
   ]
  },
  {
   "cell_type": "code",
   "execution_count": null,
   "metadata": {},
   "outputs": [],
   "source": [
    "# Mostra as 10 primeiras previsões\n",
    "y_pred_proba_v8[:10]"
   ]
  },
  {
   "cell_type": "code",
   "execution_count": null,
   "metadata": {},
   "outputs": [],
   "source": [
    "# Matriz de confusão\n",
    "confusion_matrix(y_teste, y_pred_v8)"
   ]
  },
  {
   "cell_type": "code",
   "execution_count": null,
   "metadata": {},
   "outputs": [],
   "source": [
    "# Extraindo cada valor da CM\n",
    "tn, fp, fn, tp = confusion_matrix(y_teste, y_pred_v8).ravel()"
   ]
  },
  {
   "cell_type": "code",
   "execution_count": null,
   "metadata": {},
   "outputs": [],
   "source": [
    "# Calcula a métrica global AUC (Area Under The Curve) com dados reais e previsões em teste\n",
    "roc_auc_v8 = roc_auc_score(y_teste, y_pred_v8)\n",
    "print(roc_auc_v8)"
   ]
  },
  {
   "cell_type": "code",
   "execution_count": null,
   "metadata": {},
   "outputs": [],
   "source": [
    "# Calcula a curva ROC com dados e previsões em teste\n",
    "fpr_v8, tpr_v8, thresholds = roc_curve(y_teste, y_pred_proba_v8)"
   ]
  },
  {
   "cell_type": "code",
   "execution_count": null,
   "metadata": {},
   "outputs": [],
   "source": [
    "# AUC em teste\n",
    "auc_v8 = auc(fpr_v8, tpr_v8)\n",
    "print(auc_v8)"
   ]
  },
  {
   "cell_type": "code",
   "execution_count": null,
   "metadata": {},
   "outputs": [],
   "source": [
    "# Acurácia em teste\n",
    "acuracia_v8 = accuracy_score(y_teste, y_pred_v8)\n",
    "print(acuracia_v8)"
   ]
  },
  {
   "cell_type": "markdown",
   "metadata": {},
   "source": [
    "### 8.6.2 - Otimização excluindo outliers e buscando melhor hiperparâmetro"
   ]
  },
  {
   "cell_type": "code",
   "execution_count": null,
   "metadata": {},
   "outputs": [],
   "source": [
    "# Remover outliers - variável Glucose\n",
    "Q1 = df['Glucose'].quantile(0.25)\n",
    "Q3 = df['Glucose'].quantile(0.75)\n",
    "IQR = Q3 - Q1\n",
    "limite_inferior = Q1 - 1.5 * IQR\n",
    "limite_superior = Q3 + 1.5 * IQR\n",
    "df = df[(df['Glucose'] >= limite_inferior) & (df['Glucose'] <= limite_superior)]"
   ]
  },
  {
   "cell_type": "code",
   "execution_count": null,
   "metadata": {},
   "outputs": [],
   "source": [
    "# Remover outliers - variável BMI\n",
    "Q1 = df['BMI'].quantile(0.25)\n",
    "Q3 = df['BMI'].quantile(0.75)\n",
    "IQR = Q3 - Q1\n",
    "limite_inferior = Q1 - 1.5 * IQR\n",
    "limite_superior = Q3 + 1.5 * IQR\n",
    "df = df[(df['BMI'] >= limite_inferior) & (df['BMI'] <= limite_superior)]"
   ]
  },
  {
   "cell_type": "code",
   "execution_count": null,
   "metadata": {},
   "outputs": [],
   "source": [
    "# Remover outliers - variável DiabetesPedigreeFunction\n",
    "Q1 = df['DiabetesPedigreeFunction'].quantile(0.25)\n",
    "Q3 = df['DiabetesPedigreeFunction'].quantile(0.75)\n",
    "IQR = Q3 - Q1\n",
    "limite_inferior = Q1 - 1.5 * IQR\n",
    "limite_superior = Q3 + 1.5 * IQR\n",
    "df_sem_outliers = df[(df['DiabetesPedigreeFunction'] >= limite_inferior) & (df['DiabetesPedigreeFunction'] <= limite_superior)]"
   ]
  },
  {
   "cell_type": "code",
   "execution_count": null,
   "metadata": {},
   "outputs": [],
   "source": [
    "df_sem_outliers.shape"
   ]
  },
  {
   "cell_type": "code",
   "execution_count": null,
   "metadata": {},
   "outputs": [],
   "source": [
    "df_sem_outliers['Outcome'].value_counts()"
   ]
  },
  {
   "cell_type": "code",
   "execution_count": null,
   "metadata": {},
   "outputs": [],
   "source": [
    "# Vamos fazer o Under sampling para este balanceamento\n",
    "\n",
    "# Separar features e target\n",
    "X = df_sem_outliers.drop('Outcome', axis=1)\n",
    "y = df_sem_outliers['Outcome']\n",
    "\n",
    "# Criar o objeto RandomUnderSampler para balancear as classes\n",
    "rus = RandomUnderSampler(random_state=42)\n",
    "\n",
    "# Aplicar o undersampling aos dados\n",
    "X_resampled, y_resampled = rus.fit_resample(X, y)\n",
    "\n",
    "# Converter os dados balanceados de volta para DataFrame\n",
    "df_balanceado = pd.DataFrame(X_resampled, columns=X.columns)\n",
    "df_balanceado['Outcome'] = y_resampled\n",
    "\n",
    "# Visualizar o DataFrame balanceado\n",
    "#print(df_balanceado)\n",
    "\n",
    "# novo shape após balanceamento\n",
    "df_balanceado.shape"
   ]
  },
  {
   "cell_type": "code",
   "execution_count": null,
   "metadata": {},
   "outputs": [],
   "source": [
    "#X = df_balanceado.drop(columns=['Pregnancies','BloodPressure', 'SkinThickness', 'Insulin', 'Outcome'])\n",
    "X = df_balanceado[['Glucose', 'BMI', 'DiabetesPedigreeFunction']]\n",
    "y = df_balanceado['Outcome']\n",
    "X_treino, X_teste, y_treino, y_teste = train_test_split(X, y, test_size=0.2, random_state=10)"
   ]
  },
  {
   "cell_type": "code",
   "execution_count": null,
   "metadata": {},
   "outputs": [],
   "source": [
    "# Padronização\n",
    "scaler = StandardScaler()\n",
    "scaler.fit(X_treino)\n",
    "X_treino = scaler.transform(X_treino)\n",
    "X_teste = scaler.transform(X_teste)"
   ]
  },
  {
   "cell_type": "code",
   "execution_count": null,
   "metadata": {},
   "outputs": [],
   "source": [
    "# Define lista de hiperparâmetros\n",
    "tuned_params_v9 = {'C': [0.0001, 0.001, 0.01, 0.1, 1, 10, 100, 1000, 10000], \n",
    "                   'penalty': ['l1', 'l2']}"
   ]
  },
  {
   "cell_type": "code",
   "execution_count": null,
   "metadata": {},
   "outputs": [],
   "source": [
    "# Criaremos o modelo com GridSearch \n",
    "# Vários modelos serão criados com diferentes combinações de hiperparâmetros\n",
    "modelo_v9 = GridSearchCV(LogisticRegression(), \n",
    "                         tuned_params_v9, \n",
    "                         scoring = 'accuracy', \n",
    "                         n_jobs = -1)"
   ]
  },
  {
   "cell_type": "code",
   "execution_count": null,
   "metadata": {},
   "outputs": [],
   "source": [
    "# Treinamento do modelo\n",
    "modelo_v9.fit(X_treino, y_treino)"
   ]
  },
  {
   "cell_type": "code",
   "execution_count": null,
   "metadata": {},
   "outputs": [],
   "source": [
    "# Selecionamos o melhor modelo\n",
    "modelo_v9.best_estimator_\n",
    "# Previsões com dados de teste\n",
    "y_pred_v9 = modelo_v9.predict(X_teste)\n",
    "# Obtemos as previsões no formato de probabilidade filtrando para a classe positiva\n",
    "# Precisamos disso para calcula a Curva ROC\n",
    "y_pred_proba_v9 = modelo_v9.predict_proba(X_teste)[:,1]\n",
    "# Matriz de confusão\n",
    "confusion_matrix(y_teste, y_pred_v9)\n",
    "# Extraindo cada valor da CM\n",
    "tn, fp, fn, tp = confusion_matrix(y_teste, y_pred_v9).ravel()"
   ]
  },
  {
   "cell_type": "code",
   "execution_count": null,
   "metadata": {},
   "outputs": [],
   "source": [
    "# Calcula a métrica global AUC (Area Under The Curve) com dados reais e previsões em teste\n",
    "roc_auc_v9 = roc_auc_score(y_teste, y_pred_v9)\n",
    "print(roc_auc_v9)"
   ]
  },
  {
   "cell_type": "code",
   "execution_count": null,
   "metadata": {},
   "outputs": [],
   "source": [
    "# Calcula a curva ROC com dados e previsões em teste\n",
    "fpr_v9, tpr_v9, thresholds = roc_curve(y_teste, y_pred_proba_v9)"
   ]
  },
  {
   "cell_type": "code",
   "execution_count": null,
   "metadata": {},
   "outputs": [],
   "source": [
    "# AUC em teste\n",
    "auc_v9 = auc(fpr_v9, tpr_v9)\n",
    "print(auc_v9)"
   ]
  },
  {
   "cell_type": "code",
   "execution_count": null,
   "metadata": {},
   "outputs": [],
   "source": [
    "# Acurácia em teste\n",
    "acuracia_v9 = accuracy_score(y_teste, y_pred_v9)\n",
    "print(acuracia_v9)"
   ]
  },
  {
   "cell_type": "markdown",
   "metadata": {},
   "source": [
    "## Conclusão"
   ]
  },
  {
   "cell_type": "markdown",
   "metadata": {},
   "source": [
    "## O modelo_V8 foi o melhor utilizando somente as variáveis 'Glucose', 'BMI', 'DiabetesPedigreeFunction' como preditoras com uma acurácia de 74% que é aceitável diante da pouca quantidade de dados."
   ]
  },
  {
   "cell_type": "markdown",
   "metadata": {},
   "source": [
    "# Fim"
   ]
  }
 ],
 "metadata": {
  "kernelspec": {
   "display_name": "Python 3 (ipykernel)",
   "language": "python",
   "name": "python3"
  },
  "language_info": {
   "codemirror_mode": {
    "name": "ipython",
    "version": 3
   },
   "file_extension": ".py",
   "mimetype": "text/x-python",
   "name": "python",
   "nbconvert_exporter": "python",
   "pygments_lexer": "ipython3",
   "version": "3.12.4"
  }
 },
 "nbformat": 4,
 "nbformat_minor": 4
}
